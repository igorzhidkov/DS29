{
 "cells": [
  {
   "cell_type": "code",
   "execution_count": 78,
   "metadata": {
    "id": "9DkRAhvIkRK_"
   },
   "outputs": [],
   "source": [
    "documents = [\n",
    " {'type': 'passport', 'number': '2207 876234', 'name': 'Василий Гупкин'},\n",
    " {'type': 'invoice', 'number': '11-2', 'name': 'Геннадий Покемонов'},\n",
    " {'type': 'insurance', 'number': '10006', 'name': 'Аристарх Павлов'}\n",
    "]"
   ]
  },
  {
   "cell_type": "code",
   "execution_count": 3,
   "metadata": {
    "id": "2RaZhjSpkRSQ"
   },
   "outputs": [],
   "source": [
    "directories = {\n",
    "'1': ['2207 876234', '11-2'],\n",
    "'2': ['10006'],\n",
    "'3': []\n",
    "}"
   ]
  },
  {
   "cell_type": "code",
   "execution_count": 12,
   "metadata": {
    "colab": {
     "base_uri": "https://localhost:8080/"
    },
    "id": "pmQ74Q_XojMw",
    "outputId": "4e62713d-7ae3-4627-a30a-cabebf8103f7"
   },
   "outputs": [
    {
     "name": "stdout",
     "output_type": "stream",
     "text": [
      "Василий Гупкин\n",
      "2207 876234\n",
      "Геннадий Покемонов\n",
      "11-2\n",
      "Аристарх Павлов\n",
      "10006\n"
     ]
    }
   ],
   "source": [
    "for dictionary in documents:\n",
    "  print(dictionary['name'])\n",
    "  print(dictionary['number'])"
   ]
  },
  {
   "cell_type": "code",
   "execution_count": 91,
   "metadata": {
    "colab": {
     "base_uri": "https://localhost:8080/"
    },
    "id": "3_7SnuzlojaB",
    "outputId": "d9248e1d-04c7-448f-a643-d09ba2625c74"
   },
   "outputs": [
    {
     "name": "stdout",
     "output_type": "stream",
     "text": [
      "e\n",
      "nice\n"
     ]
    }
   ],
   "source": [
    "com_in = str(input())\n",
    "while com_in == \"e\":\n",
    " print ('nice')\n",
    " break\n",
    "while com_in == \"r\":\n",
    "  print ('supnice')\n",
    "  break"
   ]
  },
  {
   "cell_type": "code",
   "execution_count": null,
   "metadata": {
    "id": "qJS70Wjsojft"
   },
   "outputs": [],
   "source": []
  },
  {
   "cell_type": "code",
   "execution_count": null,
   "metadata": {
    "id": "jBk7Hd-uojmJ"
   },
   "outputs": [],
   "source": []
  },
  {
   "cell_type": "markdown",
   "metadata": {
    "id": "EV-QHviD76jA"
   },
   "source": [
    "**point 1**\n"
   ]
  },
  {
   "cell_type": "code",
   "execution_count": 89,
   "metadata": {
    "colab": {
     "base_uri": "https://localhost:8080/"
    },
    "id": "Bl4nDAOwkRV_",
    "outputId": "39be9621-50d3-489b-e19a-18b3cf044b3e"
   },
   "outputs": [
    {
     "name": "stdout",
     "output_type": "stream",
     "text": [
      "p\n",
      "Insert number of doc: 10006\n",
      "doc owner:  Аристарх Павлов\n",
      "None\n"
     ]
    }
   ],
   "source": [
    "command_input = input()\n",
    "\n",
    "while command_input == 'p':\n",
    "  doc_num_input = str(input('Insert number of doc: '))\n",
    "  print (get_owner())\n",
    "  break \n"
   ]
  },
  {
   "cell_type": "code",
   "execution_count": 93,
   "metadata": {
    "colab": {
     "base_uri": "https://localhost:8080/"
    },
    "id": "LVCWgojskRZ8",
    "outputId": "5357aebb-81e0-44bb-9492-8702e4e3d28b"
   },
   "outputs": [
    {
     "name": "stdout",
     "output_type": "stream",
     "text": [
      "Insert number of doc: 10006\n",
      "doc owner:  Аристарх Павлов\n",
      "None\n"
     ]
    }
   ],
   "source": [
    "#узнать владельца по номеру (функция)\n",
    "doc_num_input = str(input('Insert number of doc: '))\n",
    "def get_owner ():\n",
    "    for dictionary in documents:\n",
    "        if doc_num_input == dictionary['number']:\n",
    "           print( 'doc owner: ', dictionary['name'])\n",
    "           return\n",
    "    print('doc not found')\n",
    "    return\n",
    "print(get_owner ())"
   ]
  },
  {
   "cell_type": "code",
   "execution_count": null,
   "metadata": {
    "colab": {
     "base_uri": "https://localhost:8080/",
     "height": 231
    },
    "id": "-uSlAN--3iEc",
    "outputId": "89c75f7d-ae9c-4f48-a33a-67e19657e332"
   },
   "outputs": [],
   "source": [
    "# узнать по номеру полку \n",
    "doc_num_input1 = str(input('Insert number of doc: '))\n",
    "def shelf_number():\n",
    "    for shelf, number in directories.items():\n",
    "  #print(shelf,number)\n",
    "       if doc_num_input1 in number:\n",
    "          print('Shelf number is ', shelf)\n",
    "    return\n",
    "    print('no doc')\n",
    "    return "
   ]
  },
  {
   "cell_type": "markdown",
   "metadata": {
    "id": "BlqwOoUh5w4b"
   },
   "source": []
  }
 ],
 "metadata": {
  "colab": {
   "collapsed_sections": [],
   "name": "HW4_funk.ipynb",
   "provenance": []
  },
  "kernelspec": {
   "display_name": "Python 3",
   "language": "python",
   "name": "python3"
  },
  "language_info": {
   "codemirror_mode": {
    "name": "ipython",
    "version": 3
   },
   "file_extension": ".py",
   "mimetype": "text/x-python",
   "name": "python",
   "nbconvert_exporter": "python",
   "pygments_lexer": "ipython3",
   "version": "3.8.5"
  }
 },
 "nbformat": 4,
 "nbformat_minor": 1
}
