{
 "cells": [
  {
   "cell_type": "code",
   "execution_count": 68,
   "metadata": {},
   "outputs": [
    {
     "name": "stdout",
     "output_type": "stream",
     "text": [
      "0\n",
      "100\n"
     ]
    }
   ],
   "source": [
    "def max_val(vector = [0]):\n",
    "    max_value = vector[0]\n",
    "    #note how we slice the input vector to exclude the first element\n",
    "    for x in vector[1:]:\n",
    "        if x>=max_value:\n",
    "            max_value = x\n",
    "    return max_value\n",
    "print(max_val())\n",
    "print(max_val([3,1,5,-2,100]))"
   ]
  },
  {
   "cell_type": "code",
   "execution_count": 18,
   "metadata": {},
   "outputs": [
    {
     "name": "stdout",
     "output_type": "stream",
     "text": [
      "0\n",
      "-2\n"
     ]
    }
   ],
   "source": [
    "def min_val(vector = [0]):\n",
    "    min_value = vector[0]\n",
    "    for x in vector[1:]:\n",
    "        if x <= min_value:\n",
    "            min_value = x\n",
    "    return min_value\n",
    "print(min_val())\n",
    "print(min_val([3,1,5,-2,100])) \n",
    "\n",
    "    \n",
    "    \n",
    "    \n",
    "    #vector1 = [1,2,3,4,5]\n",
    "    \n",
    "    #Вы не могли бы в письме обхяснить как работает данная функция определения минимального значения \n",
    "   \n",
    "    "
   ]
  },
  {
   "cell_type": "code",
   "execution_count": null,
   "metadata": {},
   "outputs": [],
   "source": [
    "#task 1"
   ]
  },
  {
   "cell_type": "code",
   "execution_count": 24,
   "metadata": {},
   "outputs": [
    {
     "name": "stdout",
     "output_type": "stream",
     "text": [
      "  Family Members Gender\n",
      "0           Nina      W\n",
      "1        Natasha      W\n",
      "2          Misha      M\n",
      "3           Igor      M\n",
      "  Family Members Gender  Age\n",
      "0           Nina      W   27\n",
      "1        Natasha      W   50\n",
      "2          Misha      M   62\n",
      "3           Igor      M   22\n"
     ]
    }
   ],
   "source": [
    "import pandas as pd\n",
    "family_members = \"Nina\", \"Natasha\", \"Misha\", \"Igor\"\n",
    "f_members_gend = \"W\",\"W\",\"M\",\"M\"\n",
    "\n",
    "data_frame_mem = pd.DataFrame({\"Family Members\": family_members , \n",
    "                           \"Gender\": f_members_gend })\n",
    "print (data_frame_mem)\n",
    "\n",
    "data_frame_mem[\"Age\"] = [27,50,62,22]\n",
    "print (data_frame_mem)"
   ]
  },
  {
   "cell_type": "code",
   "execution_count": null,
   "metadata": {},
   "outputs": [],
   "source": [
    "#Task 2"
   ]
  },
  {
   "cell_type": "code",
   "execution_count": 4,
   "metadata": {},
   "outputs": [
    {
     "name": "stdout",
     "output_type": "stream",
     "text": [
      "7\n"
     ]
    }
   ],
   "source": [
    "\n",
    "\n",
    "def sum_three(x, y, z):\n",
    "    sum_three = x + y + z\n",
    "    return sum_three\n",
    "\n",
    "print(sum_three(1, 1, 5))"
   ]
  },
  {
   "cell_type": "code",
   "execution_count": 5,
   "metadata": {},
   "outputs": [
    {
     "data": {
      "text/plain": [
       "''"
      ]
     },
     "execution_count": 5,
     "metadata": {},
     "output_type": "execute_result"
    }
   ],
   "source": [
    "#task 3 \n",
    "y= 'adfdat'\n",
    "y[::-1] == y\n",
    "\n",
    "y[:]"
   ]
  },
  {
   "cell_type": "code",
   "execution_count": 2,
   "metadata": {},
   "outputs": [
    {
     "name": "stdout",
     "output_type": "stream",
     "text": [
      "128\n"
     ]
    }
   ],
   "source": [
    "a = 6\n",
    "b = 5 \n",
    "n = 3 \n",
    "win = 0\n",
    "while n > 0 :\n",
    "    win = a*b + win \n",
    "    a+=1\n",
    "    b+=1\n",
    "    n-=1\n",
    "    \n",
    "    \n",
    "print (win)\n",
    "    "
   ]
  },
  {
   "cell_type": "code",
   "execution_count": null,
   "metadata": {},
   "outputs": [],
   "source": []
  }
 ],
 "metadata": {
  "kernelspec": {
   "display_name": "Python 3",
   "language": "python",
   "name": "python3"
  },
  "language_info": {
   "codemirror_mode": {
    "name": "ipython",
    "version": 3
   },
   "file_extension": ".py",
   "mimetype": "text/x-python",
   "name": "python",
   "nbconvert_exporter": "python",
   "pygments_lexer": "ipython3",
   "version": "3.8.5"
  }
 },
 "nbformat": 4,
 "nbformat_minor": 4
}
