{
 "cells": [
  {
   "cell_type": "code",
   "execution_count": 1,
   "metadata": {},
   "outputs": [],
   "source": [
    "%load_ext nbtutor\n"
   ]
  },
  {
   "cell_type": "code",
   "execution_count": 2,
   "metadata": {},
   "outputs": [
    {
     "name": "stderr",
     "output_type": "stream",
     "text": [
      "UsageError: %%nbtutor is a cell magic, but the cell body is empty.\n"
     ]
    }
   ],
   "source": [
    "%%nbtutor"
   ]
  },
  {
   "cell_type": "markdown",
   "metadata": {
    "id": "UiH8OVhgC1dT"
   },
   "source": [
    "# Задание 1"
   ]
  },
  {
   "cell_type": "code",
   "execution_count": 3,
   "metadata": {
    "id": "r2aYDrbpC1dX",
    "outputId": "6b2d70e5-a6cb-4a8e-b23b-c125de7cac07"
   },
   "outputs": [
    {
     "name": "nbtutor",
     "output_type": "stream",
     "text": [
      "Фразы равной длины\n"
     ]
    }
   ],
   "source": [
    "%%nbtutor\n",
    "\n",
    "phrase_1 = 'Насколько проще было бы писать программы, если бы не заказчики'\n",
    "phrase_2 = 'Насколько проще было бы писать программы, если бы не заказчики'\n",
    "\n",
    "if len(phrase_1) > len(phrase_2):\n",
    " print ('Фраза 1 длиннее фразы 2')\n",
    "\n",
    "elif len(phrase_1) < len(phrase_2):\n",
    " print ('Фраза 2 длиннее фразы 1')\n",
    "\n",
    "elif len(phrase_1) == len(phrase_2):\n",
    " print ('Фразы равной длины')\n",
    "\n",
    "\n",
    "\n",
    "\n",
    "\n"
   ]
  },
  {
   "cell_type": "markdown",
   "metadata": {
    "id": "5cB575GpC1da"
   },
   "source": [
    "# Задание 2 "
   ]
  },
  {
   "cell_type": "code",
   "execution_count": null,
   "metadata": {
    "id": "v6HZ2gJvC1da",
    "outputId": "02a99b41-a51d-49d8-b5e2-94245972c5ef"
   },
   "outputs": [
    {
     "name": "stdout",
     "output_type": "stream",
     "text": [
      "Високосный год\n"
     ]
    }
   ],
   "source": [
    "#task_1 \n",
    "\n",
    "year = 2020\n",
    "if year % 4 == 0:\n",
    "    print('Високосный год')\n"
   ]
  },
  {
   "cell_type": "code",
   "execution_count": 5,
   "metadata": {
    "colab": {
     "base_uri": "https://localhost:8080/"
    },
    "id": "1pO54_XOC1db",
    "outputId": "240888eb-f51d-4497-da95-244847372612"
   },
   "outputs": [
    {
     "name": "stdout",
     "output_type": "stream",
     "text": [
      "Невисокосный год\n"
     ]
    }
   ],
   "source": [
    "\n",
    "year = 2001\n",
    "if year % 4 == 0 and year % 400 == 0:\n",
    "    print('Високосный год')\n",
    "    \n",
    "elif year % 100 == 0 :\n",
    " print('Невисокосный год')\n",
    "\n",
    "else:\n",
    "  print('Невисокосный год')\n",
    "\n",
    "\n",
    "\n"
   ]
  },
  {
   "cell_type": "markdown",
   "metadata": {
    "id": "JyQSPgP1C1dc"
   },
   "source": [
    "# Задание 3 "
   ]
  },
  {
   "cell_type": "code",
   "execution_count": null,
   "metadata": {
    "id": "pYlXm0CrC1dd",
    "outputId": "cc957111-b56a-4ae2-de31-df9ed15a67c2"
   },
   "outputs": [
    {
     "name": "stdout",
     "output_type": "stream",
     "text": [
      "Скорпион\n"
     ]
    }
   ],
   "source": [
    "\n",
    "#Овен (21 марта – 20 апреля)\n",
    "#Лев ( 23 июля – 22 августа)\n",
    "#Стрелец (22 ноября – 21 декабря)\n",
    "#Рак (21 июня – 22 июля)\n",
    "#Скорпион (24 октября – 21 ноября)\n",
    "#Рыбы (19 февраля – 20 марта)\n",
    "#Телец (21 апреля – 21 мая)\n",
    "#Дева (23 августа – 23 сентября)\n",
    "#Козерог (22 декабря – 19 января)\n",
    "#Близнецы (21 мая – 20 июня)\n",
    "#Весы (24 сентября – 23 октября)\n",
    "#Водолей (20 января – 18 февраля)\n",
    "\n",
    "\n",
    "\n",
    "user_input_day = 24\n",
    "user_input_mounth = 'октябрь'\n",
    "\n",
    "if user_input_mounth == \"март\" and user_input_day >= 21 or user_input_mounth == \"апрель\" and user_input_day <= 20 :\n",
    "        print('Овен') \n",
    "elif user_input_mounth == \"апрель\" and user_input_day >= 21 or user_input_mounth == \"май\" and user_input_day <= 21 :\n",
    "        print ('Телец') \n",
    "elif user_input_mounth == \"май\" and user_input_day >= 21 or user_input_mounth == \"июнь\" and user_input_day <= 20 :\n",
    "        print ('Близнецы')\n",
    "elif user_input_mounth == \"июнь\" and user_input_day >= 21 or user_input_mounth == \"июль\" and user_input_day <= 22 :\n",
    "        print ('Рак')\n",
    "elif user_input_mounth == \"июль\" and user_input_day >= 23 or user_input_mounth == \"август\" and user_input_day <= 22 :\n",
    "        print ('Лев')\n",
    "elif user_input_mounth == \"август\" and user_input_day >= 23 or user_input_mounth == \"сентябрь\" and user_input_day <= 23 :\n",
    "        print ('Дева')\n",
    "elif user_input_mounth == \"сентябрь\" and user_input_day >= 24 or user_input_mounth == \"октябрь\" and user_input_day <= 23 :\n",
    "        print ('Весы')\n",
    "elif user_input_mounth == \"октябрь\" and user_input_day >= 24 or user_input_mounth == \"ноябрь\" and user_input_day <= 21 :\n",
    "        print ('Скорпион')\n",
    "elif user_input_mounth == \"ноябрь\" and user_input_day >= 21 or user_input_mounth == \"декабрь\" and user_input_day <= 21 :\n",
    "        print ('Стрелец')\n",
    "elif user_input_mounth == \"декабрь\" and user_input_day >= 22 or user_input_mounth == \"февраль\" and user_input_day <= 18 :\n",
    "        print ('Козерог')\n",
    "elif user_input_mounth == \"февраль\" and user_input_day >= 19 or user_input_mounth == \"март\" and user_input_day <= 20 :\n",
    "    print ('Рыбы')\n",
    "        \n",
    "\n",
    "           \n",
    "            \n",
    "            \n",
    "            \n",
    "        \n",
    "        \n",
    "        \n",
    "    "
   ]
  },
  {
   "cell_type": "markdown",
   "metadata": {
    "id": "ufa300meC1dg"
   },
   "source": [
    "# Задание 4 \n"
   ]
  },
  {
   "cell_type": "code",
   "execution_count": 9,
   "metadata": {
    "colab": {
     "base_uri": "https://localhost:8080/"
    },
    "id": "cdxISEILC1dg",
    "outputId": "2f3dbbe9-7559-46af-99f6-c0a0d91918f1"
   },
   "outputs": [
    {
     "name": "stdout",
     "output_type": "stream",
     "text": [
      "box 2\n"
     ]
    }
   ],
   "source": [
    "width = 45\n",
    "length = 42\n",
    "height = 17\n",
    "\n",
    "if height < 15 and length < 15 and width < 15 : \n",
    "    print ('box 1')\n",
    "    #если хотя бы одно из измерений больше 15 сантиметров, но менее 50 сантиметров, то выводите \"Коробка №2\";\n",
    "elif  50 > height > 15 or 50 > length > 15 or 50 > width > 15 :\n",
    "    print ('box 2')\n",
    "elif length > 200: \n",
    "    print ('ski box')\n",
    "else:\n",
    "    print ('standart box')"
   ]
  },
  {
   "cell_type": "markdown",
   "metadata": {
    "id": "X8fvoqhGaY5q"
   },
   "source": [
    "Задание 5\n"
   ]
  },
  {
   "cell_type": "code",
   "execution_count": 48,
   "metadata": {
    "colab": {
     "base_uri": "https://localhost:8080/"
    },
    "id": "kHyTRmwLaYIN",
    "outputId": "e1f697f9-352e-497e-8b7e-d95a0b721fae"
   },
   "outputs": [
    {
     "name": "stdout",
     "output_type": "stream",
     "text": [
      "insert ticket number: 123321\n",
      "good ticket\n"
     ]
    }
   ],
   "source": [
    "t_number =  input('insert ticket number: ')\n",
    "#if t_number[0] + t_number[1] + t_number[2] == t_number[3] + t_number[4]+ t_number[5]:  \n",
    "if int(t_number[0]) + int(t_number[1]) + int(t_number[2]) == int(t_number[3]) + int(t_number[4])+ int(t_number[5]):\n",
    "   print('good ticket')\n",
    "else:\n",
    "   print('not good ticket', t_number)\n",
    "\n",
    "\n"
   ]
  },
  {
   "cell_type": "code",
   "execution_count": 47,
   "metadata": {
    "colab": {
     "base_uri": "https://localhost:8080/"
    },
    "id": "bwCj7aVgjxo2",
    "outputId": "ec930981-e163-4f5c-af45-5ed4c84e43d7"
   },
   "outputs": [
    {
     "data": {
      "text/plain": [
       "str"
      ]
     },
     "execution_count": 47,
     "metadata": {
      "tags": []
     },
     "output_type": "execute_result"
    }
   ],
   "source": [
    "t = 1345\n",
    "r = 334\n",
    "t+r\n",
    "type(t_number[0])"
   ]
  },
  {
   "cell_type": "code",
   "execution_count": 4,
   "metadata": {
    "id": "UXhU14uiC1dh",
    "outputId": "bd093586-c2be-430d-d8f0-e3ec5eef60bb"
   },
   "outputs": [
    {
     "name": "nbtutor",
     "output_type": "stream",
     "text": []
    }
   ],
   "source": [
    "%%nbtutor\n",
    "text = 'Отличие двух способов состоит в том, что множественное присваивание в первом способе меняет значение двух переменных одновременно.Если слева от знака «=» в множественном присваивании должны стоять через запятую имена переменных, то справа могут стоять произвольные выражения, разделённые запятыми. Главное, чтобы слева и справа от знака присваивания было одинаковое число элементов.'\n",
    "n = 4 \n",
    "text1= text.split(' ')\n",
    "\n",
    "i = 0 \n",
    "word_list = []\n",
    "for element in text1:\n",
    "    if len(element) >= n:\n",
    "        word_list.append(element)\n",
    "        word_number = len(word_list)\n",
    "        \n",
    "    print(word_number)\n",
    "\n"
   ]
  },
  {
   "cell_type": "code",
   "execution_count": null,
   "metadata": {
    "id": "MomFvb6UC1di",
    "outputId": "8c9aa91a-8cd3-4848-aff5-62c2f2096ca3"
   },
   "outputs": [
    {
     "name": "stdout",
     "output_type": "stream",
     "text": [
      "1\n",
      "22\n",
      "333\n",
      "4444\n",
      "55555\n",
      "666666\n",
      "7777777\n",
      "88888888\n",
      "999999999\n"
     ]
    }
   ],
   "source": [
    "numbers = ['1','2','3','4','5','6','7','8','9']\n",
    "for element in numbers:\n",
    "    print (element * int(element))"
   ]
  },
  {
   "cell_type": "code",
   "execution_count": null,
   "metadata": {
    "id": "c-nxaBhoC1di",
    "outputId": "0704ca21-3997-4955-bb3e-1b45474c3a0f"
   },
   "outputs": [
    {
     "data": {
      "text/plain": [
       "158"
      ]
     },
     "execution_count": 50,
     "metadata": {
      "tags": []
     },
     "output_type": "execute_result"
    }
   ],
   "source": [
    "data = [\n",
    "    [23,23,34,45],\n",
    "    [23,34,45,56],\n",
    "    [23,34,45,56],\n",
    "    [23,34,45,56]\n",
    "]\n",
    "\n",
    "i=0\n",
    "#print(data [i][i])\n",
    "#print(data [1][1])\n",
    "\n",
    "\n",
    "\n",
    "number = 0 \n",
    "for index in data:\n",
    "    number = number + data[i][i]\n",
    "    i += 1 \n",
    "\n",
    "number\n",
    "    "
   ]
  },
  {
   "cell_type": "code",
   "execution_count": null,
   "metadata": {
    "id": "UWLmdZZFC1dj"
   },
   "outputs": [],
   "source": []
  }
 ],
 "metadata": {
  "celltoolbar": "Visualize",
  "colab": {
   "name": "ht11.ipynb",
   "provenance": []
  },
  "kernelspec": {
   "display_name": "Python 3",
   "language": "python",
   "name": "python3"
  },
  "language_info": {
   "codemirror_mode": {
    "name": "ipython",
    "version": 3
   },
   "file_extension": ".py",
   "mimetype": "text/x-python",
   "name": "python",
   "nbconvert_exporter": "python",
   "pygments_lexer": "ipython3",
   "version": "3.8.5"
  }
 },
 "nbformat": 4,
 "nbformat_minor": 1
}
