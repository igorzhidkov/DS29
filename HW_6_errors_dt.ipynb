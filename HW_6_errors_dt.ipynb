{
  "nbformat": 4,
  "nbformat_minor": 0,
  "metadata": {
    "colab": {
      "name": "HW_6_errors_dt.ipynb",
      "provenance": [],
      "collapsed_sections": [],
      "authorship_tag": "ABX9TyMkTaatDyE03yVpXxm3QPBb",
      "include_colab_link": true
    },
    "kernelspec": {
      "name": "python3",
      "display_name": "Python 3"
    },
    "language_info": {
      "name": "python"
    }
  },
  "cells": [
    {
      "cell_type": "markdown",
      "metadata": {
        "id": "view-in-github",
        "colab_type": "text"
      },
      "source": [
        "<a href=\"https://colab.research.google.com/github/igorzhidkov/DS29/blob/main/HW_6_errors_dt.ipynb\" target=\"_parent\"><img src=\"https://colab.research.google.com/assets/colab-badge.svg\" alt=\"Open In Colab\"/></a>"
      ]
    },
    {
      "cell_type": "markdown",
      "metadata": {
        "id": "I7Xs4aKzpPth"
      },
      "source": [
        "# **Task 1**"
      ]
    },
    {
      "cell_type": "code",
      "metadata": {
        "id": "1g_aVEBTpSAj",
        "colab": {
          "base_uri": "https://localhost:8080/"
        },
        "outputId": "8bb93ec1-b944-451a-e4eb-05abced24dc9"
      },
      "source": [
        "# Печатные газеты использовали свой формат дат для каждого выпуска. Для каждой газеты из списка напишите формат указанной даты для перевода в объект datetime:\n",
        "# The Moscow Times - Wednesday, October 2, 2002\n",
        "# The Guardian - Friday, 11.10.13\n",
        "# Daily News - Thursday, 18 August 1977\n",
        "\n",
        "from datetime import datetime\n",
        "\n",
        "TheMoscowTimes = datetime.strptime(\"Wednesday, October 2, 2002\" , '%A, %B %d, %Y' )\n",
        "TheMoscowTimes\n",
        "\n",
        "TheGuardian = datetime.strptime(\"Friday, 11.10.13\" , '%A, %d.%m.%y' )\n",
        "TheGuardian\n",
        "\n",
        "DailyNews = datetime.strptime(\"Thursday, 18 August 1977\" , '%A, %d %B %Y' )\n",
        "DailyNews\n",
        "\n",
        "print(TheMoscowTimes, TheGuardian, DailyNews)\n",
        " "
      ],
      "execution_count": 7,
      "outputs": [
        {
          "output_type": "stream",
          "name": "stdout",
          "text": [
            "2002-10-02 00:00:00 2013-10-11 00:00:00 1977-08-18 00:00:00\n"
          ]
        }
      ]
    },
    {
      "cell_type": "markdown",
      "metadata": {
        "id": "e8aoLRz_piuW"
      },
      "source": [
        "# **Task 2**"
      ]
    },
    {
      "cell_type": "code",
      "metadata": {
        "colab": {
          "base_uri": "https://localhost:8080/"
        },
        "id": "WhNdxGl-nzjR",
        "outputId": "e13c0e21-c45b-4fc5-e5fc-167df07d7c7c"
      },
      "source": [
        "stream = [\"2018-04-02\", \"2018-02-29\", \"2018-19-02\"]\n",
        "\n",
        "\n",
        "def func(stream):\n",
        "  for date in stream:\n",
        "    #print(date)\n",
        "    try:\n",
        "      datetime.strptime(date, '%Y-%m-%d')\n",
        "      print('true')\n",
        "    except:\n",
        "      print('false')\n",
        "      \n",
        "func(stream)\n"
      ],
      "execution_count": null,
      "outputs": [
        {
          "output_type": "stream",
          "name": "stdout",
          "text": [
            "true\n",
            "false\n",
            "false\n"
          ]
        }
      ]
    },
    {
      "cell_type": "code",
      "metadata": {
        "id": "78pUQVahzCx2"
      },
      "source": [
        "from datetime import timedelta"
      ],
      "execution_count": null,
      "outputs": []
    },
    {
      "cell_type": "markdown",
      "metadata": {
        "id": "LpkE0v3Tt-hm"
      },
      "source": [
        "# **Task 3**"
      ]
    },
    {
      "cell_type": "code",
      "metadata": {
        "colab": {
          "base_uri": "https://localhost:8080/"
        },
        "id": "54roLeiKpjkU",
        "outputId": "ab1fc1b8-b2d3-4d4b-e07a-25dea7cc60e9"
      },
      "source": [
        "# start_date = input(\"input start date informat: YYYY-MM-DD  \")\n",
        "# end_date = input(\"input end date informat: YYYY-MM-DD  \")\n",
        "\n",
        "# Напишите функцию date_range, которая возвращает список дат за период от start_date до end_date.\n",
        "#  Даты должны вводиться в формате YYYY-MM-DD. В случае неверного формата или при start_date > end_date должен возвращаться пустой список.\n",
        "\n",
        "# start_date = '2001-09-11'\n",
        "# end_date = '2021-12-11'\n",
        "\n",
        "# date_list = []\n",
        "\n",
        "def date_range():\n",
        "  start_date = input(\"input start date informat: YYYY-MM-DD  \")\n",
        "  end_date = input(\"input end date informat: YYYY-MM-DD  \")\n",
        "\n",
        "  date_list = []\n",
        "  try:\n",
        "    start_date_datetime = datetime.strptime(start_date, '%Y-%m-%d')\n",
        "    end_date_datetime = datetime.strptime(end_date, '%Y-%m-%d')\n",
        "  except:\n",
        "    print(date_list)\n",
        "\n",
        "  finally:\n",
        "    start_date_datetime = datetime.strptime(start_date, '%Y-%m-%d')\n",
        "    end_date_datetime = datetime.strptime(end_date, '%Y-%m-%d')\n",
        "    if start_date_datetime < end_date_datetime and  datetime.strptime(start_date, '%Y-%m-%d') and datetime.strptime(end_date, '%Y-%m-%d') :\n",
        "      while start_date_datetime != end_date_datetime:\n",
        "        start_date_datetime += timedelta(days= 1)\n",
        "        date_list.append(start_date_datetime.strftime('%Y-%m-%d'))\n",
        "      print(date_list)\n",
        "     \n",
        "    else:\n",
        "      print(date_list)\n",
        "\n",
        "date_range() \n",
        "\n",
        "\n",
        "\n"
      ],
      "execution_count": null,
      "outputs": [
        {
          "output_type": "stream",
          "name": "stdout",
          "text": [
            "input start date informat: YYYY-MM-DD  2021-12-11\n",
            "input end date informat: YYYY-MM-DD  2020-12-11\n",
            "[]\n"
          ]
        }
      ]
    },
    {
      "cell_type": "markdown",
      "metadata": {
        "id": "VAyH7ezj1hYg"
      },
      "source": [
        "# **Task 4**"
      ]
    },
    {
      "cell_type": "code",
      "metadata": {
        "id": "wCJGdfF77jhf"
      },
      "source": [
        "\"\"\"\n",
        "Удаляет из списка default_list последнего пользователя\n",
        "и возвращает ID нового последнего пользователя.\n",
        "\"\"\"\n",
        "DEFAULT_USER_COUNT = 3\n",
        "\n",
        "def delete_and_return_last_user(region, default_list=['A100', 'A101', 'A102']):\n",
        "  element_to_delete = default_list[-1]\n",
        "  default_list.remove(element_to_delete)\n",
        "\n",
        "  return default_list[DEFAULT_USER_COUNT-2] \n",
        "\n"
      ],
      "execution_count": 9,
      "outputs": []
    },
    {
      "cell_type": "code",
      "metadata": {
        "colab": {
          "base_uri": "https://localhost:8080/",
          "height": 310
        },
        "id": "Yiin8l_U4D2u",
        "outputId": "48a7f218-9d18-41c5-e07c-57d736cbf412"
      },
      "source": [
        "delete_and_return_last_user(1)\n",
        "\n"
      ],
      "execution_count": 13,
      "outputs": [
        {
          "output_type": "error",
          "ename": "IndexError",
          "evalue": "ignored",
          "traceback": [
            "\u001b[0;31m---------------------------------------------------------------------------\u001b[0m",
            "\u001b[0;31mIndexError\u001b[0m                                Traceback (most recent call last)",
            "\u001b[0;32m<ipython-input-13-1f13043e28f9>\u001b[0m in \u001b[0;36m<module>\u001b[0;34m()\u001b[0m\n\u001b[0;32m----> 1\u001b[0;31m \u001b[0mdelete_and_return_last_user\u001b[0m\u001b[0;34m(\u001b[0m\u001b[0;36m1\u001b[0m\u001b[0;34m)\u001b[0m\u001b[0;34m\u001b[0m\u001b[0;34m\u001b[0m\u001b[0m\n\u001b[0m\u001b[1;32m      2\u001b[0m \u001b[0;34m\u001b[0m\u001b[0m\n",
            "\u001b[0;32m<ipython-input-9-bbe4dfd79c09>\u001b[0m in \u001b[0;36mdelete_and_return_last_user\u001b[0;34m(region, default_list)\u001b[0m\n\u001b[1;32m      7\u001b[0m \u001b[0;34m\u001b[0m\u001b[0m\n\u001b[1;32m      8\u001b[0m \u001b[0;32mdef\u001b[0m \u001b[0mdelete_and_return_last_user\u001b[0m\u001b[0;34m(\u001b[0m\u001b[0mregion\u001b[0m\u001b[0;34m,\u001b[0m \u001b[0mdefault_list\u001b[0m\u001b[0;34m=\u001b[0m\u001b[0;34m[\u001b[0m\u001b[0;34m'A100'\u001b[0m\u001b[0;34m,\u001b[0m \u001b[0;34m'A101'\u001b[0m\u001b[0;34m,\u001b[0m \u001b[0;34m'A102'\u001b[0m\u001b[0;34m]\u001b[0m\u001b[0;34m)\u001b[0m\u001b[0;34m:\u001b[0m\u001b[0;34m\u001b[0m\u001b[0;34m\u001b[0m\u001b[0m\n\u001b[0;32m----> 9\u001b[0;31m   \u001b[0melement_to_delete\u001b[0m \u001b[0;34m=\u001b[0m \u001b[0mdefault_list\u001b[0m\u001b[0;34m[\u001b[0m\u001b[0;34m-\u001b[0m\u001b[0;36m1\u001b[0m\u001b[0;34m]\u001b[0m\u001b[0;34m\u001b[0m\u001b[0;34m\u001b[0m\u001b[0m\n\u001b[0m\u001b[1;32m     10\u001b[0m   \u001b[0mdefault_list\u001b[0m\u001b[0;34m.\u001b[0m\u001b[0mremove\u001b[0m\u001b[0;34m(\u001b[0m\u001b[0melement_to_delete\u001b[0m\u001b[0;34m)\u001b[0m\u001b[0;34m\u001b[0m\u001b[0;34m\u001b[0m\u001b[0m\n\u001b[1;32m     11\u001b[0m \u001b[0;34m\u001b[0m\u001b[0m\n",
            "\u001b[0;31mIndexError\u001b[0m: list index out of range"
          ]
        }
      ]
    },
    {
      "cell_type": "markdown",
      "metadata": {
        "id": "IFm-WiYS8dQf"
      },
      "source": [
        "Установлен счетчик пользователей (3). Их колличество мы видим в списке default list, а именно А100 А101 А102. \n",
        "Функиця работает с default list, удаляя из него пользователей с конца. Так при первой итерации функция удалит А102 из списка и через return выведет \n",
        "((DEFAULT_USER_COUNT = 3) - 2 = 1) то есть второй элемент в списке default list - A101. \n",
        "При второй итерации в списке уже два элемента и функиця удаляет последний те А101, так в списке остается один элемент А100 под индексом 0. Поскольку в return все тот же индекс ((DEFAULT_USER_COUNT = 3) - 2 = 1) то при запросе из списка default list[1] появляется ошибка, так как в нем есть только один элемент под индексом 0. \n"
      ]
    }
  ]
}