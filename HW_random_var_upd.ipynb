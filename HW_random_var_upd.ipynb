{
 "cells": [
  {
   "cell_type": "code",
   "execution_count": 11,
   "metadata": {},
   "outputs": [],
   "source": [
    "import numpy as np\n",
    "import re\n",
    "import timeit\n"
   ]
  },
  {
   "cell_type": "code",
   "execution_count": 2,
   "metadata": {},
   "outputs": [],
   "source": [
    "# моделировать игру против лотерейного автомата типа “777”. \n",
    "# Игрок платит 1 руб., после чего выпадает случайное целое число, \n",
    "# равномерно распределенное от 0 до 999. При некоторых значениях числа игрок получает выигрыш.\n",
    "\n",
    "# 777: 200 руб.\n",
    "# 999: 100 руб.\n",
    "# 555: 50 руб.\n",
    "# 333: 15 руб.\n",
    "# 111: 10 руб.\n",
    "# *77: 5 руб.\n",
    "# **7: 3 руб.\n",
    "# *00: 2 руб.\n",
    "# **0: 1 руб.\n",
    "\n",
    "# Вопросы:\n",
    "\n",
    "# Выгодна ли игра игроку?\n",
    "# Сколько в среднем приобретает или теряет игрок за одну игру?"
   ]
  },
  {
   "cell_type": "markdown",
   "metadata": {},
   "source": [
    "# Выгодна ли игра игроку? "
   ]
  },
  {
   "cell_type": "code",
   "execution_count": 28,
   "metadata": {},
   "outputs": [
    {
     "name": "stdout",
     "output_type": "stream",
     "text": [
      "0.7955817955817955\n"
     ]
    }
   ],
   "source": [
    "gain = 0\n",
    "\n",
    "for i in range(1000000):\n",
    "    x = np.random.randint(0, 1000)\n",
    "    if x == 777:\n",
    "        gain+= 200\n",
    "    elif x == 999:\n",
    "        gain+= 100\n",
    "    elif x == 555:\n",
    "        gain+= 50\n",
    "    elif x == 333:\n",
    "        gain+= 15\n",
    "    elif x == 111:\n",
    "        gain+= 10    \n",
    "    elif x % 100 == 77:\n",
    "        gain += 5\n",
    "    elif x % 10 == 7:\n",
    "        gain += 3\n",
    "    elif x % 100 == 0:\n",
    "        gain += 2\n",
    "    elif x % 10 == 0:\n",
    "        gain += 1\n",
    "    \n",
    "\n",
    "    \n",
    "\n",
    "print(gain /999999)\n",
    "\n",
    "        "
   ]
  },
  {
   "cell_type": "code",
   "execution_count": 43,
   "metadata": {},
   "outputs": [
    {
     "name": "stdout",
     "output_type": "stream",
     "text": [
      "[10, 20, 30, 40, 50, 60, 70, 80, 90, 110, 120, 130, 140, 150, 160, 170, 180, 190, 210, 220, 230, 240, 250, 260, 270, 280, 290, 310, 320, 330, 340, 350, 360, 370, 380, 390, 410, 420, 430, 440, 450, 460, 470, 480, 490, 510, 520, 530, 540, 550, 560, 570, 580, 590, 610, 620, 630, 640, 650, 660, 670, 680, 690, 710, 720, 730, 740, 750, 760, 770, 780, 790, 810, 820, 830, 840, 850, 860, 870, 880, 890, 910, 920, 930, 940, 950, 960, 970, 980, 990] 0.09\n"
     ]
    }
   ],
   "source": [
    "list1 = []\n",
    "for x in range(1001):\n",
    "#     print(x)\n",
    "    if x % 10 == 0 and not x % 100 == 0 :\n",
    "        list1.append(x) \n",
    "print(list1, len(list1)/1000)        "
   ]
  },
  {
   "cell_type": "markdown",
   "metadata": {},
   "source": [
    "# Дополнительное задание "
   ]
  },
  {
   "cell_type": "code",
   "execution_count": 44,
   "metadata": {},
   "outputs": [],
   "source": [
    "\n",
    "\n",
    "#вероятность выпадения 777 999 555 333 111 равна 0.001, \n",
    "\n",
    "# *77 = 0.009\n",
    "\n",
    "# *00 = 0.01\n",
    "\n",
    "# **7 = 0.09\n",
    "\n",
    "# **0 = 0.09\n",
    "\n",
    "# умножаем выигрыши на вероятность их выпадения в автомате чтобы найти полную вероятность \n",
    "# полная вероятность выиграть = 0.8  \n",
    "# Что приблизительно равно вероятности \n",
    "\n",
    "\n"
   ]
  },
  {
   "cell_type": "code",
   "execution_count": null,
   "metadata": {},
   "outputs": [],
   "source": []
  },
  {
   "cell_type": "code",
   "execution_count": null,
   "metadata": {},
   "outputs": [],
   "source": []
  },
  {
   "cell_type": "code",
   "execution_count": null,
   "metadata": {},
   "outputs": [],
   "source": []
  }
 ],
 "metadata": {
  "kernelspec": {
   "display_name": "Python 3",
   "language": "python",
   "name": "python3"
  },
  "language_info": {
   "codemirror_mode": {
    "name": "ipython",
    "version": 3
   },
   "file_extension": ".py",
   "mimetype": "text/x-python",
   "name": "python",
   "nbconvert_exporter": "python",
   "pygments_lexer": "ipython3",
   "version": "3.8.5"
  }
 },
 "nbformat": 4,
 "nbformat_minor": 4
}
