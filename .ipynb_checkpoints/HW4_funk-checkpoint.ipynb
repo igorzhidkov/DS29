{
 "cells": [
  {
   "cell_type": "code",
   "execution_count": null,
   "metadata": {
    "id": "dFEPaEO65u44"
   },
   "outputs": [],
   "source": [
    "my_list = ['2018-01-01', 'yandex', 'cpc', 100]\r\n"
   ]
  },
  {
   "cell_type": "code",
   "execution_count": null,
   "metadata": {
    "colab": {
     "base_uri": "https://localhost:8080/"
    },
    "id": "FocRIlv75xNf",
    "outputId": "6791bd6e-c16c-4099-cc4a-e0e86de3d500"
   },
   "outputs": [
    {
     "name": "stdout",
     "output_type": "stream",
     "text": [
      "{'cpc': 100, 'yandex': 100}\n"
     ]
    }
   ],
   "source": [
    "my_dict = dict()\r\n",
    "i=0\r\n",
    "for element in my_list:\r\n",
    "    my_dict[my_list[-2]]= my_list[-1]\r\n",
    "    my_dict[my_list[-3]] = my_dict[my_list[-2]]\r\n",
    "    #my_dict.get(my_list[0])[my_list[1]] = my_list[2]\r\n",
    "    #my_dict_values = list(my_dict.values())\r\n",
    "    #my_dict_values[my_list[1]] = my_list[2]\r\n",
    "print(my_dict)\r\n",
    "#print (my_dict_values)"
   ]
  },
  {
   "cell_type": "code",
   "execution_count": null,
   "metadata": {
    "id": "78wTXw2cJd4Z"
   },
   "outputs": [],
   "source": [
    ""
   ]
  },
  {
   "cell_type": "code",
   "execution_count": null,
   "metadata": {
    "colab": {
     "base_uri": "https://localhost:8080/"
    },
    "id": "KPGb-H-CJeCi",
    "outputId": "0f677acf-0d52-4b40-f258-575483417802"
   },
   "outputs": [
    {
     "name": "stdout",
     "output_type": "stream",
     "text": [
      "{'2018-01-01': {'yandex': {'cpc': 100}}}\n"
     ]
    }
   ],
   "source": [
    "my_dict = dict()\r\n",
    "my_dict1 = dict()\r\n",
    "my_dict2 = dict()\r\n",
    "i=0\r\n",
    "for element in my_list:\r\n",
    "    my_dict['cpc'] = 100\r\n",
    "    my_dict1['yandex'] = my_dict\r\n",
    "    my_dict2['2018-01-01'] = my_dict1\r\n",
    "   \r\n",
    "print(my_dict2)\r\n"
   ]
  },
  {
   "cell_type": "code",
   "execution_count": null,
   "metadata": {
    "id": "iYYyacE7NFe7"
   },
   "outputs": [],
   "source": [
    "def square (number):\r\n",
    "  result=number**10\r\n",
    "  return result "
   ]
  },
  {
   "cell_type": "code",
   "execution_count": null,
   "metadata": {
    "colab": {
     "base_uri": "https://localhost:8080/"
    },
    "id": "EB41kFU7NFht",
    "outputId": "30ccacd8-efdd-414b-d360-78c25b5b1612"
   },
   "outputs": [
    {
     "data": {
      "text/plain": [
       "10240000000000"
      ]
     },
     "execution_count": 11,
     "metadata": {
      "tags": []
     },
     "output_type": "execute_result"
    }
   ],
   "source": [
    "square(20)"
   ]
  },
  {
   "cell_type": "code",
   "execution_count": null,
   "metadata": {
    "id": "vqsXFfEgkRD4"
   },
   "outputs": [],
   "source": [
    ""
   ]
  },
  {
   "cell_type": "code",
   "execution_count": 78,
   "metadata": {
    "id": "9DkRAhvIkRK_"
   },
   "outputs": [],
   "source": [
    "documents = [\r\n",
    " {'type': 'passport', 'number': '2207 876234', 'name': 'Василий Гупкин'},\r\n",
    " {'type': 'invoice', 'number': '11-2', 'name': 'Геннадий Покемонов'},\r\n",
    " {'type': 'insurance', 'number': '10006', 'name': 'Аристарх Павлов'}\r\n",
    "]"
   ]
  },
  {
   "cell_type": "code",
   "execution_count": 112,
   "metadata": {
    "id": "2RaZhjSpkRSQ"
   },
   "outputs": [],
   "source": [
    "directories = {\r\n",
    "'1': ['2207 876234', '11-2'],\r\n",
    "'2': ['10006'],\r\n",
    "'3': []\r\n",
    "}"
   ]
  },
  {
   "cell_type": "code",
   "execution_count": 12,
   "metadata": {
    "colab": {
     "base_uri": "https://localhost:8080/"
    },
    "id": "pmQ74Q_XojMw",
    "outputId": "4e62713d-7ae3-4627-a30a-cabebf8103f7"
   },
   "outputs": [
    {
     "name": "stdout",
     "output_type": "stream",
     "text": [
      "Василий Гупкин\n",
      "2207 876234\n",
      "Геннадий Покемонов\n",
      "11-2\n",
      "Аристарх Павлов\n",
      "10006\n"
     ]
    }
   ],
   "source": [
    "for dictionary in documents:\r\n",
    "  print(dictionary['name'])\r\n",
    "  print(dictionary['number'])"
   ]
  },
  {
   "cell_type": "code",
   "execution_count": 91,
   "metadata": {
    "colab": {
     "base_uri": "https://localhost:8080/"
    },
    "id": "3_7SnuzlojaB",
    "outputId": "d9248e1d-04c7-448f-a643-d09ba2625c74"
   },
   "outputs": [
    {
     "name": "stdout",
     "output_type": "stream",
     "text": [
      "e\n",
      "nice\n"
     ]
    }
   ],
   "source": [
    "com_in = str(input())\r\n",
    "while com_in == \"e\":\r\n",
    " print ('nice')\r\n",
    " break\r\n",
    "while com_in == \"r\":\r\n",
    "  print ('supnice')\r\n",
    "  break"
   ]
  },
  {
   "cell_type": "code",
   "execution_count": null,
   "metadata": {
    "id": "qJS70Wjsojft"
   },
   "outputs": [],
   "source": [
    ""
   ]
  },
  {
   "cell_type": "code",
   "execution_count": null,
   "metadata": {
    "id": "jBk7Hd-uojmJ"
   },
   "outputs": [],
   "source": [
    ""
   ]
  },
  {
   "cell_type": "markdown",
   "metadata": {
    "id": "EV-QHviD76jA"
   },
   "source": [
    "**point 1**\r\n"
   ]
  },
  {
   "cell_type": "code",
   "execution_count": 89,
   "metadata": {
    "colab": {
     "base_uri": "https://localhost:8080/"
    },
    "id": "Bl4nDAOwkRV_",
    "outputId": "39be9621-50d3-489b-e19a-18b3cf044b3e"
   },
   "outputs": [
    {
     "name": "stdout",
     "output_type": "stream",
     "text": [
      "p\n",
      "Insert number of doc: 10006\n",
      "doc owner:  Аристарх Павлов\n",
      "None\n"
     ]
    }
   ],
   "source": [
    "command_input = input()\r\n",
    "\r\n",
    "while command_input == 'p':\r\n",
    "  doc_num_input = str(input('Insert number of doc: '))\r\n",
    "  print (get_owner())\r\n",
    "  break \r\n"
   ]
  },
  {
   "cell_type": "code",
   "execution_count": 93,
   "metadata": {
    "colab": {
     "base_uri": "https://localhost:8080/"
    },
    "id": "LVCWgojskRZ8",
    "outputId": "5357aebb-81e0-44bb-9492-8702e4e3d28b"
   },
   "outputs": [
    {
     "name": "stdout",
     "output_type": "stream",
     "text": [
      "Insert number of doc: 10006\n",
      "doc owner:  Аристарх Павлов\n",
      "None\n"
     ]
    }
   ],
   "source": [
    "#узнать владельца по номеру (функция)\r\n",
    "doc_num_input = str(input('Insert number of doc: '))\r\n",
    "def get_owner ():\r\n",
    "    for dictionary in documents:\r\n",
    "        if doc_num_input == dictionary['number']:\r\n",
    "           print( 'doc owner: ', dictionary['name'])\r\n",
    "           return\r\n",
    "    print('doc not found')\r\n",
    "    return\r\n",
    "print(get_owner ())"
   ]
  },
  {
   "cell_type": "code",
   "execution_count": 102,
   "metadata": {
    "colab": {
     "base_uri": "https://localhost:8080/",
     "height": 231
    },
    "id": "-uSlAN--3iEc",
    "outputId": "89c75f7d-ae9c-4f48-a33a-67e19657e332"
   },
   "outputs": [
    {
     "name": "stdout",
     "output_type": "stream",
     "text": [
      "Insert number of doc: 10006\n"
     ]
    },
    {
     "ename": "AttributeError",
     "evalue": "ignored",
     "output_type": "error",
     "traceback": [
      "\u001b[0;31m---------------------------------------------------------------------------\u001b[0m",
      "\u001b[0;31mAttributeError\u001b[0m                            Traceback (most recent call last)",
      "\u001b[0;32m<ipython-input-102-e77ec6f85362>\u001b[0m in \u001b[0;36m<module>\u001b[0;34m()\u001b[0m\n\u001b[1;32m      3\u001b[0m \u001b[0;31m#def get_doc_shelf ():\u001b[0m\u001b[0;34m\u001b[0m\u001b[0;34m\u001b[0m\u001b[0;34m\u001b[0m\u001b[0m\n\u001b[1;32m      4\u001b[0m \u001b[0;32mfor\u001b[0m \u001b[0mnum\u001b[0m \u001b[0;32min\u001b[0m \u001b[0mdirectories\u001b[0m\u001b[0;34m:\u001b[0m\u001b[0;34m\u001b[0m\u001b[0;34m\u001b[0m\u001b[0m\n\u001b[0;32m----> 5\u001b[0;31m   \u001b[0;32mif\u001b[0m \u001b[0mdoc_num_input1\u001b[0m \u001b[0;34m==\u001b[0m \u001b[0mlist\u001b[0m\u001b[0;34m(\u001b[0m\u001b[0mdirectories\u001b[0m\u001b[0;34m.\u001b[0m\u001b[0mvalue\u001b[0m\u001b[0;34m(\u001b[0m\u001b[0;34m)\u001b[0m\u001b[0;34m)\u001b[0m\u001b[0;34m:\u001b[0m\u001b[0;34m\u001b[0m\u001b[0;34m\u001b[0m\u001b[0m\n\u001b[0m\u001b[1;32m      6\u001b[0m      \u001b[0mprint\u001b[0m\u001b[0;34m(\u001b[0m\u001b[0mnum\u001b[0m\u001b[0;34m)\u001b[0m\u001b[0;34m\u001b[0m\u001b[0;34m\u001b[0m\u001b[0m\n",
      "\u001b[0;31mAttributeError\u001b[0m: 'dict' object has no attribute 'value'"
     ]
    }
   ],
   "source": [
    "# узнать по номеру полку \r\n",
    "doc_num_input1 = str(input('Insert number of doc: '))\r\n",
    "#def get_doc_shelf ():\r\n",
    "for num in directories:\r\n",
    "  if doc_num_input1 == list(directories.value()):\r\n",
    "     print(num)"
   ]
  },
  {
   "cell_type": "code",
   "execution_count": 119,
   "metadata": {
    "colab": {
     "base_uri": "https://localhost:8080/"
    },
    "id": "gdpDFm_c3iQE",
    "outputId": "b5561caa-8770-46a8-cafb-62ad6b2659b7"
   },
   "outputs": [
    {
     "name": "stdout",
     "output_type": "stream",
     "text": [
      "1\n",
      "['2207 876234', '11-2']\n",
      "2\n",
      "['10006']\n",
      "3\n",
      "[]\n"
     ]
    }
   ],
   "source": [
    "for num in directories.items():\r\n",
    "  for elem in num:\r\n",
    "     print(elem)\r\n",
    "     \r\n",
    "  "
   ]
  },
  {
   "cell_type": "code",
   "execution_count": 114,
   "metadata": {
    "colab": {
     "base_uri": "https://localhost:8080/"
    },
    "id": "01JE6b7t26hO",
    "outputId": "dab05387-09a0-4261-c94b-01d1c912b4d6"
   },
   "outputs": [
    {
     "name": "stdout",
     "output_type": "stream",
     "text": [
      "[('1', ['2207 876234', '11-2']), ('2', ['10006']), ('3', [])]\n"
     ]
    }
   ],
   "source": [
    "print(list(directories.items()))\r\n"
   ]
  },
  {
   "cell_type": "markdown",
   "metadata": {
    "id": "BlqwOoUh5w4b"
   },
   "source": [
    ""
   ]
  }
 ],
 "metadata": {
  "colab": {
   "collapsed_sections": [],
   "name": "HW4_funk.ipynb",
   "provenance": []
  },
  "kernelspec": {
   "display_name": "Python 3",
   "name": "python3"
  }
 },
 "nbformat": 4,
 "nbformat_minor": 0
}
