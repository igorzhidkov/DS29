{
 "cells": [
  {
   "cell_type": "code",
   "execution_count": 2,
   "metadata": {
    "id": "9DkRAhvIkRK_"
   },
   "outputs": [],
   "source": [
    "documents = [\n",
    " {'type': 'passport', 'number': '2207 876234', 'name': 'Василий Гупкин'},\n",
    " {'type': 'invoice', 'number': '11-2', 'name': 'Геннадий Покемонов'},\n",
    " {'type': 'insurance', 'number': '10006', 'name': 'Аристарх Павлов'}\n",
    "]"
   ]
  },
  {
   "cell_type": "code",
   "execution_count": 3,
   "metadata": {
    "id": "2RaZhjSpkRSQ"
   },
   "outputs": [],
   "source": [
    "directories = {\n",
    "'1': ['2207 876234', '11-2'],\n",
    "'2': ['10006'],\n",
    "'3': []\n",
    "}"
   ]
  },
  {
   "cell_type": "code",
   "execution_count": null,
   "metadata": {
    "colab": {
     "base_uri": "https://localhost:8080/"
    },
    "id": "pmQ74Q_XojMw",
    "outputId": "4e62713d-7ae3-4627-a30a-cabebf8103f7"
   },
   "outputs": [
    {
     "name": "stdout",
     "output_type": "stream",
     "text": [
      "new comand: l\n",
      " №: 2207 876234 , type: passport , owner: Василий Гупкин,   doc shelf: 1  \n",
      " №: 11-2 , type: invoice , owner: Геннадий Покемонов,   doc shelf: 1  \n",
      " №: 10006 , type: insurance , owner: Аристарх Павлов,   doc shelf: 2  \n",
      "None\n",
      "new comand: p\n",
      "Insert number of doc: 554\n",
      "doc not found\n",
      "None\n",
      "new comand: p\n",
      "Insert number of doc: 11-2\n",
      "doc owner:  Геннадий Покемонов\n",
      "None\n"
     ]
    }
   ],
   "source": [
    "while True:\n",
    "     user_input = str(input('new comand: '))\n",
    "     if user_input == 'p':\n",
    "        doc_num_input = str(input('Insert number of doc: '))\n",
    "        print(get_owner())\n",
    "        pass\n",
    "     elif user_input == 's':\n",
    "          doc_num_input1 = str(input('Insert number of doc: '))\n",
    "          print(shelf_number())\n",
    "          pass\n",
    "     elif user_input == 'l':\n",
    "          print(all_info())\n",
    "          pass\n",
    "     elif user_input == 'as':\n",
    "          new_shelf_number = str(input('insert number of shelf to add: '))\n",
    "          print(add_new_shelf())\n",
    "          pass\n",
    "     elif user_input == 'ds':\n",
    "          shelf_number2 = str(input('insert number of shelf to delete : '))\n",
    "          print(del_shelf())\n",
    "          break\n",
    "        "
   ]
  },
  {
   "cell_type": "code",
   "execution_count": 5,
   "metadata": {
    "colab": {
     "base_uri": "https://localhost:8080/"
    },
    "id": "3_7SnuzlojaB",
    "outputId": "d9248e1d-04c7-448f-a643-d09ba2625c74"
   },
   "outputs": [
    {
     "name": "stdout",
     "output_type": "stream",
     "text": [
      "Insert number of doc: 10006\n",
      "doc owner:  Аристарх Павлов\n",
      "None\n"
     ]
    }
   ],
   "source": [
    "doc_num_input = str(input('Insert number of doc: '))\n",
    "def get_owner ():\n",
    "    \n",
    "    for dictionary in documents:\n",
    "        if doc_num_input == dictionary['number']:\n",
    "           print( 'doc owner: ', dictionary['name'])\n",
    "           return\n",
    "    print('doc not found')\n",
    "    return\n",
    "print(get_owner ())"
   ]
  },
  {
   "cell_type": "code",
   "execution_count": 6,
   "metadata": {
    "id": "qJS70Wjsojft"
   },
   "outputs": [
    {
     "name": "stdout",
     "output_type": "stream",
     "text": [
      "Insert number of doc: 10006\n",
      "Shelf number is  2\n",
      "None\n"
     ]
    }
   ],
   "source": [
    "doc_num_input1 = str(input('Insert number of doc: '))\n",
    "def shelf_number():\n",
    "    for shelf, number in directories.items():\n",
    "        if doc_num_input1 in number:\n",
    "           print('Shelf number is ', shelf)\n",
    "           return\n",
    "    print('no doc')\n",
    "    return \n",
    "\n",
    "print(shelf_number())"
   ]
  },
  {
   "cell_type": "code",
   "execution_count": 11,
   "metadata": {
    "id": "jBk7Hd-uojmJ"
   },
   "outputs": [],
   "source": [
    "def all_info():\n",
    "    for elements in documents:\n",
    "         def shelf_number1():\n",
    "             for shelf , numbers in directories.items():\n",
    "                 if elements['number']  in numbers:\n",
    "                     return f\" doc shelf: {shelf} \" \n",
    "         print(f\" №: {elements['number']} , type: {elements['type']} , owner: {elements['name']},  {shelf_number1()} \")\n",
    "         "
   ]
  },
  {
   "cell_type": "code",
   "execution_count": 8,
   "metadata": {
    "id": "EV-QHviD76jA"
   },
   "outputs": [
    {
     "name": "stdout",
     "output_type": "stream",
     "text": [
      "insert number of shelf to add: 7\n",
      "new shelf added, current number of shelves : 1, 2, 3, 7\n",
      "None\n"
     ]
    }
   ],
   "source": [
    "new_shelf_number = str(input('insert number of shelf to add: '))\n",
    "\n",
    "def add_new_shelf():\n",
    "    for keys in directories:\n",
    "        if new_shelf_number not in directories.keys() :\n",
    "            directories[new_shelf_number] = []\n",
    "            print('new shelf added, current number of shelves : ' + ', '.join(directories.keys()))\n",
    "            return\n",
    "        else :\n",
    "            print(\"shelf already exists\")  \n",
    "            return\n",
    "    return \n",
    "    \n",
    "print(add_new_shelf())\n"
   ]
  },
  {
   "cell_type": "code",
   "execution_count": 9,
   "metadata": {
    "colab": {
     "base_uri": "https://localhost:8080/"
    },
    "id": "Bl4nDAOwkRV_",
    "outputId": "39be9621-50d3-489b-e19a-18b3cf044b3e"
   },
   "outputs": [
    {
     "name": "stdout",
     "output_type": "stream",
     "text": [
      "insert number of shelf to delete : 7\n",
      "shelf is deleted, current number of shelves : 1, 2, 3\n",
      "None\n"
     ]
    }
   ],
   "source": [
    "shelf_number2 = str(input('insert number of shelf to delete : '))\n",
    "def del_shelf():\n",
    "    for shelf in directories.copy():\n",
    "         if not directories[shelf_number2]: \n",
    "              directories.pop(shelf_number2, None)\n",
    "              print('shelf is deleted, current number of shelves : ' + ', '.join(directories.keys()))\n",
    "              return \n",
    "         else:\n",
    "              print('shelf is not empty')\n",
    "            \n",
    "    return \n",
    "\n",
    "\n",
    "\n",
    "print(del_shelf())\n",
    "\n"
   ]
  }
 ],
 "metadata": {
  "colab": {
   "collapsed_sections": [],
   "name": "HW4_funk.ipynb",
   "provenance": []
  },
  "kernelspec": {
   "display_name": "Python 3",
   "language": "python",
   "name": "python3"
  }
 },
 "nbformat": 4,
 "nbformat_minor": 1
}
