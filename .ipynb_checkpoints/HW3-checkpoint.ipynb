{
 "cells": [
  {
   "cell_type": "markdown",
   "metadata": {},
   "source": [
    "# Task 1"
   ]
  },
  {
   "cell_type": "code",
   "execution_count": 1,
   "metadata": {},
   "outputs": [],
   "source": [
    "ids = {'user1': [213, 213, 213, 15, 213],\n",
    "'user2': [54, 54, 119, 119, 119],\n",
    "'user3': [213, 98, 98, 35]}"
   ]
  },
  {
   "cell_type": "code",
   "execution_count": 2,
   "metadata": {},
   "outputs": [
    {
     "name": "stdout",
     "output_type": "stream",
     "text": [
      "{98, 35, 15, 213, 54, 119}\n"
     ]
    }
   ],
   "source": [
    "uniq_geo = []\n",
    "\n",
    "for geo in ids.values():\n",
    "    set(geo)\n",
    "    uniq_geo = uniq_geo  + geo\n",
    "print (set (uniq_geo))\n",
    "    "
   ]
  },
  {
   "cell_type": "markdown",
   "metadata": {},
   "source": [
    "# Task 2 "
   ]
  },
  {
   "cell_type": "code",
   "execution_count": 3,
   "metadata": {},
   "outputs": [],
   "source": [
    "queries = [\n",
    "    'смотреть сериалы онлайн',\n",
    "    'новости спорта',\n",
    "    'афиша кино',\n",
    "    'курс доллара',\n",
    "    'сериалы этим летом',\n",
    "    'курс по питону',\n",
    "    'сериалы про спорт',\n",
    "]"
   ]
  },
  {
   "cell_type": "code",
   "execution_count": 4,
   "metadata": {},
   "outputs": [
    {
     "name": "stdout",
     "output_type": "stream",
     "text": [
      "Поисковых запросов, содержащих 2 слов(а): 75 % Поисковых запросов, содержащих 3 слов(а): 25 %\n"
     ]
    }
   ],
   "source": [
    "quer2 = 0\n",
    "quer3 = 0\n",
    "for query in queries:\n",
    "    query_splited = query.split(' ')\n",
    "    if len(query_splited) > 2:\n",
    "        quer3 += 1\n",
    "    elif len(query_splited) == 2:\n",
    "        quer2 += 1\n",
    "        \n",
    "        quer_3words = quer3 * 100 // (quer3+quer2)\n",
    "        quer_2words = quer2 * 100 // (quer3+quer2)\n",
    "        \n",
    "print(\"Поисковых запросов, содержащих 2 слов(а):\", quer_2words, \"%\"  , \"Поисковых запросов, содержащих 3 слов(а):\", quer_3words, \"%\")\n",
    "        "
   ]
  },
  {
   "cell_type": "markdown",
   "metadata": {},
   "source": [
    "# Task 3 "
   ]
  },
  {
   "cell_type": "code",
   "execution_count": 5,
   "metadata": {},
   "outputs": [],
   "source": [
    "results = {\n",
    "    'vk': {'revenue': 103, 'cost': 98},\n",
    "    'yandex': {'revenue': 179, 'cost': 153},\n",
    "    'facebook': {'revenue': 103, 'cost': 110},\n",
    "    'adwords': {'revenue': 35, 'cost': 34},\n",
    "    'twitter': {'revenue': 11, 'cost': 24},\n",
    "}"
   ]
  },
  {
   "cell_type": "code",
   "execution_count": 6,
   "metadata": {},
   "outputs": [],
   "source": [
    "#(revenue / cost - 1) * 100\n"
   ]
  },
  {
   "cell_type": "code",
   "execution_count": 22,
   "metadata": {},
   "outputs": [
    {
     "name": "stdout",
     "output_type": "stream",
     "text": [
      "{'vk': {'revenue': 103, 'cost': 98, 'roi': 5.1}, 'yandex': {'revenue': 179, 'cost': 153, 'roi': 16.99}, 'facebook': {'revenue': 103, 'cost': 110, 'roi': -6.36}, 'adwords': {'revenue': 35, 'cost': 34, 'roi': 2.94}, 'twitter': {'revenue': 11, 'cost': 24, 'roi': -54.17}}\n"
     ]
    }
   ],
   "source": [
    "roi=0\n",
    "for company in list(results.values()):\n",
    "    roi = (company['revenue'] / company['cost'] - 1)*100\n",
    "    company['roi'] = round(roi, 2) \n",
    "    #print(company)\n",
    "print (results)\n",
    "    "
   ]
  },
  {
   "cell_type": "markdown",
   "metadata": {},
   "source": [
    "# Task 4"
   ]
  },
  {
   "cell_type": "code",
   "execution_count": 9,
   "metadata": {},
   "outputs": [],
   "source": [
    "stats = {'facebook': 55, 'yandex': 115, 'vk': 120, 'google': 99, 'email': 42, 'ok': 98}\n",
    "\n",
    "#Результат: Максимальный объем продаж на рекламном канале: vk"
   ]
  },
  {
   "cell_type": "code",
   "execution_count": 41,
   "metadata": {},
   "outputs": [
    {
     "name": "stdout",
     "output_type": "stream",
     "text": [
      "Максимальный объем продаж на рекламном канале:  vk\n"
     ]
    }
   ],
   "source": [
    "#max(list(stats.values()))\n",
    "#вывести ключ, чье значение равно max(list(stats.values()))\n",
    "for key, value in stats.items():\n",
    "    if max(list(stats.values())) == value:\n",
    "        print('Максимальный объем продаж на рекламном канале: ' , key)\n",
    "        "
   ]
  },
  {
   "cell_type": "markdown",
   "metadata": {},
   "source": [
    "# Task 5 "
   ]
  },
  {
   "cell_type": "code",
   "execution_count": 3,
   "metadata": {},
   "outputs": [],
   "source": [
    "my_list = ['2018-01-01', 'yandex', 'cpc', 100]"
   ]
  },
  {
   "cell_type": "code",
   "execution_count": 5,
   "metadata": {},
   "outputs": [
    {
     "name": "stdout",
     "output_type": "stream",
     "text": [
      "{'cpc': 100, 'yandex': 100}\n"
     ]
    }
   ],
   "source": [
    "my_dict = dict()\n",
    "i=0\n",
    "for element in my_list:\n",
    "    my_dict[my_list[-2]]= my_list[-1]\n",
    "    my_dict[my_list[-3]] = my_dict[my_list[-2]]\n",
    "    #my_dict.get(my_list[0])[my_list[1]] = my_list[2]\n",
    "    #my_dict_values = list(my_dict.values())\n",
    "    #my_dict_values[my_list[1]] = my_list[2]\n",
    "print(my_dict)\n",
    "# происходит переназаначение переменной. чтобы этого избежать нужно каждый раз создавать в цикле новую переменную, чтобы цикл был нечувствиетлен к окличеству элементов в исходном списке. "
   ]
  },
  {
   "cell_type": "code",
   "execution_count": 6,
   "metadata": {},
   "outputs": [
    {
     "name": "stdout",
     "output_type": "stream",
     "text": [
      "{'2018-01-01': {'yandex': {'cpc': 100}}}\n"
     ]
    }
   ],
   "source": [
    "#если в ручную (без цикла)\n",
    "my_dict = dict()\n",
    "my_dict1 = dict()\n",
    "my_dict2 = dict()\n",
    "# как избежать назначения всех этих переменных перед циклом\n",
    "\n",
    "i=0\n",
    "for element in my_list:\n",
    "    my_dict['cpc'] = 100\n",
    "    my_dict1['yandex'] = my_dict\n",
    "    my_dict2['2018-01-01'] = my_dict1\n",
    "   \n",
    "print(my_dict2)"
   ]
  },
  {
   "cell_type": "code",
   "execution_count": null,
   "metadata": {},
   "outputs": [],
   "source": []
  },
  {
   "cell_type": "code",
   "execution_count": null,
   "metadata": {},
   "outputs": [],
   "source": []
  }
 ],
 "metadata": {
  "kernelspec": {
   "display_name": "Python 3",
   "language": "python",
   "name": "python3"
  },
  "language_info": {
   "codemirror_mode": {
    "name": "ipython",
    "version": 3
   },
   "file_extension": ".py",
   "mimetype": "text/x-python",
   "name": "python",
   "nbconvert_exporter": "python",
   "pygments_lexer": "ipython3",
   "version": "3.8.5"
  }
 },
 "nbformat": 4,
 "nbformat_minor": 4
}
