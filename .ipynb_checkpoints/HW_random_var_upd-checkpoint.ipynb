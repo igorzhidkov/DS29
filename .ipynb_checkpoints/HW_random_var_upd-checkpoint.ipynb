{
 "cells": [
  {
   "cell_type": "code",
   "execution_count": 11,
   "metadata": {},
   "outputs": [],
   "source": [
    "import numpy as np\n",
    "import re\n",
    "import timeit\n"
   ]
  },
  {
   "cell_type": "code",
   "execution_count": 2,
   "metadata": {},
   "outputs": [],
   "source": [
    "# моделировать игру против лотерейного автомата типа “777”. \n",
    "# Игрок платит 1 руб., после чего выпадает случайное целое число, \n",
    "# равномерно распределенное от 0 до 999. При некоторых значениях числа игрок получает выигрыш.\n",
    "\n",
    "# 777: 200 руб.\n",
    "# 999: 100 руб.\n",
    "# 555: 50 руб.\n",
    "# 333: 15 руб.\n",
    "# 111: 10 руб.\n",
    "# *77: 5 руб.\n",
    "# **7: 3 руб.\n",
    "# *00: 2 руб.\n",
    "# **0: 1 руб.\n",
    "\n",
    "# Вопросы:\n",
    "\n",
    "# Выгодна ли игра игроку?\n",
    "# Сколько в среднем приобретает или теряет игрок за одну игру?"
   ]
  },
  {
   "cell_type": "markdown",
   "metadata": {},
   "source": [
    "# Выгодна ли игра игроку? "
   ]
  },
  {
   "cell_type": "code",
   "execution_count": 12,
   "metadata": {},
   "outputs": [
    {
     "ename": "SyntaxError",
     "evalue": "invalid syntax (<unknown>, line 20)",
     "output_type": "error",
     "traceback": [
      "Traceback \u001b[1;36m(most recent call last)\u001b[0m:\n",
      "  File \u001b[0;32m\"C:\\Users\\X240\\anaconda3\\lib\\site-packages\\IPython\\core\\interactiveshell.py\"\u001b[0m, line \u001b[0;32m3418\u001b[0m, in \u001b[0;35mrun_code\u001b[0m\n    exec(code_obj, self.user_global_ns, self.user_ns)\n",
      "  File \u001b[0;32m\"<ipython-input-12-c61e38dd0ffb>\"\u001b[0m, line \u001b[0;32m1\u001b[0m, in \u001b[0;35m<module>\u001b[0m\n    get_ipython().run_cell_magic('time', '', '\\nfor i in range(1000000):\\n    x = np.random.randint(0, 1000)\\n\\n    if x == 777:\\n        gain+= 200\\n    elif x == 999:\\n        gain+= 100\\n    elif x == 555:\\n        gain+= 50\\n    elif x == 333:\\n        gain+= 15\\n    elif x == 111:\\n        gain+= 10    \\n    elif x % 100 == 77:\\n        gain += 5\\n    elif x % 10 == 7:\\n        gain += 3\\n    elif x % 100 == 0:\\n        gain += 2\\n    else x % 10 == 0\\n        gain += 1\\n\\nprint(1000000/gain)            \\n\\n        \\n')\n",
      "  File \u001b[0;32m\"C:\\Users\\X240\\anaconda3\\lib\\site-packages\\IPython\\core\\interactiveshell.py\"\u001b[0m, line \u001b[0;32m2382\u001b[0m, in \u001b[0;35mrun_cell_magic\u001b[0m\n    result = fn(*args, **kwargs)\n",
      "  File \u001b[0;32m\"<decorator-gen-55>\"\u001b[0m, line \u001b[0;32m2\u001b[0m, in \u001b[0;35mtime\u001b[0m\n",
      "  File \u001b[0;32m\"C:\\Users\\X240\\anaconda3\\lib\\site-packages\\IPython\\core\\magic.py\"\u001b[0m, line \u001b[0;32m187\u001b[0m, in \u001b[0;35m<lambda>\u001b[0m\n    call = lambda f, *a, **k: f(*a, **k)\n",
      "  File \u001b[0;32m\"C:\\Users\\X240\\anaconda3\\lib\\site-packages\\IPython\\core\\magics\\execution.py\"\u001b[0m, line \u001b[0;32m1277\u001b[0m, in \u001b[0;35mtime\u001b[0m\n    expr_ast = self.shell.compile.ast_parse(expr)\n",
      "\u001b[1;36m  File \u001b[1;32m\"C:\\Users\\X240\\anaconda3\\lib\\site-packages\\IPython\\core\\compilerop.py\"\u001b[1;36m, line \u001b[1;32m101\u001b[1;36m, in \u001b[1;35mast_parse\u001b[1;36m\u001b[0m\n\u001b[1;33m    return compile(source, filename, symbol, self.flags | PyCF_ONLY_AST, 1)\u001b[0m\n",
      "\u001b[1;36m  File \u001b[1;32m\"<unknown>\"\u001b[1;36m, line \u001b[1;32m20\u001b[0m\n\u001b[1;33m    else x % 10 == 0\u001b[0m\n\u001b[1;37m         ^\u001b[0m\n\u001b[1;31mSyntaxError\u001b[0m\u001b[1;31m:\u001b[0m invalid syntax\n"
     ]
    }
   ],
   "source": [
    "%%time\n",
    "\n",
    "for i in range(1000000):\n",
    "    x = np.random.randint(0, 1000)\n",
    "\n",
    "    if x == 777:\n",
    "        gain+= 200\n",
    "    elif x == 999:\n",
    "        gain+= 100\n",
    "    elif x == 555:\n",
    "        gain+= 50\n",
    "    elif x == 333:\n",
    "        gain+= 15\n",
    "    elif x == 111:\n",
    "        gain+= 10    \n",
    "    elif x % 100 == 77:\n",
    "        gain += 5\n",
    "    elif x % 10 == 7:\n",
    "        gain += 3\n",
    "    elif x % 100 == 0:\n",
    "        gain += 2\n",
    "    else x % 10 == 0\n",
    "        gain += 1\n",
    "\n",
    "print(1000000/gain)            \n",
    "\n",
    "        "
   ]
  },
  {
   "cell_type": "markdown",
   "metadata": {},
   "source": [
    "# Дополнительное задание "
   ]
  },
  {
   "cell_type": "code",
   "execution_count": 6,
   "metadata": {},
   "outputs": [],
   "source": [
    "\n",
    "\n",
    "#вероятность выпадения 777 999 555 333 111 равна 0.001, \n",
    "\n",
    "# *77 = 0.009\n",
    "\n",
    "# *00 = 0.01\n",
    "\n",
    "# **7 = 0.091\n",
    "\n",
    "# **0 = 0.09\n",
    "\n",
    "# умножаем выигрыши на вероятность их выпадения в автомате чтобы найти полную вероятность \n",
    "# полная вероятность выиграть = 0.803 \n",
    "\n",
    "\n"
   ]
  },
  {
   "cell_type": "code",
   "execution_count": null,
   "metadata": {},
   "outputs": [],
   "source": []
  },
  {
   "cell_type": "code",
   "execution_count": null,
   "metadata": {},
   "outputs": [],
   "source": []
  },
  {
   "cell_type": "code",
   "execution_count": null,
   "metadata": {},
   "outputs": [],
   "source": []
  }
 ],
 "metadata": {
  "kernelspec": {
   "display_name": "Python 3",
   "language": "python",
   "name": "python3"
  },
  "language_info": {
   "codemirror_mode": {
    "name": "ipython",
    "version": 3
   },
   "file_extension": ".py",
   "mimetype": "text/x-python",
   "name": "python",
   "nbconvert_exporter": "python",
   "pygments_lexer": "ipython3",
   "version": "3.8.5"
  }
 },
 "nbformat": 4,
 "nbformat_minor": 4
}
