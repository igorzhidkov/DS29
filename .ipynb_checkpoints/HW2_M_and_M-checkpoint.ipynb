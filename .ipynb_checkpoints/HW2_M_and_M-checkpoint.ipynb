{
 "cells": [
  {
   "cell_type": "code",
   "execution_count": 2,
   "metadata": {},
   "outputs": [],
   "source": [
    "import os\n",
    "import numpy as np\n",
    "import pandas as pd\n",
    "import statsmodels as sm"
   ]
  },
  {
   "cell_type": "markdown",
   "metadata": {},
   "source": [
    "## Problem 1"
   ]
  },
  {
   "cell_type": "code",
   "execution_count": 4,
   "metadata": {},
   "outputs": [],
   "source": [
    "os.chdir('/Users/ds_29')"
   ]
  },
  {
   "cell_type": "code",
   "execution_count": 12,
   "metadata": {},
   "outputs": [
    {
     "name": "stdout",
     "output_type": "stream",
     "text": [
      "  First Name Last Name  Gender\n",
      "0     Carlos   Emerich    Male\n",
      "1    Rudolph   Torrens    Male\n",
      "2       Jane     Brown  Female\n",
      "3      Sarah     Myers  Female\n",
      "4     Thomas     Green    Male\n",
      "    First Name Last Name  Income\n",
      "0       Carlos   Emerich   20000\n",
      "1      Rudolph   Torrens   16000\n",
      "2         Jane     Brown   35000\n",
      "3        Sarah     Myers   30000\n",
      "4       Thomas     Green   45000\n",
      "5  Christopher  Anderson   18000\n"
     ]
    }
   ],
   "source": [
    "dataset1 = pd.read_csv(\"genders.csv\")\n",
    "dataset2 = pd.read_csv(\"incomes.csv\")   \n",
    "print(dataset1)\n",
    "print(dataset2)"
   ]
  },
  {
   "cell_type": "code",
   "execution_count": 30,
   "metadata": {},
   "outputs": [
    {
     "name": "stdout",
     "output_type": "stream",
     "text": [
      "  First Name Last Name  Gender  Income  income_>40k  income_<20k\n",
      "0     Carlos   Emerich    Male   20000        False        False\n",
      "1    Rudolph   Torrens    Male   16000        False         True\n",
      "2       Jane     Brown  Female   35000        False        False\n",
      "3      Sarah     Myers  Female   30000        False        False\n",
      "4     Thomas     Green    Male   45000         True        False\n"
     ]
    }
   ],
   "source": [
    "merged_data = pd.merge(dataset1, dataset2, on = [\"First Name\"])\n",
    "del merged_data['Last Name_y']\n",
    "merged_data.rename(index=str, columns={'Last Name_x': 'Last Name'}, inplace=True)\n",
    "merged_data[\"income_>40k\"] = [x > 40000 for x in merged_data[\"Income\"]]\n",
    "merged_data[\"income_<20k\"] = [x < 20000 for x in merged_data[\"Income\"]]\n",
    "print(merged_data)"
   ]
  },
  {
   "cell_type": "code",
   "execution_count": 33,
   "metadata": {},
   "outputs": [
    {
     "name": "stdout",
     "output_type": "stream",
     "text": [
      "  First Name Last Name  Gender  Income  income_>40k  income_<20k  \\\n",
      "0     Carlos   Emerich    Male   20000        False        False   \n",
      "1    Rudolph   Torrens    Male   16000        False         True   \n",
      "2       Jane     Brown  Female   35000        False        False   \n",
      "3      Sarah     Myers  Female   30000        False        False   \n",
      "4     Thomas     Green    Male   45000         True        False   \n",
      "\n",
      "   20k<incm<40k_M  \n",
      "0           False  \n",
      "1            True  \n",
      "2           False  \n",
      "3           False  \n",
      "4            True  \n"
     ]
    }
   ],
   "source": [
    "merged_data[\"20k<incm<40k_M\"] = [x == 'Male' and y == True or  z == True for x,y,z in zip(merged_data[\"Gender\"], merged_data[\"income_>40k\"],merged_data[\"income_<20k\"])]\n",
    "\n",
    "print(merged_data)"
   ]
  },
  {
   "cell_type": "code",
   "execution_count": null,
   "metadata": {},
   "outputs": [],
   "source": [
    "#Continue with GDP "
   ]
  },
  {
   "cell_type": "code",
   "execution_count": 35,
   "metadata": {
    "scrolled": true
   },
   "outputs": [
    {
     "name": "stdout",
     "output_type": "stream",
     "text": [
      "       state_long  year  logGDPpc\n",
      "0     Afghanistan  2002  5.898720\n",
      "1     Afghanistan  2003  5.931605\n",
      "2     Afghanistan  2004  5.897416\n",
      "3     Afghanistan  2005  5.964649\n",
      "4     Afghanistan  2006  5.986417\n",
      "...           ...   ...       ...\n",
      "8893     Zimbabwe  2013  6.848046\n",
      "8894     Zimbabwe  2014  6.845646\n",
      "8895     Zimbabwe  2015  6.838944\n",
      "8896     Zimbabwe  2016  6.821722\n",
      "8897     Zimbabwe  2017  6.832384\n",
      "\n",
      "[8898 rows x 3 columns]\n"
     ]
    }
   ],
   "source": [
    "gdp_dataset = pd.read_csv(\"gdp.csv\")\n",
    "print(gdp_dataset)"
   ]
  },
  {
   "cell_type": "code",
   "execution_count": 46,
   "metadata": {},
   "outputs": [
    {
     "name": "stdout",
     "output_type": "stream",
     "text": [
      "year                       1960      1961      1962      1963      1964  \\\n",
      "state_long                                                                \n",
      "Afghanistan                 NaN       NaN       NaN       NaN       NaN   \n",
      "Albania                     NaN       NaN       NaN       NaN       NaN   \n",
      "Algeria                7.810368  7.639268  7.395346  7.665434  7.696583   \n",
      "American Samoa              NaN       NaN       NaN       NaN       NaN   \n",
      "Andorra                     NaN       NaN       NaN       NaN       NaN   \n",
      "...                         ...       ...       ...       ...       ...   \n",
      "Virgin Islands (U.S.)       NaN       NaN       NaN       NaN       NaN   \n",
      "West Bank and Gaza          NaN       NaN       NaN       NaN       NaN   \n",
      "Yemen                       NaN       NaN       NaN       NaN       NaN   \n",
      "Zambia                 7.318833  7.301499  7.244827  7.245271  7.328793   \n",
      "Zimbabwe               6.799639  6.828491  6.810034  6.837810  6.794049   \n",
      "\n",
      "year                       1965      1966      1967      1968      1969  ...  \\\n",
      "state_long                                                               ...   \n",
      "Afghanistan                 NaN       NaN       NaN       NaN       NaN  ...   \n",
      "Albania                     NaN       NaN       NaN       NaN       NaN  ...   \n",
      "Algeria                7.730239  7.653400  7.715324  7.789047  7.841321  ...   \n",
      "American Samoa              NaN       NaN       NaN       NaN       NaN  ...   \n",
      "Andorra                     NaN       NaN       NaN       NaN       NaN  ...   \n",
      "...                         ...       ...       ...       ...       ...  ...   \n",
      "Virgin Islands (U.S.)       NaN       NaN       NaN       NaN       NaN  ...   \n",
      "West Bank and Gaza          NaN       NaN       NaN       NaN       NaN  ...   \n",
      "Yemen                       NaN       NaN       NaN       NaN       NaN  ...   \n",
      "Zambia                 7.451288  7.362814  7.408044  7.389244  7.352957  ...   \n",
      "Zimbabwe               6.809647  6.792804  6.841468  6.829275  6.914355  ...   \n",
      "\n",
      "year                        2008       2009       2010       2011       2012  \\\n",
      "state_long                                                                     \n",
      "Afghanistan             6.097962   6.263062   6.315901   6.344291   6.446398   \n",
      "Albania                 8.236257   8.275972   8.317365   8.345237   8.360989   \n",
      "Algeria                 8.387198   8.386182   8.403665   8.412925   8.426050   \n",
      "American Samoa          9.259167   9.230051   9.245014   9.253661   9.210371   \n",
      "Andorra                10.689691  10.644945  10.590022  10.550742  10.550344   \n",
      "...                          ...        ...        ...        ...        ...   \n",
      "Virgin Islands (U.S.)  10.657058  10.588280  10.597714  10.513218  10.351405   \n",
      "West Bank and Gaza      7.613086   7.758873   7.757359   7.800417   7.906074   \n",
      "Yemen                   7.119483   7.130125   7.177196   7.014232   7.011119   \n",
      "Zambia                  7.159187   7.219204   7.288390   7.313039   7.356216   \n",
      "Zimbabwe                6.385409   6.480487   6.579223   6.701756   6.817317   \n",
      "\n",
      "year                        2013       2014       2015       2016       2017  \n",
      "state_long                                                                    \n",
      "Afghanistan             6.451510   6.446228   6.429811   6.426310   6.427027  \n",
      "Albania                 8.372779   8.392437   8.417294   8.451865   8.490479  \n",
      "Algeria                 8.432989   8.450174   8.467918   8.482130   8.481603  \n",
      "American Samoa          9.181026   9.188083   9.198684   9.171025        NaN  \n",
      "Andorra                10.573988  10.616071  10.639836  10.667991  10.690647  \n",
      "...                          ...        ...        ...        ...        ...  \n",
      "Virgin Islands (U.S.)  10.293009  10.284822  10.288378        NaN        NaN  \n",
      "West Bank and Gaza      7.832485   7.791931   7.879215   7.884403   7.821666  \n",
      "Yemen                   7.031827   7.004081   6.514511   6.069319        NaN  \n",
      "Zambia                  7.375203   7.390690   7.389229   7.396084   7.406191  \n",
      "Zimbabwe                6.848046   6.845646   6.838944   6.821722   6.832384  \n",
      "\n",
      "[203 rows x 58 columns]\n"
     ]
    }
   ],
   "source": [
    "wide_gdp_data = gdp_dataset.pivot(index='state_long', columns='year', values='logGDPpc')\n",
    "print(wide_gdp_data)"
   ]
  },
  {
   "cell_type": "code",
   "execution_count": 49,
   "metadata": {},
   "outputs": [
    {
     "ename": "KeyError",
     "evalue": "\"The following 'id_vars' are not present in the DataFrame: ['state_long']\"",
     "output_type": "error",
     "traceback": [
      "\u001b[1;31m---------------------------------------------------------------------------\u001b[0m",
      "\u001b[1;31mKeyError\u001b[0m                                  Traceback (most recent call last)",
      "\u001b[1;32m<ipython-input-49-756766e9b0a4>\u001b[0m in \u001b[0;36m<module>\u001b[1;34m\u001b[0m\n\u001b[1;32m----> 1\u001b[1;33m \u001b[0mlong_gdp_data\u001b[0m \u001b[1;33m=\u001b[0m \u001b[0mwide_gdp_data\u001b[0m\u001b[1;33m.\u001b[0m\u001b[0mmelt\u001b[0m\u001b[1;33m(\u001b[0m \u001b[0mid_vars\u001b[0m \u001b[1;33m=\u001b[0m \u001b[1;33m[\u001b[0m\u001b[1;34m'state_long'\u001b[0m\u001b[1;33m]\u001b[0m\u001b[1;33m,\u001b[0m \u001b[0mvalue_vars\u001b[0m \u001b[1;33m=\u001b[0m \u001b[1;33m[\u001b[0m\u001b[1;34m'year'\u001b[0m\u001b[1;33m,\u001b[0m \u001b[1;34m'logGDPpc'\u001b[0m\u001b[1;33m]\u001b[0m\u001b[1;33m)\u001b[0m\u001b[1;33m\u001b[0m\u001b[1;33m\u001b[0m\u001b[0m\n\u001b[0m\u001b[0;32m      2\u001b[0m \u001b[1;33m\u001b[0m\u001b[0m\n\u001b[0;32m      3\u001b[0m \u001b[0mprint\u001b[0m\u001b[1;33m(\u001b[0m\u001b[0mlong_gdp_data\u001b[0m\u001b[1;33m)\u001b[0m\u001b[1;33m\u001b[0m\u001b[1;33m\u001b[0m\u001b[0m\n",
      "\u001b[1;32m~\\anaconda3\\lib\\site-packages\\pandas\\core\\frame.py\u001b[0m in \u001b[0;36mmelt\u001b[1;34m(self, id_vars, value_vars, var_name, value_name, col_level, ignore_index)\u001b[0m\n\u001b[0;32m   7160\u001b[0m     ) -> \"DataFrame\":\n\u001b[0;32m   7161\u001b[0m \u001b[1;33m\u001b[0m\u001b[0m\n\u001b[1;32m-> 7162\u001b[1;33m         return melt(\n\u001b[0m\u001b[0;32m   7163\u001b[0m             \u001b[0mself\u001b[0m\u001b[1;33m,\u001b[0m\u001b[1;33m\u001b[0m\u001b[1;33m\u001b[0m\u001b[0m\n\u001b[0;32m   7164\u001b[0m             \u001b[0mid_vars\u001b[0m\u001b[1;33m=\u001b[0m\u001b[0mid_vars\u001b[0m\u001b[1;33m,\u001b[0m\u001b[1;33m\u001b[0m\u001b[1;33m\u001b[0m\u001b[0m\n",
      "\u001b[1;32m~\\anaconda3\\lib\\site-packages\\pandas\\core\\reshape\\melt.py\u001b[0m in \u001b[0;36mmelt\u001b[1;34m(frame, id_vars, value_vars, var_name, value_name, col_level, ignore_index)\u001b[0m\n\u001b[0;32m     65\u001b[0m             \u001b[0mmissing\u001b[0m \u001b[1;33m=\u001b[0m \u001b[0mIndex\u001b[0m\u001b[1;33m(\u001b[0m\u001b[0mcom\u001b[0m\u001b[1;33m.\u001b[0m\u001b[0mflatten\u001b[0m\u001b[1;33m(\u001b[0m\u001b[0mid_vars\u001b[0m\u001b[1;33m)\u001b[0m\u001b[1;33m)\u001b[0m\u001b[1;33m.\u001b[0m\u001b[0mdifference\u001b[0m\u001b[1;33m(\u001b[0m\u001b[0mcols\u001b[0m\u001b[1;33m)\u001b[0m\u001b[1;33m\u001b[0m\u001b[1;33m\u001b[0m\u001b[0m\n\u001b[0;32m     66\u001b[0m             \u001b[1;32mif\u001b[0m \u001b[1;32mnot\u001b[0m \u001b[0mmissing\u001b[0m\u001b[1;33m.\u001b[0m\u001b[0mempty\u001b[0m\u001b[1;33m:\u001b[0m\u001b[1;33m\u001b[0m\u001b[1;33m\u001b[0m\u001b[0m\n\u001b[1;32m---> 67\u001b[1;33m                 raise KeyError(\n\u001b[0m\u001b[0;32m     68\u001b[0m                     \u001b[1;34m\"The following 'id_vars' are not present \"\u001b[0m\u001b[1;33m\u001b[0m\u001b[1;33m\u001b[0m\u001b[0m\n\u001b[0;32m     69\u001b[0m                     \u001b[1;34mf\"in the DataFrame: {list(missing)}\"\u001b[0m\u001b[1;33m\u001b[0m\u001b[1;33m\u001b[0m\u001b[0m\n",
      "\u001b[1;31mKeyError\u001b[0m: \"The following 'id_vars' are not present in the DataFrame: ['state_long']\""
     ]
    }
   ],
   "source": [
    "long_gdp_data = wide_gdp_data.melt( id_vars = ['state_long'], value_vars = ['year', 'logGDPpc'])\n",
    "\n",
    "print(long_gdp_data)"
   ]
  },
  {
   "cell_type": "code",
   "execution_count": 42,
   "metadata": {},
   "outputs": [
    {
     "name": "stdout",
     "output_type": "stream",
     "text": [
      "203\n"
     ]
    }
   ],
   "source": [
    "print(len(wide_gdp_data))"
   ]
  },
  {
   "cell_type": "code",
   "execution_count": 53,
   "metadata": {},
   "outputs": [
    {
     "name": "stdout",
     "output_type": "stream",
     "text": [
      "       state_long  year  logGDPpc  gdp_>_6\n",
      "0     Afghanistan  2002  5.898720    False\n",
      "1     Afghanistan  2003  5.931605    False\n",
      "2     Afghanistan  2004  5.897416    False\n",
      "3     Afghanistan  2005  5.964649    False\n",
      "4     Afghanistan  2006  5.986417    False\n",
      "...           ...   ...       ...      ...\n",
      "8893     Zimbabwe  2013  6.848046     True\n",
      "8894     Zimbabwe  2014  6.845646     True\n",
      "8895     Zimbabwe  2015  6.838944     True\n",
      "8896     Zimbabwe  2016  6.821722     True\n",
      "8897     Zimbabwe  2017  6.832384     True\n",
      "\n",
      "[8898 rows x 4 columns]\n"
     ]
    }
   ],
   "source": [
    "gdp_dataset['gdp_>_6'] = [x > 6 for x in gdp_dataset[\"logGDPpc\"]]\n",
    "print(gdp_dataset)"
   ]
  },
  {
   "cell_type": "code",
   "execution_count": 54,
   "metadata": {},
   "outputs": [
    {
     "name": "stdout",
     "output_type": "stream",
     "text": [
      "       state_long  year  logGDPpc  gdp_>_6  finland\n",
      "0     Afghanistan  2002  5.898720    False    False\n",
      "1     Afghanistan  2003  5.931605    False    False\n",
      "2     Afghanistan  2004  5.897416    False    False\n",
      "3     Afghanistan  2005  5.964649    False    False\n",
      "4     Afghanistan  2006  5.986417    False    False\n",
      "...           ...   ...       ...      ...      ...\n",
      "8893     Zimbabwe  2013  6.848046     True    False\n",
      "8894     Zimbabwe  2014  6.845646     True    False\n",
      "8895     Zimbabwe  2015  6.838944     True    False\n",
      "8896     Zimbabwe  2016  6.821722     True    False\n",
      "8897     Zimbabwe  2017  6.832384     True    False\n",
      "\n",
      "[8898 rows x 5 columns]\n"
     ]
    }
   ],
   "source": [
    "gdp_dataset['finland'] = [x == 'Finland' for x in gdp_dataset[\"state_long\"]]\n",
    "print(gdp_dataset)"
   ]
  },
  {
   "cell_type": "markdown",
   "metadata": {},
   "source": [
    "## Problem 2\n"
   ]
  },
  {
   "cell_type": "code",
   "execution_count": 58,
   "metadata": {},
   "outputs": [
    {
     "name": "stdout",
     "output_type": "stream",
     "text": [
      "[0.0, 0.52, 0.0, 0.4, 0.65, 0.35, 0.61, 0.29, 0.49, 0.67, 0.45, 0.62, 0.45, 0.59, 0.69, 0.52, 0.65, 0.5, 0.61, 0.71, 0.64, 0.71, 0.6, 0.68, 0.81, 0.69, 0.78, 0.67, 0.75, 0.83, 0.77, 0.81, 0.74, 0.78, 0.82, 0.77, 0.83, 0.77, 0.82, 0.89, 0.82, 0.85, 0.8, 0.85, 0.91, 0.81, 0.85, 0.81, 0.83, 0.86, 0.82, 0.85, 0.82, 0.86, 0.89, 0.85, 0.86, 0.85, 0.88, 0.89, 0.87, 0.9, 0.87, 0.9, 0.92, 0.9, 0.93, 0.89, 0.91, 0.94, 0.92, 0.95, 0.92, 0.96, 0.97, 0.94, 0.95, 0.93, 0.95, 0.98, 0.94, 0.96, 0.94, 0.95, 0.96, 0.96, 0.96, 0.95, 0.96, 0.97, 0.96, 0.97, 0.96, 0.97, 0.97, 0.97, 0.97, 0.96, 0.96, 0.97, 0.96, 0.98, 0.96, 0.97, 0.98, 0.96, 0.97, 0.96, 0.98, 0.98, 0.98, 0.98, 0.97, 0.99, 0.99, 0.99, 0.99, 0.99, 0.99, 0.99, 0.99, 0.99, 0.99, 0.99, 0.99, 0.98, 0.98, 0.98, 0.98, 0.99, 0.98, 0.98, 0.98, 0.98, 0.99, 0.98, 0.99, 0.98, 0.99, 0.99, 0.98, 0.98, 0.98, 0.98, 0.98, 0.98, 0.99, 0.99, 0.99, 0.99, 0.99, 0.99, 0.99, 0.99, 1.0, 0.99, 1.0, 1.0, 1.0, 1.0, 1.0, 1.0, 0.99, 1.0, 1.0, 1.0, 1.0, 1.0, 1.0, 1.0, 1.0, 1.0, 1.0, 1.0, 1.0, 1.0, 1.0, 1.0, 1.0, 1.0, 1.0, 1.0, 1.0, 1.0, 1.0, 1.0, 1.0, 1.0, 1.0, 1.0, 1.0, 1.0, 1.0, 1.0, 1.0, 1.0, 1.0, 1.0, 1.0, 1.0]\n"
     ]
    }
   ],
   "source": [
    "np.random.seed(12345)\n",
    "sequences = np.random.binomial(1, 0.5, 100)\n",
    "probabilities = []\n",
    "epsilon = 0.1\n",
    "\n",
    "for x in range(200):\n",
    "    p = 0\n",
    "    for y in range(100):\n",
    "        p += abs(sequences[y]/(x+1) - 0.5)<epsilon\n",
    "        sequences[y] += int(np.random.binomial(1, 0.5, 1))\n",
    "    probabilities += [p/100]\n",
    "print(probabilities)"
   ]
  },
  {
   "cell_type": "code",
   "execution_count": null,
   "metadata": {},
   "outputs": [],
   "source": []
  },
  {
   "cell_type": "code",
   "execution_count": null,
   "metadata": {},
   "outputs": [],
   "source": []
  }
 ],
 "metadata": {
  "kernelspec": {
   "display_name": "Python 3",
   "language": "python",
   "name": "python3"
  },
  "language_info": {
   "codemirror_mode": {
    "name": "ipython",
    "version": 3
   },
   "file_extension": ".py",
   "mimetype": "text/x-python",
   "name": "python",
   "nbconvert_exporter": "python",
   "pygments_lexer": "ipython3",
   "version": "3.8.5"
  }
 },
 "nbformat": 4,
 "nbformat_minor": 4
}
