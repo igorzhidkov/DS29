{
 "cells": [
  {
   "cell_type": "markdown",
   "metadata": {
    "id": "1SurfuzXDCeO"
   },
   "source": [
    "#**Task 1**"
   ]
  },
  {
   "cell_type": "code",
   "execution_count": 7,
   "metadata": {
    "id": "Eshbn3VoDAWH"
   },
   "outputs": [],
   "source": [
    "import re"
   ]
  },
  {
   "cell_type": "code",
   "execution_count": null,
   "metadata": {
    "id": "xuqUl48jCmex"
   },
   "outputs": [],
   "source": [
    "car_id = 'А222ВС96' \n",
    "# Результат: Номер A222BС валиден. Регион: 96\n",
    "\n",
    "# Напишите функцию, которая принимает на вход строку и проверяет является ли она валидным \n",
    "# транспортным номером (1 буква, 3 цифры, 2 буквы, 2-3 цифры). \n",
    "# Обратите внимание, что не все буквы кириллического алфавита используются в транспортных номерах."
   ]
  },
  {
   "cell_type": "code",
   "execution_count": null,
   "metadata": {
    "colab": {
     "base_uri": "https://localhost:8080/"
    },
    "id": "4K4ctASaDBPT",
    "outputId": "3bdecaf8-d58d-4f7f-d5df-2a6f35bc5962"
   },
   "outputs": [
    {
     "name": "stdout",
     "output_type": "stream",
     "text": [
      "ываы\n",
      "Неправильный номер\n"
     ]
    }
   ],
   "source": [
    "def car_id_funk():\n",
    "  car_id_= input()\n",
    "  re.findall(valid_id, car_id_)\n",
    "  if car_id_ in  re.findall(valid_id, car_id_) :\n",
    "    region = ''.join(re.findall('\\d{2,3}$', car_id_))\n",
    "    print(f'Результат: Номер ' + car_id_ + 'валиден. Регион: ' + region)\n",
    "  else:\n",
    "    print('Неправильный номер')  \n",
    "\n",
    "\n",
    "car_id_funk()"
   ]
  },
  {
   "cell_type": "markdown",
   "metadata": {
    "id": "8ybVgLCzQuel"
   },
   "source": [
    "# **Task 2**"
   ]
  },
  {
   "cell_type": "code",
   "execution_count": null,
   "metadata": {
    "id": "3n5oURiEQcyJ"
   },
   "outputs": [],
   "source": [
    "# 'Напишите функцию, которая будет удалять все последовательные\n",
    "#  повторы слов из заданной строки при помощи регулярных выражений.\n",
    "\n",
    "# Пример работы программы:'\n",
    "\n",
    "some_string = 'Напишите функцию функцию, которая будет будет будет будет удалять все все все все последовательные повторы слов из из из из заданной строки строки при помощи регулярных выражений.'"
   ]
  },
  {
   "cell_type": "code",
   "execution_count": null,
   "metadata": {
    "colab": {
     "base_uri": "https://localhost:8080/",
     "height": 73
    },
    "id": "fZ793KPzRMLk",
    "outputId": "a59285ca-ad07-4936-a867-38e4b7e1c314"
   },
   "outputs": [
    {
     "name": "stdout",
     "output_type": "stream",
     "text": [
      "Напишите функцию функцию, которая будет будет будет будет удалять все все все все последовательные повторы слов из из из из заданной строки строки при помощи регулярных выражений.\n"
     ]
    },
    {
     "data": {
      "application/vnd.google.colaboratory.intrinsic+json": {
       "type": "string"
      },
      "text/plain": [
       "'Напишите функцию, которая будет удалять все последовательные повторы слов из заданной строки при помощи регулярных выражений.'"
      ]
     },
     "execution_count": 78,
     "metadata": {},
     "output_type": "execute_result"
    }
   ],
   "source": [
    "def repeat_del():\n",
    "  input_string = input()\n",
    "  return re.sub(r'(\\w+)(\\s\\1)+', r'\\1',input_string)\n",
    "\n",
    "\n",
    "repeat_del()  "
   ]
  },
  {
   "cell_type": "code",
   "execution_count": null,
   "metadata": {
    "colab": {
     "base_uri": "https://localhost:8080/",
     "height": 35
    },
    "id": "zsKuB_9CSX2e",
    "outputId": "fe1b6bef-6c26-41d4-833c-97532ca59d2d"
   },
   "outputs": [
    {
     "data": {
      "application/vnd.google.colaboratory.intrinsic+json": {
       "type": "string"
      },
      "text/plain": [
       "'Напишите функцию, которая будет удалять все последовательные повторы слов из заданной строки при помощи регулярных выражений.'"
      ]
     },
     "execution_count": 79,
     "metadata": {},
     "output_type": "execute_result"
    }
   ],
   "source": [
    "# re.sub(r'(\\w+)\\s\\1+', r'\\1',some_string)\n",
    "# re.findall(r'\\w+',some_string)\n",
    "\n",
    "re.sub(r'(\\w+)(\\s\\1)+', r'\\1',some_string)\n",
    "\n"
   ]
  },
  {
   "cell_type": "markdown",
   "metadata": {
    "id": "YTbBzuxNj76X"
   },
   "source": [
    "# **Task 3**"
   ]
  },
  {
   "cell_type": "code",
   "execution_count": null,
   "metadata": {
    "id": "JdpzesyQyINT"
   },
   "outputs": [],
   "source": [
    "# .Напишите функцию, которая будет возвращать акроним по переданной в нее строке со словами.\n",
    "\n",
    "# Примеры работы программы:\n",
    "\n",
    "some_words = 'Информационные и Технологии'\n",
    "# Результат: ИТ\n",
    "\n",
    "some_words_2 = 'Near Field Communication'\n",
    "# Результат: NFC"
   ]
  },
  {
   "cell_type": "code",
   "execution_count": null,
   "metadata": {
    "colab": {
     "base_uri": "https://localhost:8080/",
     "height": 53
    },
    "id": "XfE01llXy1ej",
    "outputId": "3aa0e24d-cb36-44f9-9d35-044a72586b74"
   },
   "outputs": [
    {
     "name": "stdout",
     "output_type": "stream",
     "text": [
      "jdjd oof mdmfnng pepe\n"
     ]
    },
    {
     "data": {
      "application/vnd.google.colaboratory.intrinsic+json": {
       "type": "string"
      },
      "text/plain": [
       "'JOMP'"
      ]
     },
     "execution_count": 129,
     "metadata": {},
     "output_type": "execute_result"
    }
   ],
   "source": [
    "def akronim():\n",
    "  some_words = input()\n",
    "  list_1 = []\n",
    "  list_1.append(re.findall(r'^\\w', some_words))\n",
    "  list_1.append(re.findall(r'\\s(\\w)', some_words))\n",
    "  l = [x for lst in list_1 for x in lst]\n",
    "  m = ''.join(l)\n",
    "  return m.upper()\n",
    "\n",
    "\n",
    "akronim()\n",
    "\n"
   ]
  },
  {
   "cell_type": "markdown",
   "metadata": {
    "id": "dlF4zoNgAruS"
   },
   "source": [
    "# **Task 4**"
   ]
  },
  {
   "cell_type": "code",
   "execution_count": 2,
   "metadata": {
    "id": "FdQTzjjjAqgI"
   },
   "outputs": [],
   "source": [
    "# Напишите функцию, которая будет принимать на вход список email-адресов и выводить их распределение по доменным зонам.\n",
    "\n",
    "# Пример работы программы:\n",
    "\n",
    "emails = ['test@gmail.com', 'xyz@test.in', 'test@ya.ru', 'xyz@mail.ru', 'xyz@ya.ru', 'xyz@gmail.com']\n",
    "\n",
    "# Результат:\n",
    "\n",
    "# gmail.com: 2\n",
    "# test.in: 1\n",
    "# ya.ru: 2\n",
    "# mail.ru: 1"
   ]
  },
  {
   "cell_type": "code",
   "execution_count": 1,
   "metadata": {
    "id": "dYE1urubg23b"
   },
   "outputs": [],
   "source": [
    "from collections import Counter"
   ]
  },
  {
   "cell_type": "code",
   "execution_count": 30,
   "metadata": {
    "colab": {
     "base_uri": "https://localhost:8080/"
    },
    "id": "0mdEk8Vv9n3y",
    "outputId": "4420b014-887b-4f31-d596-0e1bfdaf32ec"
   },
   "outputs": [
    {
     "name": "stdout",
     "output_type": "stream",
     "text": [
      "gmail.com 2\n",
      "test.in 1\n",
      "ya.ru 2\n",
      "mail.ru 1\n"
     ]
    }
   ],
   "source": [
    "def dom_counter():\n",
    "    str_emails = str(emails)\n",
    "    domens = re.findall(r'\\w+\\.\\w+', str_emails)\n",
    "    domain_counter = Counter(domens)\n",
    "    for keys, obj in domain_counter.items():\n",
    "      print(keys, obj)\n",
    "\n",
    "dom_counter()"
   ]
  },
  {
   "cell_type": "markdown",
   "metadata": {
    "id": "u7ZlhZn_lDsF"
   },
   "source": [
    "# **Task 5**"
   ]
  },
  {
   "cell_type": "code",
   "execution_count": 32,
   "metadata": {
    "id": "dT8B6_ozlDEJ"
   },
   "outputs": [],
   "source": [
    "# Напишите функцию, которая будет подсчитывать сколько слов начинается на гласные, а сколько на согласные буквы в тексте\n",
    "#  (текст может быть написан как с использованием букв кириллицы, так и латиницы).\n",
    "\n",
    "# Пример работы программы:\n",
    "\n",
    "some_text = 'Эталонной реализацией Python является интерпретатор CPython, поддерживающий большинство активно используемых платформ. Он распространяется под свободной лицензией Python Software Foundation License, позволяющей использовать его без ограничений в любых приложениях, включая проприетарные.'\n",
    "\n",
    "# Результат:\n",
    "\n",
    "# Слов на гласные буквы: 9\n",
    "# Слов на согласные буквы: 21"
   ]
  },
  {
   "cell_type": "code",
   "execution_count": 82,
   "metadata": {
    "colab": {
     "base_uri": "https://localhost:8080/"
    },
    "id": "avO425jJlw18",
    "outputId": "c6d1bb0c-23f3-4d7a-d406-bb6c98fe2d1c"
   },
   "outputs": [
    {
     "name": "stdout",
     "output_type": "stream",
     "text": [
      "согласных букв: 21\n",
      "гласных букв: 9\n"
     ]
    }
   ],
   "source": [
    "def v_c_counter():\n",
    "\n",
    "  list_of_1st_letters = []\n",
    "  list_of_1st_letters.append(re.findall(r'^\\w', some_text))\n",
    "  list_of_1st_letters.append(re.findall(r'\\s(\\w)', some_text))\n",
    "  i = [x for lst in list_of_1st_letters for x in lst]\n",
    "  res = ','.join(i)\n",
    "\n",
    "  resulted = res.lower()\n",
    "  resulted_list = resulted.split(',')\n",
    "  \n",
    "  str_vowels = 'a,e,i,o,u,y,а,у,о,ы,и,э,я,ю,ё,е'\n",
    "  list_vowels = str_vowels.split(',')\n",
    "  \n",
    "  x = 0\n",
    "  y = 0\n",
    "  for letter in resulted_list:\n",
    "    if letter in list_vowels:\n",
    "      x += 1\n",
    "    else:\n",
    "      y += 1\n",
    "\n",
    "\n",
    "  t = f'согласных букв: ' + str(y)  +   '\\nгласных букв: ' + str(x) \n",
    "  print(t)\n",
    "\n",
    "\n",
    "v_c_counter()  "
   ]
  }
 ],
 "metadata": {
  "colab": {
   "collapsed_sections": [],
   "name": "HW_regex.ipynb",
   "provenance": []
  },
  "kernelspec": {
   "display_name": "Python 3",
   "language": "python",
   "name": "python3"
  },
  "language_info": {
   "codemirror_mode": {
    "name": "ipython",
    "version": 3
   },
   "file_extension": ".py",
   "mimetype": "text/x-python",
   "name": "python",
   "nbconvert_exporter": "python",
   "pygments_lexer": "ipython3",
   "version": "3.8.5"
  }
 },
 "nbformat": 4,
 "nbformat_minor": 1
}
