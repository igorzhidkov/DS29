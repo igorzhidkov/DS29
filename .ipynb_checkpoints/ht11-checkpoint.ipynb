{
 "cells": [
  {
   "cell_type": "markdown",
   "metadata": {},
   "source": [
    "# Задание 1"
   ]
  },
  {
   "cell_type": "code",
   "execution_count": 2,
   "metadata": {},
   "outputs": [
    {
     "name": "stdout",
     "output_type": "stream",
     "text": [
      "Фразы равной длины\n"
     ]
    }
   ],
   "source": [
    "\n",
    "\n",
    "phrase_1 = 'Насколько проще было бы писать программы, если бы не заказчики'\n",
    "phrase_2 = 'Насколько проще было бы писать программы, если бы не заказчики'\n",
    "\n",
    "if len(phrase_1) > len(phrase_2):\n",
    " print ('Фраза 1 длиннее фразы 2')\n",
    "\n",
    "elif len(phrase_1) < len(phrase_2):\n",
    " print ('Фраза 2 длиннее фразы 1')\n",
    "\n",
    "elif len(phrase_1) == len(phrase_2):\n",
    " print ('Фразы равной длины')\n",
    "\n",
    "\n",
    "\n",
    "\n",
    "\n"
   ]
  },
  {
   "cell_type": "markdown",
   "metadata": {},
   "source": [
    "# Задание 2 "
   ]
  },
  {
   "cell_type": "code",
   "execution_count": 3,
   "metadata": {},
   "outputs": [
    {
     "name": "stdout",
     "output_type": "stream",
     "text": [
      "Високосный год\n"
     ]
    }
   ],
   "source": [
    "#task_1 \n",
    "\n",
    "year = 2020\n",
    "if year % 4 == 0:\n",
    "    print('Високосный год')\n"
   ]
  },
  {
   "cell_type": "code",
   "execution_count": 4,
   "metadata": {},
   "outputs": [
    {
     "name": "stdout",
     "output_type": "stream",
     "text": [
      "Невисокосный год\n"
     ]
    }
   ],
   "source": [
    "\n",
    "year = 2019\n",
    "if year % 4 == 0:\n",
    "    print('Високосный год')\n",
    "    \n",
    "else :\n",
    " print('Невисокосный год')\n",
    "\n",
    "\n",
    "\n",
    "\n"
   ]
  },
  {
   "cell_type": "markdown",
   "metadata": {},
   "source": [
    "# Задание 3 "
   ]
  },
  {
   "cell_type": "code",
   "execution_count": 18,
   "metadata": {},
   "outputs": [
    {
     "name": "stdout",
     "output_type": "stream",
     "text": [
      "Скорпион\n"
     ]
    }
   ],
   "source": [
    "\n",
    "#Овен (21 марта – 20 апреля)\n",
    "#Лев ( 23 июля – 22 августа)\n",
    "#Стрелец (22 ноября – 21 декабря)\n",
    "#Рак (21 июня – 22 июля)\n",
    "#Скорпион (24 октября – 21 ноября)\n",
    "#Рыбы (19 февраля – 20 марта)\n",
    "#Телец (21 апреля – 21 мая)\n",
    "#Дева (23 августа – 23 сентября)\n",
    "#Козерог (22 декабря – 19 января)\n",
    "#Близнецы (21 мая – 20 июня)\n",
    "#Весы (24 сентября – 23 октября)\n",
    "#Водолей (20 января – 18 февраля)\n",
    "\n",
    "\n",
    "\n",
    "user_input_day = 24\n",
    "user_input_mounth = 'октябрь'\n",
    "\n",
    "if user_input_mounth == \"март\" and user_input_day >= 21 or user_input_mounth == \"апрель\" and user_input_day <= 20 :\n",
    "        print('Овен') \n",
    "elif user_input_mounth == \"апрель\" and user_input_day >= 21 or user_input_mounth == \"май\" and user_input_day <= 21 :\n",
    "        print ('Телец') \n",
    "elif user_input_mounth == \"май\" and user_input_day >= 21 or user_input_mounth == \"июнь\" and user_input_day <= 20 :\n",
    "        print ('Близнецы')\n",
    "elif user_input_mounth == \"июнь\" and user_input_day >= 21 or user_input_mounth == \"июль\" and user_input_day <= 22 :\n",
    "        print ('Рак')\n",
    "elif user_input_mounth == \"июль\" and user_input_day >= 23 or user_input_mounth == \"август\" and user_input_day <= 22 :\n",
    "        print ('Лев')\n",
    "elif user_input_mounth == \"август\" and user_input_day >= 23 or user_input_mounth == \"сентябрь\" and user_input_day <= 23 :\n",
    "        print ('Дева')\n",
    "elif user_input_mounth == \"сентябрь\" and user_input_day >= 24 or user_input_mounth == \"октябрь\" and user_input_day <= 23 :\n",
    "        print ('Весы')\n",
    "elif user_input_mounth == \"октябрь\" and user_input_day >= 24 or user_input_mounth == \"ноябрь\" and user_input_day <= 21 :\n",
    "        print ('Скорпион')\n",
    "elif user_input_mounth == \"ноябрь\" and user_input_day >= 21 or user_input_mounth == \"декабрь\" and user_input_day <= 21 :\n",
    "        print ('Стрелец')\n",
    "elif user_input_mounth == \"декабрь\" and user_input_day >= 22 or user_input_mounth == \"февраль\" and user_input_day <= 18 :\n",
    "        print ('Козерог')\n",
    "elif user_input_mounth == \"февраль\" and user_input_day >= 19 or user_input_mounth == \"март\" and user_input_day <= 20 :\n",
    "    print ('Рыбы')\n",
    "        \n",
    "\n",
    "           \n",
    "            \n",
    "            \n",
    "            \n",
    "        \n",
    "        \n",
    "        \n",
    "    "
   ]
  },
  {
   "cell_type": "markdown",
   "metadata": {},
   "source": [
    "# Задание 4 \n"
   ]
  },
  {
   "cell_type": "code",
   "execution_count": 24,
   "metadata": {},
   "outputs": [
    {
     "name": "stdout",
     "output_type": "stream",
     "text": [
      "ski box\n"
     ]
    }
   ],
   "source": [
    "width = 10\n",
    "length = 205\n",
    "height = 5\n",
    "\n",
    "if height < 15 and length < 15 and width < 15 : \n",
    "    print ('box 1')\n",
    "elif  50 > height > 15 and 50 > length > 15 and 50 > width > 15 :\n",
    "    print ('box 2')\n",
    "elif length > 200: \n",
    "    print ('ski box')\n",
    "else:\n",
    "    print ('standart box')"
   ]
  },
  {
   "cell_type": "code",
   "execution_count": null,
   "metadata": {},
   "outputs": [],
   "source": [
    "text = 'Отличие двух способов состоит в том, что множественное присваивание в первом способе меняет значение двух переменных одновременно.Если слева от знака «=» в множественном присваивании должны стоять через запятую имена переменных, то справа могут стоять произвольные выражения, разделённые запятыми. Главное, чтобы слева и справа от знака присваивания было одинаковое число элементов.'\n",
    "n = 4 \n",
    "\n",
    "text = list (te)\n",
    "\n"
   ]
  }
 ],
 "metadata": {
  "kernelspec": {
   "display_name": "Python 3",
   "language": "python",
   "name": "python3"
  },
  "language_info": {
   "codemirror_mode": {
    "name": "ipython",
    "version": 3
   },
   "file_extension": ".py",
   "mimetype": "text/x-python",
   "name": "python",
   "nbconvert_exporter": "python",
   "pygments_lexer": "ipython3",
   "version": "3.8.5"
  }
 },
 "nbformat": 4,
 "nbformat_minor": 4
}
