{
  "nbformat": 4,
  "nbformat_minor": 0,
  "metadata": {
    "colab": {
      "name": "HW_numpy.ipynb",
      "provenance": [],
      "authorship_tag": "ABX9TyP551TmSXAIS7aHdkBJluly",
      "include_colab_link": true
    },
    "kernelspec": {
      "name": "python3",
      "display_name": "Python 3"
    },
    "language_info": {
      "name": "python"
    }
  },
  "cells": [
    {
      "cell_type": "markdown",
      "metadata": {
        "id": "view-in-github",
        "colab_type": "text"
      },
      "source": [
        "<a href=\"https://colab.research.google.com/github/igorzhidkov/DS29/blob/main/HW_numpy.ipynb\" target=\"_parent\"><img src=\"https://colab.research.google.com/assets/colab-badge.svg\" alt=\"Open In Colab\"/></a>"
      ]
    },
    {
      "cell_type": "markdown",
      "metadata": {
        "id": "fMjqognu7bxJ"
      },
      "source": [
        "# **Task 1**"
      ]
    },
    {
      "cell_type": "code",
      "metadata": {
        "id": "5mQqHWOQ7uHL"
      },
      "source": [
        "import numpy as np"
      ],
      "execution_count": 1,
      "outputs": []
    },
    {
      "cell_type": "code",
      "metadata": {
        "colab": {
          "base_uri": "https://localhost:8080/"
        },
        "id": "9tOKnV8Y7aMI",
        "outputId": "48cc4a62-949c-4e67-a63e-917b9aeb1e5d"
      },
      "source": [
        " \n",
        "# Создайте numpy array с элементами от числа N до 0 (например, для N = 10 это будет array([9, 8, 7, 6, 5, 4, 3, 2, 1, 0])).\n",
        "def my_f(x):\n",
        "  return np.arange((x-1), -1, -1)\n",
        "my_f(111)"
      ],
      "execution_count": 2,
      "outputs": [
        {
          "output_type": "execute_result",
          "data": {
            "text/plain": [
              "array([110, 109, 108, 107, 106, 105, 104, 103, 102, 101, 100,  99,  98,\n",
              "        97,  96,  95,  94,  93,  92,  91,  90,  89,  88,  87,  86,  85,\n",
              "        84,  83,  82,  81,  80,  79,  78,  77,  76,  75,  74,  73,  72,\n",
              "        71,  70,  69,  68,  67,  66,  65,  64,  63,  62,  61,  60,  59,\n",
              "        58,  57,  56,  55,  54,  53,  52,  51,  50,  49,  48,  47,  46,\n",
              "        45,  44,  43,  42,  41,  40,  39,  38,  37,  36,  35,  34,  33,\n",
              "        32,  31,  30,  29,  28,  27,  26,  25,  24,  23,  22,  21,  20,\n",
              "        19,  18,  17,  16,  15,  14,  13,  12,  11,  10,   9,   8,   7,\n",
              "         6,   5,   4,   3,   2,   1,   0])"
            ]
          },
          "metadata": {},
          "execution_count": 2
        }
      ]
    },
    {
      "cell_type": "markdown",
      "metadata": {
        "id": "ziJrkRuT7hE-"
      },
      "source": [
        "# **Task 2**"
      ]
    },
    {
      "cell_type": "code",
      "metadata": {
        "colab": {
          "base_uri": "https://localhost:8080/"
        },
        "id": "Wt9xcBQR74pp",
        "outputId": "3d8dd6ea-be87-4b44-a528-5a46496c9c5b"
      },
      "source": [
        "# Создайте диагональную матрицу с элементами от N до 0. Посчитайте сумму ее значений на диагонали.\n",
        "\n",
        "N = 10\n",
        "tab = np.diag(np.arange(N, 0, -1))\n",
        "result = 0\n",
        "index = 0\n",
        "for row in tab:\n",
        "    result += row[index]\n",
        "    index += 1\n",
        "print(result)"
      ],
      "execution_count": 4,
      "outputs": [
        {
          "output_type": "stream",
          "name": "stdout",
          "text": [
            "55\n"
          ]
        }
      ]
    },
    {
      "cell_type": "markdown",
      "metadata": {
        "id": "8KRtv8HC7hR1"
      },
      "source": [
        "# **Task 3**"
      ]
    },
    {
      "cell_type": "code",
      "metadata": {
        "id": "fMpoPLV08XKL"
      },
      "source": [
        "from numpy import linalg"
      ],
      "execution_count": 6,
      "outputs": []
    },
    {
      "cell_type": "code",
      "metadata": {
        "colab": {
          "base_uri": "https://localhost:8080/"
        },
        "id": "dqzfJnC88BJZ",
        "outputId": "3c4d6ee9-e20c-4c61-8ed5-8ce787ead805"
      },
      "source": [
        "# Решите систему уравнений:\n",
        "# 4x + 2y + z = 4\n",
        "# x + 3y = 12\n",
        "# 5y + 4z = -3\n",
        "\n",
        "ni = np.array( [ [4., 2., 1], [1., 3., 0], [0., 5., 4.] ] )\n",
        "mi = np.array( [4., 12., -3] )\n",
        "print(linalg.solve(ni, mi))\n",
        "\n",
        "np.allclose( np.dot(ni, linalg.solve(ni, mi)), mi )"
      ],
      "execution_count": 7,
      "outputs": [
        {
          "output_type": "stream",
          "name": "stdout",
          "text": [
            "[ 0.46666667  3.84444444 -5.55555556]\n"
          ]
        },
        {
          "output_type": "execute_result",
          "data": {
            "text/plain": [
              "True"
            ]
          },
          "metadata": {},
          "execution_count": 7
        }
      ]
    },
    {
      "cell_type": "markdown",
      "metadata": {
        "id": "KnLIl6MM7hcp"
      },
      "source": [
        "# **Task 4**"
      ]
    },
    {
      "cell_type": "code",
      "metadata": {
        "id": "wT6fq-pS8Mnz"
      },
      "source": [
        "def cosine( a, b ):\n",
        "    \"\"\"\n",
        "    Подсчет косинуса угла между векторами a, b по их координатам\n",
        "    \"\"\"\n",
        "    \n",
        "    # длины векторов\n",
        "    aLength = np.linalg.norm( a )\n",
        "    bLength = np.linalg.norm( b )\n",
        "    \n",
        "    return np.dot( a, b ) / ( aLength * bLength )\n",
        "\n",
        "    "
      ],
      "execution_count": 8,
      "outputs": []
    },
    {
      "cell_type": "code",
      "metadata": {
        "id": "5_QX90Zb8uoa"
      },
      "source": [
        "users_stats = np.array(\n",
        "    [\n",
        "        [2, 1, 0, 0, 0, 0],\n",
        "        [1, 1, 2, 1, 0, 0],\n",
        "        [2, 0, 1, 0, 0, 0],\n",
        "        [1, 1, 2, 1, 0, 1],\n",
        "        [0, 0, 1, 2, 0, 0],\n",
        "        [0, 0, 0, 0, 0, 5],\n",
        "        [1, 0, 0, 0, 0, 0],\n",
        "        [0, 1, 1, 0, 0, 0],\n",
        "        [0, 0, 0, 1, 1, 3],\n",
        "        [1, 0, 0, 2, 1, 4]\n",
        "    ], \n",
        "    np.int32\n",
        ")\n",
        "\n",
        "next_user_stats = np.array([0, 1, 2, 0, 0, 0])"
      ],
      "execution_count": 10,
      "outputs": []
    },
    {
      "cell_type": "code",
      "metadata": {
        "colab": {
          "base_uri": "https://localhost:8080/"
        },
        "id": "I9EuikJ58jWp",
        "outputId": "01fea0b6-70df-41d9-b528-81f8954702ee"
      },
      "source": [
        "res = []\n",
        "for el in users_stats:\n",
        "  res.append(cosine(el, next_user_stats))\n",
        "print(res.index(max(res)) + 1)"
      ],
      "execution_count": 11,
      "outputs": [
        {
          "output_type": "stream",
          "name": "stdout",
          "text": [
            "8\n"
          ]
        }
      ]
    }
  ]
}