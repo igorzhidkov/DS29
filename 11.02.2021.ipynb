{
 "cells": [
  {
   "cell_type": "markdown",
   "metadata": {},
   "source": [
    "### Практика. Напишите функцию, которая определяет является ли слово палиндромом"
   ]
  },
  {
   "cell_type": "code",
   "execution_count": 3,
   "metadata": {},
   "outputs": [
    {
     "name": "stdout",
     "output_type": "stream",
     "text": [
      "Нет\n"
     ]
    }
   ],
   "source": [
    "s = 'Радар'\n",
    "def pallind(s):\n",
    "    if s == s[::-1]:\n",
    "        return 'Палиндром'\n",
    "    else:\n",
    "        return 'Нет'\n",
    "print(pallind(s))"
   ]
  },
  {
   "cell_type": "code",
   "execution_count": 23,
   "metadata": {},
   "outputs": [
    {
     "name": "stdout",
     "output_type": "stream",
     "text": [
      "алл\n",
      "ал\n",
      "False\n"
     ]
    }
   ],
   "source": [
    "word = 'алла'\n",
    "\n",
    "def is_polidrom(word):\n",
    "    l = len(word)\n",
    "    print(word[0:l//2+1])\n",
    "    print(word[-1:l//2-1:-1])\n",
    "    if word[0:l//2+1] == word[-1:l//2-1:-1]:\n",
    "        return True\n",
    "    return False\n",
    "\n",
    "print(is_polidrom(word))"
   ]
  },
  {
   "cell_type": "code",
   "execution_count": null,
   "metadata": {},
   "outputs": [],
   "source": [
    "def is_palind(word):\n",
    "    if word == word[::-1]:\n",
    "        return \"это палиндром\"\n",
    "    else:\n",
    "        return \"это не палиндром\"\n",
    "print(is_palind(\"алла\"))"
   ]
  },
  {
   "cell_type": "code",
   "execution_count": 29,
   "metadata": {},
   "outputs": [
    {
     "name": "stdout",
     "output_type": "stream",
     "text": [
      "полиндром\n"
     ]
    }
   ],
   "source": [
    "def pol(text):\n",
    "    if text==''.join(reversed(text)):\n",
    "        print('полиндром')\n",
    "    else:\n",
    "        print('не полиндром')\n",
    "pol('радар')"
   ]
  },
  {
   "cell_type": "code",
   "execution_count": null,
   "metadata": {},
   "outputs": [],
   "source": [
    "tring = input()\n",
    "def poli(string):\n",
    "    if string == string[::-1]:\n",
    "        return True\n",
    "    else:\n",
    "        return False\n",
    "print(poli(string))"
   ]
  },
  {
   "cell_type": "code",
   "execution_count": 31,
   "metadata": {},
   "outputs": [
    {
     "name": "stdout",
     "output_type": "stream",
     "text": [
      "dlrow olleH\n"
     ]
    }
   ],
   "source": [
    "my_string = 'Hello world'\n",
    "\n",
    "print(my_string[::-1])"
   ]
  },
  {
   "cell_type": "markdown",
   "metadata": {},
   "source": [
    "### Практика. Напишите функцию, которая будет находить среднюю цену квартиры по всем данным"
   ]
  },
  {
   "cell_type": "code",
   "execution_count": 32,
   "metadata": {},
   "outputs": [],
   "source": [
    "dict_1 = {'flat_1': 10500, 'flat_2': 11000}\n",
    "dict_2 = {'flat_3': 15000}\n",
    "dict_3 = {'flat_4': 6500, 'flat_5': 7000, 'flat_6': 6000}   "
   ]
  },
  {
   "cell_type": "code",
   "execution_count": 35,
   "metadata": {},
   "outputs": [
    {
     "name": "stdout",
     "output_type": "stream",
     "text": [
      "{'flat_1': 10500, 'flat_2': 11000}\n",
      "10750.0\n"
     ]
    }
   ],
   "source": [
    "dict_1 = {'flat_1': 10500, 'flat_2': 11000}\n",
    "dict_2 = {'flat_3': 15000}\n",
    "dict_3 = {'flat_4': 6500, 'flat_5': 7000, 'flat_6': 6000}\n",
    "def average(*districts):\n",
    "    money_count = 0\n",
    "    flat_count = 0\n",
    "    for dist in districts:\n",
    "        print(dist)\n",
    "        for money in dist.values():\n",
    "            money_count += money\n",
    "            flat_count += 1\n",
    "    return round((money_count / flat_count), 2)\n",
    "print(average(dict_1))"
   ]
  },
  {
   "cell_type": "code",
   "execution_count": null,
   "metadata": {},
   "outputs": [],
   "source": [
    "def average(*args):\n",
    "    summ = 0\n",
    "    count = 0\n",
    "    for i in args:\n",
    "        for value in i.values():\n",
    "            count+=1\n",
    "            summ+=value\n",
    "    return summ/count\n",
    "print(round(average(dict_1, dict_2, dict_3), 2))"
   ]
  },
  {
   "cell_type": "code",
   "execution_count": 38,
   "metadata": {},
   "outputs": [
    {
     "name": "stdout",
     "output_type": "stream",
     "text": [
      "9333.33\n"
     ]
    }
   ],
   "source": [
    "def average(*args):\n",
    "    summ = 0\n",
    "    count = 0\n",
    "    for i in args:\n",
    "        summ += sum(i.values())\n",
    "        count += len(i.values())\n",
    "    return summ/count\n",
    "print(round(average(dict_1, dict_2, dict_3), 2))"
   ]
  },
  {
   "cell_type": "code",
   "execution_count": 42,
   "metadata": {},
   "outputs": [
    {
     "name": "stdout",
     "output_type": "stream",
     "text": [
      "({'flat_1': 10500, 'flat_2': 11000}, {'flat_3': 15000}, {'flat_4': 6500, 'flat_5': 7000, 'flat_6': 6000})\n",
      "9333.33\n"
     ]
    }
   ],
   "source": [
    "dict_1 = {'flat_1': 10500, 'flat_2': 11000}\n",
    "dict_2 = {'flat_3': 15000}\n",
    "dict_3 = {'flat_4': 6500, 'flat_5': 7000, 'flat_6': 6000}\n",
    "def average(*districts):\n",
    "    print(districts)\n",
    "    money_count = 0\n",
    "    flat_count = 0\n",
    "    for dist in districts:\n",
    "        money_count += sum(dist.values())\n",
    "        flat_count += len(dist.keys())\n",
    "    return round((money_count / flat_count), 2)\n",
    "print(average(dict_1, dict_2, dict_3))"
   ]
  },
  {
   "cell_type": "code",
   "execution_count": 41,
   "metadata": {},
   "outputs": [
    {
     "name": "stdout",
     "output_type": "stream",
     "text": [
      "21500.0\n"
     ]
    }
   ],
   "source": [
    "dict_1 = {'flat_1': 10500, 'flat_2': 11000}\n",
    "dict_2 = {'flat_3': 15000}\n",
    "dict_3 = {'flat_4': 6500, 'flat_5': 7000, 'flat_6': 6000}\n",
    "\n",
    "def avg(*args):\n",
    "    res = 0\n",
    "    for d in args:\n",
    "        res += sum(d.values())/len(args)\n",
    "    return res\n",
    "\n",
    "print(avg(dict_1))"
   ]
  },
  {
   "cell_type": "markdown",
   "metadata": {},
   "source": [
    "### Получите список из средних цен в каждом районе"
   ]
  },
  {
   "cell_type": "code",
   "execution_count": 44,
   "metadata": {},
   "outputs": [],
   "source": [
    "prices = [[100, 200, 400, 600], [200, 500], [100, 200, 100, 100], [800, 900]]"
   ]
  },
  {
   "cell_type": "code",
   "execution_count": 45,
   "metadata": {},
   "outputs": [
    {
     "name": "stdout",
     "output_type": "stream",
     "text": [
      "[325.0, 350.0, 125.0, 850.0]\n"
     ]
    }
   ],
   "source": [
    "def mean(price):\n",
    "    return [sum(i) / len(i) for i in price]\n",
    "print(mean(prices))"
   ]
  },
  {
   "cell_type": "code",
   "execution_count": 47,
   "metadata": {},
   "outputs": [
    {
     "data": {
      "text/plain": [
       "[325.0, 350.0, 125.0, 850.0]"
      ]
     },
     "execution_count": 47,
     "metadata": {},
     "output_type": "execute_result"
    }
   ],
   "source": [
    "list(map(lambda x: sum(x)/len(x), prices))"
   ]
  },
  {
   "cell_type": "markdown",
   "metadata": {},
   "source": [
    "### Практика"
   ]
  },
  {
   "cell_type": "code",
   "execution_count": 60,
   "metadata": {},
   "outputs": [],
   "source": [
    "students_list = [\n",
    "    {\"name\": \"Василий\", \"surname\": \"Теркин\", \"gender\": \"м\", \"program_exp\": True, \"grade\": [8, 8, 9, 10, 9], \"exam\": 8},\n",
    "    {\"name\": \"Мария\", \"surname\": \"Павлова\", \"gender\": \"ж\", \"program_exp\": True, \"grade\": [7, 8, 9, 7, 9], \"exam\": 9},\n",
    "    {\"name\": \"Ирина\", \"surname\": \"Андреева\", \"gender\": \"ж\", \"program_exp\": False, \"grade\": [10, 9, 8, 10, 10], \"exam\": 7},\n",
    "    {\"name\": \"Татьяна\", \"surname\": \"Сидорова\", \"gender\": \"ж\", \"program_exp\": False, \"grade\": [7, 8, 8, 9, 8],\"exam\": 10},\n",
    "    {\"name\": \"Иван\", \"surname\": \"Васильев\", \"gender\": \"м\", \"program_exp\": True, \"grade\": [9, 8, 9, 6, 9], \"exam\": 5},\n",
    "    {\"name\": \"Роман\", \"surname\": \"Золотарев\", \"gender\": \"м\", \"program_exp\": False, \"grade\": [8, 9, 9, 6, 9], \"exam\": 6}\n",
    "]"
   ]
  },
  {
   "cell_type": "code",
   "execution_count": 61,
   "metadata": {},
   "outputs": [
    {
     "data": {
      "text/plain": [
       "7.5"
      ]
     },
     "execution_count": 61,
     "metadata": {},
     "output_type": "execute_result"
    }
   ],
   "source": [
    "def get_avg_ex_grade(students):\n",
    "    sum_ex = 0\n",
    "    for student in students:\n",
    "        sum_ex += student['exam']\n",
    "    return round(sum_ex / len(students), 2)\n",
    "\n",
    "get_avg_ex_grade(students_list)"
   ]
  },
  {
   "cell_type": "code",
   "execution_count": 68,
   "metadata": {},
   "outputs": [
    {
     "name": "stdout",
     "output_type": "stream",
     "text": [
      "8.33\n",
      "8.53\n",
      "8.43\n"
     ]
    }
   ],
   "source": [
    "def get_avg_hw_grade(students, exp=None):\n",
    "    sum_hw = 0\n",
    "    count = 0\n",
    "    for student in students:\n",
    "        if student['program_exp'] == exp or exp is None:\n",
    "            sum_hw += sum(student['grade']) / len(student['grade'])\n",
    "            count += 1\n",
    "    return round(sum_hw / count, 2)\n",
    "\n",
    "print(get_avg_hw_grade(students_list, True))\n",
    "print(get_avg_hw_grade(students_list, False))\n",
    "print(get_avg_hw_grade(students_list))\n"
   ]
  },
  {
   "cell_type": "code",
   "execution_count": 71,
   "metadata": {},
   "outputs": [
    {
     "name": "stdout",
     "output_type": "stream",
     "text": [
      "Введите команду1\n",
      "7.5\n",
      "Введите команду2\n",
      "8.43\n",
      "Введите команду3\n",
      "8.33\n",
      "Введите команду4\n",
      "Введите командуquit\n",
      "До свидания!\n"
     ]
    }
   ],
   "source": [
    "def main(students):\n",
    "    while True:\n",
    "        user_input = input('Введите команду')\n",
    "        if user_input == '1':\n",
    "            print(get_avg_ex_grade(students))\n",
    "        elif user_input == '2':\n",
    "            print(get_avg_hw_grade(students))\n",
    "        elif user_input == '3':\n",
    "            print(get_avg_hw_grade(students, True))\n",
    "        elif user_input == 'quit':\n",
    "            print('До свидания!')\n",
    "            break\n",
    "            \n",
    "main(students_list)"
   ]
  },
  {
   "cell_type": "code",
   "execution_count": 67,
   "metadata": {},
   "outputs": [
    {
     "name": "stdout",
     "output_type": "stream",
     "text": [
      "2336548612608\n",
      "2336548822400\n",
      "{'key1': [10], 'key2': [20]}\n",
      "{'key1': [10], 'key2': [20, 30]}\n"
     ]
    }
   ],
   "source": [
    "# import copy\n",
    "# my_dict = {\n",
    "#     'key1': [10],\n",
    "#     'key2': [20]\n",
    "# }\n",
    "# my_dict_2 = copy.deepcopy(my_dict)\n",
    "# print(id(my_dict))\n",
    "# print(id(my_dict_2))\n",
    "# my_dict_2['key2'].append(30)\n",
    "# print(my_dict)\n",
    "# print(my_dict_2)"
   ]
  },
  {
   "cell_type": "code",
   "execution_count": null,
   "metadata": {},
   "outputs": [],
   "source": []
  }
 ],
 "metadata": {
  "kernelspec": {
   "display_name": "Python 3",
   "language": "python",
   "name": "python3"
  },
  "language_info": {
   "codemirror_mode": {
    "name": "ipython",
    "version": 3
   },
   "file_extension": ".py",
   "mimetype": "text/x-python",
   "name": "python",
   "nbconvert_exporter": "python",
   "pygments_lexer": "ipython3",
   "version": "3.8.5"
  }
 },
 "nbformat": 4,
 "nbformat_minor": 4
}
