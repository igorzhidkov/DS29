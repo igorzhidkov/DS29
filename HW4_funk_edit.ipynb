{
  "nbformat": 4,
  "nbformat_minor": 0,
  "metadata": {
    "colab": {
      "name": "HW4_funk_edit.ipynb",
      "provenance": [],
      "collapsed_sections": []
    },
    "kernelspec": {
      "display_name": "Python 3",
      "language": "python",
      "name": "python3"
    },
    "language_info": {
      "codemirror_mode": {
        "name": "ipython",
        "version": 3
      },
      "file_extension": ".py",
      "mimetype": "text/x-python",
      "name": "python",
      "nbconvert_exporter": "python",
      "pygments_lexer": "ipython3",
      "version": "3.8.5"
    }
  },
  "cells": [
    {
      "cell_type": "code",
      "metadata": {
        "id": "9DkRAhvIkRK_"
      },
      "source": [
        "documents = [\n",
        " {'type': 'passport', 'number': '2207 876234', 'name': 'Василий Гупкин'},\n",
        " {'type': 'invoice', 'number': '11-2', 'name': 'Геннадий Покемонов'},\n",
        " {'type': 'insurance', 'number': '10006', 'name': 'Аристарх Павлов'}\n",
        "]"
      ],
      "execution_count": 90,
      "outputs": []
    },
    {
      "cell_type": "code",
      "metadata": {
        "id": "2RaZhjSpkRSQ"
      },
      "source": [
        "directories = {\n",
        "'1': ['2207 876234', '11-2'],\n",
        "'2': ['10006'],\n",
        "'3': []\n",
        "}"
      ],
      "execution_count": 91,
      "outputs": []
    },
    {
      "cell_type": "markdown",
      "metadata": {
        "id": "mGz9zRJkgKy-"
      },
      "source": [
        "Игорь, спасибо, есть еще ряд рекомендаций:\n",
        "\n",
        "- напоминаю, что пользовательский ввод приводить к строке избыточно, он всегда и так по умолчанию является строкой;\n",
        "\n",
        "-лишний None в конце мы видим потому, что при вызове функции внутри print на экран выводится то, что функция возвращает. Но ваши функции ничего не возвращают, а вы внутри них уже используете print для вывода нужной информации. Поэтому в данном случае можно их вызывать не внутри print, а просто сами по себе;\n",
        "\n",
        "-при попытке удалить несуществующую полку ваша программа падает с ошибкой, а должно просто выводится текстовое предупреждение;\n",
        "\n",
        "-а при попытке удалить непустую полку, у вас выводится лишняя информация, стоит делать вывод именно такой, как указано в описании задания;\n",
        "\n",
        "-финальный блок кода с обработкой пользовательского ввода лучше поместить в отдельную функцию, чтобы в глобальном контексте не оставалось ничего лишнего.\n",
        "Давайте это доработаем, чтобы все было отлично.\n",
        "\n",
        "\n"
      ]
    },
    {
      "cell_type": "code",
      "metadata": {
        "colab": {
          "base_uri": "https://localhost:8080/"
        },
        "id": "pmQ74Q_XojMw",
        "outputId": "d9c4deb2-84d6-4960-b2ec-8d7181e48b68"
      },
      "source": [
        "def my_funk(): \n",
        "  while True:\n",
        "     user_input = input('new comand: ')\n",
        "     if user_input == 'p':\n",
        "        doc_num_input = input('Insert number of doc: ')\n",
        "        print(get_owner())\n",
        "        pass\n",
        "     elif user_input == 's':\n",
        "          doc_num_input1 = input('Insert number of doc: ')\n",
        "          print(shelf_number())\n",
        "          pass\n",
        "     elif user_input == 'l':\n",
        "          print(all_info())\n",
        "          pass\n",
        "     elif user_input == 'as':\n",
        "          new_shelf_number = input('insert number of shelf to add: ')\n",
        "          print(add_new_shelf())\n",
        "          pass\n",
        "     elif user_input == 'ds':\n",
        "          shelf_number2 = input('insert number of shelf to delete : ')\n",
        "          print(del_shelf())\n",
        "          break \n",
        "      \n",
        "\n",
        "print(my_funk())"
      ],
      "execution_count": 109,
      "outputs": [
        {
          "output_type": "stream",
          "text": [
            "new comand: з\n",
            "new comand: p\n",
            "Insert number of doc: 10006\n",
            "doc owner: Аристарх Павлов\n",
            "new comand: ds\n",
            "insert number of shelf to delete : 3\n",
            "shelf doesnt exist, current shelves : 1, 2, 3\n",
            "None\n"
          ],
          "name": "stdout"
        }
      ]
    },
    {
      "cell_type": "code",
      "metadata": {
        "colab": {
          "base_uri": "https://localhost:8080/",
          "height": 547
        },
        "id": "3_7SnuzlojaB",
        "outputId": "0b8930a6-3cad-4ef4-e284-62809923de88"
      },
      "source": [
        "doc_num_input = str(input('Insert number of doc: '))\n",
        "def get_owner ():\n",
        "    \n",
        "    for dictionary in documents:\n",
        "        if doc_num_input == dictionary['number']:\n",
        "           return f\"doc owner: { dictionary['name']}\"\n",
        "           \n",
        "    return 'doc not found'\n",
        "    \n",
        "print(get_owner ())"
      ],
      "execution_count": 107,
      "outputs": [
        {
          "output_type": "error",
          "ename": "KeyboardInterrupt",
          "evalue": "ignored",
          "traceback": [
            "\u001b[0;31m---------------------------------------------------------------------------\u001b[0m",
            "\u001b[0;31mKeyboardInterrupt\u001b[0m                         Traceback (most recent call last)",
            "\u001b[0;32m/usr/local/lib/python3.7/dist-packages/ipykernel/kernelbase.py\u001b[0m in \u001b[0;36m_input_request\u001b[0;34m(self, prompt, ident, parent, password)\u001b[0m\n\u001b[1;32m    728\u001b[0m             \u001b[0;32mtry\u001b[0m\u001b[0;34m:\u001b[0m\u001b[0;34m\u001b[0m\u001b[0;34m\u001b[0m\u001b[0m\n\u001b[0;32m--> 729\u001b[0;31m                 \u001b[0mident\u001b[0m\u001b[0;34m,\u001b[0m \u001b[0mreply\u001b[0m \u001b[0;34m=\u001b[0m \u001b[0mself\u001b[0m\u001b[0;34m.\u001b[0m\u001b[0msession\u001b[0m\u001b[0;34m.\u001b[0m\u001b[0mrecv\u001b[0m\u001b[0;34m(\u001b[0m\u001b[0mself\u001b[0m\u001b[0;34m.\u001b[0m\u001b[0mstdin_socket\u001b[0m\u001b[0;34m,\u001b[0m \u001b[0;36m0\u001b[0m\u001b[0;34m)\u001b[0m\u001b[0;34m\u001b[0m\u001b[0;34m\u001b[0m\u001b[0m\n\u001b[0m\u001b[1;32m    730\u001b[0m             \u001b[0;32mexcept\u001b[0m \u001b[0mException\u001b[0m\u001b[0;34m:\u001b[0m\u001b[0;34m\u001b[0m\u001b[0;34m\u001b[0m\u001b[0m\n",
            "\u001b[0;32m/usr/local/lib/python3.7/dist-packages/jupyter_client/session.py\u001b[0m in \u001b[0;36mrecv\u001b[0;34m(self, socket, mode, content, copy)\u001b[0m\n\u001b[1;32m    802\u001b[0m         \u001b[0;32mtry\u001b[0m\u001b[0;34m:\u001b[0m\u001b[0;34m\u001b[0m\u001b[0;34m\u001b[0m\u001b[0m\n\u001b[0;32m--> 803\u001b[0;31m             \u001b[0mmsg_list\u001b[0m \u001b[0;34m=\u001b[0m \u001b[0msocket\u001b[0m\u001b[0;34m.\u001b[0m\u001b[0mrecv_multipart\u001b[0m\u001b[0;34m(\u001b[0m\u001b[0mmode\u001b[0m\u001b[0;34m,\u001b[0m \u001b[0mcopy\u001b[0m\u001b[0;34m=\u001b[0m\u001b[0mcopy\u001b[0m\u001b[0;34m)\u001b[0m\u001b[0;34m\u001b[0m\u001b[0;34m\u001b[0m\u001b[0m\n\u001b[0m\u001b[1;32m    804\u001b[0m         \u001b[0;32mexcept\u001b[0m \u001b[0mzmq\u001b[0m\u001b[0;34m.\u001b[0m\u001b[0mZMQError\u001b[0m \u001b[0;32mas\u001b[0m \u001b[0me\u001b[0m\u001b[0;34m:\u001b[0m\u001b[0;34m\u001b[0m\u001b[0;34m\u001b[0m\u001b[0m\n",
            "\u001b[0;32m/usr/local/lib/python3.7/dist-packages/zmq/sugar/socket.py\u001b[0m in \u001b[0;36mrecv_multipart\u001b[0;34m(self, flags, copy, track)\u001b[0m\n\u001b[1;32m    582\u001b[0m         \"\"\"\n\u001b[0;32m--> 583\u001b[0;31m         \u001b[0mparts\u001b[0m \u001b[0;34m=\u001b[0m \u001b[0;34m[\u001b[0m\u001b[0mself\u001b[0m\u001b[0;34m.\u001b[0m\u001b[0mrecv\u001b[0m\u001b[0;34m(\u001b[0m\u001b[0mflags\u001b[0m\u001b[0;34m,\u001b[0m \u001b[0mcopy\u001b[0m\u001b[0;34m=\u001b[0m\u001b[0mcopy\u001b[0m\u001b[0;34m,\u001b[0m \u001b[0mtrack\u001b[0m\u001b[0;34m=\u001b[0m\u001b[0mtrack\u001b[0m\u001b[0;34m)\u001b[0m\u001b[0;34m]\u001b[0m\u001b[0;34m\u001b[0m\u001b[0;34m\u001b[0m\u001b[0m\n\u001b[0m\u001b[1;32m    584\u001b[0m         \u001b[0;31m# have first part already, only loop while more to receive\u001b[0m\u001b[0;34m\u001b[0m\u001b[0;34m\u001b[0m\u001b[0;34m\u001b[0m\u001b[0m\n",
            "\u001b[0;32mzmq/backend/cython/socket.pyx\u001b[0m in \u001b[0;36mzmq.backend.cython.socket.Socket.recv\u001b[0;34m()\u001b[0m\n",
            "\u001b[0;32mzmq/backend/cython/socket.pyx\u001b[0m in \u001b[0;36mzmq.backend.cython.socket.Socket.recv\u001b[0;34m()\u001b[0m\n",
            "\u001b[0;32mzmq/backend/cython/socket.pyx\u001b[0m in \u001b[0;36mzmq.backend.cython.socket._recv_copy\u001b[0;34m()\u001b[0m\n",
            "\u001b[0;32m/usr/local/lib/python3.7/dist-packages/zmq/backend/cython/checkrc.pxd\u001b[0m in \u001b[0;36mzmq.backend.cython.checkrc._check_rc\u001b[0;34m()\u001b[0m\n",
            "\u001b[0;31mKeyboardInterrupt\u001b[0m: ",
            "\nDuring handling of the above exception, another exception occurred:\n",
            "\u001b[0;31mKeyboardInterrupt\u001b[0m                         Traceback (most recent call last)",
            "\u001b[0;32m<ipython-input-107-364d43be14b6>\u001b[0m in \u001b[0;36m<module>\u001b[0;34m()\u001b[0m\n\u001b[0;32m----> 1\u001b[0;31m \u001b[0mdoc_num_input\u001b[0m \u001b[0;34m=\u001b[0m \u001b[0mstr\u001b[0m\u001b[0;34m(\u001b[0m\u001b[0minput\u001b[0m\u001b[0;34m(\u001b[0m\u001b[0;34m'Insert number of doc: '\u001b[0m\u001b[0;34m)\u001b[0m\u001b[0;34m)\u001b[0m\u001b[0;34m\u001b[0m\u001b[0;34m\u001b[0m\u001b[0m\n\u001b[0m\u001b[1;32m      2\u001b[0m \u001b[0;32mdef\u001b[0m \u001b[0mget_owner\u001b[0m \u001b[0;34m(\u001b[0m\u001b[0;34m)\u001b[0m\u001b[0;34m:\u001b[0m\u001b[0;34m\u001b[0m\u001b[0;34m\u001b[0m\u001b[0m\n\u001b[1;32m      3\u001b[0m \u001b[0;34m\u001b[0m\u001b[0m\n\u001b[1;32m      4\u001b[0m     \u001b[0;32mfor\u001b[0m \u001b[0mdictionary\u001b[0m \u001b[0;32min\u001b[0m \u001b[0mdocuments\u001b[0m\u001b[0;34m:\u001b[0m\u001b[0;34m\u001b[0m\u001b[0;34m\u001b[0m\u001b[0m\n\u001b[1;32m      5\u001b[0m         \u001b[0;32mif\u001b[0m \u001b[0mdoc_num_input\u001b[0m \u001b[0;34m==\u001b[0m \u001b[0mdictionary\u001b[0m\u001b[0;34m[\u001b[0m\u001b[0;34m'number'\u001b[0m\u001b[0;34m]\u001b[0m\u001b[0;34m:\u001b[0m\u001b[0;34m\u001b[0m\u001b[0;34m\u001b[0m\u001b[0m\n",
            "\u001b[0;32m/usr/local/lib/python3.7/dist-packages/ipykernel/kernelbase.py\u001b[0m in \u001b[0;36mraw_input\u001b[0;34m(self, prompt)\u001b[0m\n\u001b[1;32m    702\u001b[0m             \u001b[0mself\u001b[0m\u001b[0;34m.\u001b[0m\u001b[0m_parent_ident\u001b[0m\u001b[0;34m,\u001b[0m\u001b[0;34m\u001b[0m\u001b[0;34m\u001b[0m\u001b[0m\n\u001b[1;32m    703\u001b[0m             \u001b[0mself\u001b[0m\u001b[0;34m.\u001b[0m\u001b[0m_parent_header\u001b[0m\u001b[0;34m,\u001b[0m\u001b[0;34m\u001b[0m\u001b[0;34m\u001b[0m\u001b[0m\n\u001b[0;32m--> 704\u001b[0;31m             \u001b[0mpassword\u001b[0m\u001b[0;34m=\u001b[0m\u001b[0;32mFalse\u001b[0m\u001b[0;34m,\u001b[0m\u001b[0;34m\u001b[0m\u001b[0;34m\u001b[0m\u001b[0m\n\u001b[0m\u001b[1;32m    705\u001b[0m         )\n\u001b[1;32m    706\u001b[0m \u001b[0;34m\u001b[0m\u001b[0m\n",
            "\u001b[0;32m/usr/local/lib/python3.7/dist-packages/ipykernel/kernelbase.py\u001b[0m in \u001b[0;36m_input_request\u001b[0;34m(self, prompt, ident, parent, password)\u001b[0m\n\u001b[1;32m    732\u001b[0m             \u001b[0;32mexcept\u001b[0m \u001b[0mKeyboardInterrupt\u001b[0m\u001b[0;34m:\u001b[0m\u001b[0;34m\u001b[0m\u001b[0;34m\u001b[0m\u001b[0m\n\u001b[1;32m    733\u001b[0m                 \u001b[0;31m# re-raise KeyboardInterrupt, to truncate traceback\u001b[0m\u001b[0;34m\u001b[0m\u001b[0;34m\u001b[0m\u001b[0;34m\u001b[0m\u001b[0m\n\u001b[0;32m--> 734\u001b[0;31m                 \u001b[0;32mraise\u001b[0m \u001b[0mKeyboardInterrupt\u001b[0m\u001b[0;34m\u001b[0m\u001b[0;34m\u001b[0m\u001b[0m\n\u001b[0m\u001b[1;32m    735\u001b[0m             \u001b[0;32melse\u001b[0m\u001b[0;34m:\u001b[0m\u001b[0;34m\u001b[0m\u001b[0;34m\u001b[0m\u001b[0m\n\u001b[1;32m    736\u001b[0m                 \u001b[0;32mbreak\u001b[0m\u001b[0;34m\u001b[0m\u001b[0;34m\u001b[0m\u001b[0m\n",
            "\u001b[0;31mKeyboardInterrupt\u001b[0m: "
          ]
        }
      ]
    },
    {
      "cell_type": "code",
      "metadata": {
        "id": "qJS70Wjsojft",
        "colab": {
          "base_uri": "https://localhost:8080/"
        },
        "outputId": "e171c559-1628-4d60-941d-ec3cb3073c02"
      },
      "source": [
        "doc_num_input1 = str(input('Insert number of doc: '))\n",
        "def shelf_number():\n",
        "    for shelf, number in directories.items():\n",
        "        if doc_num_input1 in number:\n",
        "           return f'Shelf number is {shelf}' \n",
        "           \n",
        "        else: return 'no doc'\n",
        "        \n",
        "    \n",
        "\n",
        "print(shelf_number())\n"
      ],
      "execution_count": 57,
      "outputs": [
        {
          "output_type": "stream",
          "text": [
            "Insert number of doc: 11-2\n",
            "Shelf number is 1\n"
          ],
          "name": "stdout"
        }
      ]
    },
    {
      "cell_type": "code",
      "metadata": {
        "id": "jBk7Hd-uojmJ",
        "colab": {
          "base_uri": "https://localhost:8080/"
        },
        "outputId": "14fd9bd4-e506-451e-ddae-2fc88fd3e969"
      },
      "source": [
        "def all_info():\n",
        "       for elements in documents:\n",
        "            def shelf_number1():\n",
        "                for shelf , numbers in directories.items():\n",
        "                    if elements['number']  in numbers:\n",
        "                        return f\" doc shelf: {shelf} \" \n",
        "            print(  f\" №: {elements['number']} , type: {elements['type']} , owner: {elements['name']},  {shelf_number1()} \" )\n",
        "                \n",
        "print(all_info())\n",
        "         "
      ],
      "execution_count": 101,
      "outputs": [
        {
          "output_type": "stream",
          "text": [
            " №: 2207 876234 , type: passport , owner: Василий Гупкин,   doc shelf: 1  \n",
            " №: 11-2 , type: invoice , owner: Геннадий Покемонов,   doc shelf: 1  \n",
            " №: 10006 , type: insurance , owner: Аристарх Павлов,   doc shelf: 2  \n",
            "None\n"
          ],
          "name": "stdout"
        }
      ]
    },
    {
      "cell_type": "code",
      "metadata": {
        "id": "EV-QHviD76jA",
        "colab": {
          "base_uri": "https://localhost:8080/"
        },
        "outputId": "aaceefc3-4222-4aad-ee6f-53df161ef9f8"
      },
      "source": [
        "new_shelf_number = str(input('insert number of shelf to add: '))\n",
        "\n",
        "def add_new_shelf():\n",
        "    for keys in directories:\n",
        "        if new_shelf_number not in directories.keys() :\n",
        "            directories[new_shelf_number] = []\n",
        "            \n",
        "            return 'new shelf added, current number of shelves : ' + ', '.join(directories.keys())\n",
        "        else :\n",
        "            return \"shelf already exists\"\n",
        "            \n",
        "    \n",
        "    \n",
        "print(add_new_shelf())\n"
      ],
      "execution_count": 65,
      "outputs": [
        {
          "output_type": "stream",
          "text": [
            "insert number of shelf to add: 1\n",
            "shelf already exists\n"
          ],
          "name": "stdout"
        }
      ]
    },
    {
      "cell_type": "code",
      "metadata": {
        "colab": {
          "base_uri": "https://localhost:8080/"
        },
        "id": "Bl4nDAOwkRV_",
        "outputId": "efd4799b-f987-4f2e-d03f-52fdf716b856"
      },
      "source": [
        "shelf_number2 = str(input('insert number of shelf to delete : '))\n",
        "def del_shelf():\n",
        "    for shelf in directories.copy():\n",
        "         if shelf_number2 not in directories.copy():\n",
        "            return 'shelf doesnt exist, current shelves : ' + ', '.join(directories.keys())\n",
        "         elif not directories[shelf_number2]: \n",
        "              directories.pop(shelf_number2, None)\n",
        "              return 'shelf is deleted, current number of shelves : ' + ', '.join(directories.keys())\n",
        "         else:\n",
        "              return 'shelf is not empty'\n",
        "              \n",
        "  \n",
        "\n",
        "print(del_shelf())\n",
        "\n",
        "\n",
        "\n",
        "\n"
      ],
      "execution_count": 69,
      "outputs": [
        {
          "output_type": "stream",
          "text": [
            "insert number of shelf to delete : 99\n",
            "shelf doesnt exist, current shelves : 1, 2, 7\n"
          ],
          "name": "stdout"
        }
      ]
    },
    {
      "cell_type": "code",
      "metadata": {
        "colab": {
          "base_uri": "https://localhost:8080/"
        },
        "id": "x9DnOTBgrxdg",
        "outputId": "a95e5ecf-3c4f-474f-d230-79d6a48c2e78"
      },
      "source": [
        "dir = {\n",
        "'1': ['2207 876234', '11-2'],\n",
        "'2': ['10006'],\n",
        "'3': []\n",
        "}\n",
        "\n",
        "\n",
        "for shnmb in dir.copy():\n",
        "    if not dir[\"3\"]:\n",
        "      print(1)\n"
      ],
      "execution_count": 20,
      "outputs": [
        {
          "output_type": "stream",
          "text": [
            "1\n",
            "1\n",
            "1\n"
          ],
          "name": "stdout"
        }
      ]
    },
    {
      "cell_type": "code",
      "metadata": {
        "colab": {
          "base_uri": "https://localhost:8080/"
        },
        "id": "tgo_PZSfp8No",
        "outputId": "004c8a1b-d726-48de-bab6-511031fc8746"
      },
      "source": [
        "for shelf in directories.copy():\n",
        "         if not directories[shelf_number2]: \n",
        "              directories.pop(shelf_number2, None)\n",
        "              print('shelf is deleted, current number of shelves : ' + ', '.join(directories.keys()))\n",
        "         else:\n",
        "              print('shelf is not empty')\n"
      ],
      "execution_count": 11,
      "outputs": [
        {
          "output_type": "stream",
          "text": [
            "shelf is not empty\n",
            "shelf is not empty\n",
            "shelf is not empty\n"
          ],
          "name": "stdout"
        }
      ]
    }
  ]
}