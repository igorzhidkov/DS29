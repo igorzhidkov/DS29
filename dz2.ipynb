{
 "cells": [
  {
   "cell_type": "markdown",
   "metadata": {},
   "source": [
    "# Task 1 "
   ]
  },
  {
   "cell_type": "code",
   "execution_count": null,
   "metadata": {},
   "outputs": [],
   "source": [
    "word = input ('Insert word ')\n",
    "\n",
    "length = len(word)\n",
    "\n",
    "if length % 2 == 0 :\n",
    "    print ( word[int(length)//2-1:int(length)//2+1] )\n",
    "else: \n",
    "    print ( word[int(length)//2:int(length)//2+1] )"
   ]
  },
  {
   "cell_type": "markdown",
   "metadata": {},
   "source": [
    "# Task 2"
   ]
  },
  {
   "cell_type": "code",
   "execution_count": 4,
   "metadata": {},
   "outputs": [
    {
     "name": "stdout",
     "output_type": "stream",
     "text": [
      "insert number 9\n",
      "9\n",
      "insert number 8\n",
      "8\n",
      "insert number 0\n",
      "17\n"
     ]
    }
   ],
   "source": [
    "total = 0\n",
    "number = 1\n",
    "while number != 0:\n",
    "    number = int( input ('insert number ') )\n",
    "    total = int(total) + int(number) \n",
    "    if number == 0: \n",
    "        print (total)\n",
    "        break \n",
    "    else:\n",
    "        print (number)\n",
    "        \n",
    "            \n",
    "    \n",
    "        "
   ]
  },
  {
   "cell_type": "markdown",
   "metadata": {},
   "source": [
    "# Task 3"
   ]
  },
  {
   "cell_type": "code",
   "execution_count": 7,
   "metadata": {},
   "outputs": [
    {
     "name": "stdout",
     "output_type": "stream",
     "text": [
      "attention! somebody will not have a pair\n"
     ]
    }
   ],
   "source": [
    "boys = ['Peter', 'Alex', 'John', 'Arthur', 'Richard']\n",
    "girls = ['Kate', 'Liza', 'Kira', 'Emma', best_couples_list ]\n",
    "\n",
    "\n",
    "boys_sorted=sorted (boys)\n",
    "girls_sorted=sorted (girls)\n",
    "\n",
    "if len(boys) != len(girls):\n",
    "    print ('attention! somebody will not have a pair' )\n",
    "else:\n",
    "        \n",
    "    best_couples = zip(boys_sorted, girls_sorted)\n",
    "    best_couples_list = list(best_couples)\n",
    "    for couple in best_couples_list:\n",
    "        print (' and '.join(couple))\n",
    "    \n",
    "    \n",
    "    "
   ]
  },
  {
   "cell_type": "markdown",
   "metadata": {},
   "source": [
    "# Task 4 "
   ]
  },
  {
   "cell_type": "code",
   "execution_count": 3,
   "metadata": {},
   "outputs": [
    {
     "name": "stdout",
     "output_type": "stream",
     "text": [
      "Thailand - 24\n",
      "Germany - 14\n",
      "Russia - 4\n",
      "Poland - 12\n"
     ]
    }
   ],
   "source": [
    "countries_temperature = [ \n",
    "    ['Thailand', [75.2, 77, 78.8, 73.4, 68, 75.2, 77]],\n",
    "    ['Germany', [57.2, 55.4, 59, 59, 53.6]],\n",
    "    ['Russia', [35.6, 37.4, 39.2, 41, 42.8, 39.2, 35.6]],\n",
    "    ['Poland', [50, 50, 53.6, 57.2, 55.4, 55.4]]\n",
    "]\n",
    "\n",
    "#for country in countries_temperature:\n",
    "    #print (country[0])\n",
    "    \n",
    "    \n",
    "#total= 0.0\n",
    "#av_temp= 0.0\n",
    "#celcium = 0.0\n",
    "for country in countries_temperature:\n",
    "    total= sum(country[1])\n",
    "    av_temp=total/len(country[1])\n",
    "    celcium = (av_temp-32)*5/9\n",
    "    \n",
    "    print (country[0],'-', round(celcium))\n",
    "\n",
    "#(Фаренгейт — 32) : 1,8 = Цельсий\n",
    "\n",
    "#contr1 = (countries_temperature [0][1])\n",
    "#a,*b,c = contr1\n",
    "#contr2 =(a,*b,c)-32*5/9\n",
    " \n"
   ]
  },
  {
   "cell_type": "code",
   "execution_count": null,
   "metadata": {},
   "outputs": [],
   "source": []
  },
  {
   "cell_type": "code",
   "execution_count": null,
   "metadata": {},
   "outputs": [],
   "source": []
  },
  {
   "cell_type": "code",
   "execution_count": null,
   "metadata": {},
   "outputs": [],
   "source": []
  },
  {
   "cell_type": "code",
   "execution_count": null,
   "metadata": {},
   "outputs": [],
   "source": []
  },
  {
   "cell_type": "code",
   "execution_count": null,
   "metadata": {},
   "outputs": [],
   "source": []
  }
 ],
 "metadata": {
  "kernelspec": {
   "display_name": "Python 3",
   "language": "python",
   "name": "python3"
  },
  "language_info": {
   "codemirror_mode": {
    "name": "ipython",
    "version": 3
   },
   "file_extension": ".py",
   "mimetype": "text/x-python",
   "name": "python",
   "nbconvert_exporter": "python",
   "pygments_lexer": "ipython3",
   "version": "3.8.5"
  }
 },
 "nbformat": 4,
 "nbformat_minor": 4
}
