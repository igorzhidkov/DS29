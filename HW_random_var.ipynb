{
 "cells": [
  {
   "cell_type": "code",
   "execution_count": 173,
   "metadata": {},
   "outputs": [],
   "source": [
    "import numpy as np\n",
    "import re\n",
    "import timeit\n"
   ]
  },
  {
   "cell_type": "code",
   "execution_count": 13,
   "metadata": {},
   "outputs": [],
   "source": [
    "# моделировать игру против лотерейного автомата типа “777”. \n",
    "# Игрок платит 1 руб., после чего выпадает случайное целое число, \n",
    "# равномерно распределенное от 0 до 999. При некоторых значениях числа игрок получает выигрыш.\n",
    "\n",
    "# 777: 200 руб.\n",
    "# 999: 100 руб.\n",
    "# 555: 50 руб.\n",
    "# 333: 15 руб.\n",
    "# 111: 10 руб.\n",
    "# *77: 5 руб.\n",
    "# **7: 3 руб.\n",
    "# *00: 2 руб.\n",
    "# **0: 1 руб.\n",
    "\n",
    "# Вопросы:\n",
    "\n",
    "# Выгодна ли игра игроку?\n",
    "# Сколько в среднем приобретает или теряет игрок за одну игру?"
   ]
  },
  {
   "cell_type": "markdown",
   "metadata": {},
   "source": [
    "# Выгодна ли игра игроку? "
   ]
  },
  {
   "cell_type": "code",
   "execution_count": 21,
   "metadata": {},
   "outputs": [],
   "source": [
    "# Чтобы создать вероятность выпадения \"000\" выберем диапазон от 100 до 1099. \n",
    "for u in range(1000):\n",
    "    u = np.random.randint(100, 1100)\n",
    "#     print(str(u))\n",
    "    if str(u) == re.findall(r'000', str(u)) :\n",
    "        print('нашел')"
   ]
  },
  {
   "cell_type": "code",
   "execution_count": 46,
   "metadata": {},
   "outputs": [
    {
     "data": {
      "text/plain": [
       "['107']"
      ]
     },
     "execution_count": 46,
     "metadata": {},
     "output_type": "execute_result"
    }
   ],
   "source": [
    "res = re.findall(number_zz7, number_2)\n",
    "res"
   ]
  },
  {
   "cell_type": "code",
   "execution_count": 218,
   "metadata": {},
   "outputs": [],
   "source": [
    "# Создадим выражения для каждого случая \n",
    "# 100 - 1099\n",
    "number_777 = r\"777\"\n",
    "number_999 = r'999'\n",
    "number_555 = r\"555\"\n",
    "number_333 = r\"333\"\n",
    "number_111 = r'111'\n",
    "\n",
    "number_z77 = r'\\b[^7]77\\b'\n",
    "#1077 177 277 377 477 577 677 877 977\n",
    "number_z77_2 = r'1077'\n",
    "\n",
    "number_zz7 = r'\\b[^7]{2}7\\b'\n",
    "# 107 117... 197 ... 997 \n",
    "number_zz7_2 = r'1[^7]{2}7'\n",
    "#1007 1017...1097\n",
    "\n",
    "number_z00 = r'\\b[^0]00\\b'\n",
    "#100 200...900 \n",
    "number_z00_2 = r'1000'\n",
    "#1000\n",
    "\n",
    "number_zz0 = r'\\b[^0]{2}0\\b'\n",
    "#110 120...220...340...990\n",
    "number_zz0_2 = r'10[^0]0'\n",
    "#1010 1020...1090 \n"
   ]
  },
  {
   "cell_type": "markdown",
   "metadata": {},
   "source": [
    "# Выгодна ли игра игроку? "
   ]
  },
  {
   "cell_type": "code",
   "execution_count": 213,
   "metadata": {},
   "outputs": [
    {
     "name": "stdout",
     "output_type": "stream",
     "text": [
      "382.918101\n",
      "Wall time: 23.1 s\n"
     ]
    }
   ],
   "source": [
    "%%time\n",
    "### в среднем (проведем 1000 испытаний) игрок за 1000 игр (те 1000 потраченых рублей) получает 386 рублей. \n",
    "# Можно сделать вывод что игра не выгодна игроку так как он выигрывает с 1 рубля всего 38 копеек.\n",
    "\n",
    "\n",
    "total_1000 = 0\n",
    "counter_777 = 0 \n",
    "counter_999 = 0\n",
    "counter_555 = 0 \n",
    "counter_333 = 0 \n",
    "counter_z77 = 0 \n",
    "counter_z77_2 = 0\n",
    "counter_zz7 = 0 \n",
    "counter_zz7_2 = 0\n",
    "counter_z00 = 0\n",
    "counter_z00_2 = 0\n",
    "counter_zz0 = 0\n",
    "counter_zz0_2 = 0\n",
    "counter_111 = 0\n",
    "\n",
    "for y in range(1000):\n",
    "    for i in range(1000):\n",
    "        u = np.random.randint(100, 1100)\n",
    "\n",
    "        if re.findall(number_777, str(u)):\n",
    "            counter_777 += 1\n",
    "        elif re.findall(number_999, str(u)):\n",
    "            counter_999 += 1\n",
    "        elif re.findall(number_555, str(u)):\n",
    "            counter_555 += 1\n",
    "        elif re.findall(number_333, str(u)):\n",
    "            counter_333 += 1\n",
    "        elif re.findall(number_z77, str(u)):\n",
    "            counter_z77 += 1\n",
    "        elif re.findall(number_z77_2, str(u)):\n",
    "            counter_z77_2 += 1\n",
    "        elif re.findall(number_zz7, str(u)):\n",
    "            counter_zz7 += 1\n",
    "        elif re.findall(number_zz7_2, str(u)):\n",
    "            counter_zz7_2 += 1\n",
    "        elif re.findall(number_z00, str(u)):\n",
    "            counter_z00 += 1\n",
    "        elif re.findall(number_z00, str(u)):\n",
    "            counter_z00_2 += 1\n",
    "        elif re.findall(number_zz0, str(u)):\n",
    "            counter_zz0 += 1\n",
    "        elif re.findall(number_zz0_2, str(u)):\n",
    "            counter_zz0_2 += 1\n",
    "        elif re.findall(number_111, str(u)):\n",
    "            counter_111 += 1\n",
    "\n",
    "            total  = (counter_777 * 200) + (counter_999 * 100) + (counter_555 * 50) + (counter_333 * 15) + (counter_111 * 10) + (counter_z77 * 5) + (counter_z77_2 * 5)  + ((counter_zz7 + counter_zz7_2) * 3) + ((counter_z00 + counter_z00_2) * 2) + ((counter_zz0 + counter_zz0_2) * 1) \n",
    "\n",
    "    total_1000 += total \n",
    "print(total_1000/1000000)\n",
    "\n",
    "        "
   ]
  },
  {
   "cell_type": "markdown",
   "metadata": {},
   "source": [
    "# Дополнительное задание "
   ]
  },
  {
   "cell_type": "code",
   "execution_count": 217,
   "metadata": {},
   "outputs": [],
   "source": [
    "\n",
    "\n",
    "#вероятность выпадения 777 999 555 333 111 равна 0.001, \n",
    "\n",
    "# *77 = 0.009\n",
    "\n",
    "# *00 = 0.01\n",
    "\n",
    "# **7 = 0.091\n",
    "\n",
    "# **0 = 0.09\n",
    "\n",
    "# умножаем выигрыши на вероятность их выпадения в автомате чтобы найти полную вероятность \n",
    "# полная вероятность выиграть = 0.803 \n",
    "\n",
    "\n"
   ]
  }
 ],
 "metadata": {
  "kernelspec": {
   "display_name": "Python 3",
   "language": "python",
   "name": "python3"
  },
  "language_info": {
   "codemirror_mode": {
    "name": "ipython",
    "version": 3
   },
   "file_extension": ".py",
   "mimetype": "text/x-python",
   "name": "python",
   "nbconvert_exporter": "python",
   "pygments_lexer": "ipython3",
   "version": "3.8.5"
  }
 },
 "nbformat": 4,
 "nbformat_minor": 4
}
