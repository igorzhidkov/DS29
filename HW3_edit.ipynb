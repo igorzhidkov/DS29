{
  "nbformat": 4,
  "nbformat_minor": 0,
  "metadata": {
    "kernelspec": {
      "display_name": "Python 3",
      "language": "python",
      "name": "python3"
    },
    "language_info": {
      "codemirror_mode": {
        "name": "ipython",
        "version": 3
      },
      "file_extension": ".py",
      "mimetype": "text/x-python",
      "name": "python",
      "nbconvert_exporter": "python",
      "pygments_lexer": "ipython3",
      "version": "3.8.5"
    },
    "colab": {
      "name": "HW3_edit.ipynb",
      "provenance": [],
      "collapsed_sections": []
    }
  },
  "cells": [
    {
      "cell_type": "markdown",
      "metadata": {
        "id": "aUz_N5a7z9at"
      },
      "source": [
        "# Task 1"
      ]
    },
    {
      "cell_type": "code",
      "metadata": {
        "id": "K1YW_oWLz9av"
      },
      "source": [
        "ids = {'user1': [213, 213, 213, 15, 213],\n",
        "'user2': [54, 54, 119, 119, 119],\n",
        "'user3': [213, 98, 98, 35]}"
      ],
      "execution_count": null,
      "outputs": []
    },
    {
      "cell_type": "code",
      "metadata": {
        "colab": {
          "base_uri": "https://localhost:8080/"
        },
        "id": "L8eNcENAz9ay",
        "outputId": "c4915a59-3407-44a5-8e9e-e95ce0ad1897"
      },
      "source": [
        "uniq_geo = []\n",
        "\n",
        "for geo in ids.values():\n",
        "    set(geo)\n",
        "    uniq_geo = uniq_geo  + geo\n",
        "print (set(uniq_geo))\n",
        "    "
      ],
      "execution_count": null,
      "outputs": [
        {
          "output_type": "stream",
          "text": [
            "{98, 35, 15, 213, 54, 119}\n"
          ],
          "name": "stdout"
        }
      ]
    },
    {
      "cell_type": "markdown",
      "metadata": {
        "id": "bkl-jhcnz9a0"
      },
      "source": [
        "# Task 2 "
      ]
    },
    {
      "cell_type": "code",
      "metadata": {
        "colab": {
          "base_uri": "https://localhost:8080/"
        },
        "id": "87TUyUQ78jDj",
        "outputId": "c3642f64-12d4-4b17-f6f2-e16b3add62a1"
      },
      "source": [
        "queries = [\n",
        "    'смотреть сериалы онлайн',\n",
        "    'новости смотреть сериалы онлайн смотреть сериалы онлайн спорта',\n",
        "    'афиша кино',\n",
        "    'курс смотреть сериалы онлайн доллара',\n",
        "    'сериалы этим летом',\n",
        "    'курс по питону',\n",
        "    'сериалы про смотреть сериалы онлайн спорт',\n",
        "]\n",
        "\n",
        "\n",
        "m_dict = dict()\n",
        "query1 = 0\n",
        "\n",
        "#m_dict[query_splited_3] = query_splited\n",
        "for query in queries:\n",
        "    query_splited = query.split(' ')\n",
        "    if query not in m_dict:\n",
        "      word_len = len(query_splited)\n",
        "      #используйте m_dict.setdefault(len(query_splited), 0) для первичной инициализации. Дальше сразу можно прибавлять +1. \n",
        "      #особенность setdefault в том, что если ключ не существует, то ключ будет инициализирован нулем. Если существует, то его значение не изменится. Используйте эту особенность\n",
        "      m_dict.setdefault(len(query_splited), 0)\n",
        "      m_dict[word_len] += 1\n",
        "    #else:\n",
        "      #m_dict[word_len] += 1 \n",
        "     \n",
        "    \n",
        "print(m_dict)\n"
      ],
      "execution_count": null,
      "outputs": [
        {
          "output_type": "stream",
          "text": [
            "{3: 3, 8: 1, 2: 1, 5: 1, 6: 1}\n"
          ],
          "name": "stdout"
        }
      ]
    },
    {
      "cell_type": "markdown",
      "metadata": {
        "id": "EtwuYujAz9a3"
      },
      "source": [
        "# Task 3 "
      ]
    },
    {
      "cell_type": "code",
      "metadata": {
        "id": "hvlhPLYCz9a4"
      },
      "source": [
        "results = {\n",
        "    'vk': {'revenue': 103, 'cost': 98},\n",
        "    'yandex': {'revenue': 179, 'cost': 153},\n",
        "    'facebook': {'revenue': 103, 'cost': 110},\n",
        "    'adwords': {'revenue': 35, 'cost': 34},\n",
        "    'twitter': {'revenue': 11, 'cost': 24},\n",
        "}"
      ],
      "execution_count": null,
      "outputs": []
    },
    {
      "cell_type": "code",
      "metadata": {
        "id": "DmDfKQ2Jz9a5"
      },
      "source": [
        "#(revenue / cost - 1) * 100\n"
      ],
      "execution_count": null,
      "outputs": []
    },
    {
      "cell_type": "code",
      "metadata": {
        "id": "e5p37vJ5z9a5",
        "outputId": "ce4f5f81-79e0-4d96-e2eb-0635027e5f96"
      },
      "source": [
        "roi=0\n",
        "for company in list(results.values()):\n",
        "    roi = (company['revenue'] / company['cost'] - 1)*100\n",
        "    company['roi'] = round(roi, 2) \n",
        "    #print(company)\n",
        "print (results)\n",
        "    "
      ],
      "execution_count": null,
      "outputs": [
        {
          "output_type": "stream",
          "text": [
            "{'vk': {'revenue': 103, 'cost': 98, 'roi': 5.1}, 'yandex': {'revenue': 179, 'cost': 153, 'roi': 16.99}, 'facebook': {'revenue': 103, 'cost': 110, 'roi': -6.36}, 'adwords': {'revenue': 35, 'cost': 34, 'roi': 2.94}, 'twitter': {'revenue': 11, 'cost': 24, 'roi': -54.17}}\n"
          ],
          "name": "stdout"
        }
      ]
    },
    {
      "cell_type": "markdown",
      "metadata": {
        "id": "orA3IvU1z9a6"
      },
      "source": [
        "# Task 4"
      ]
    },
    {
      "cell_type": "code",
      "metadata": {
        "id": "mqOzK5yTz9a6"
      },
      "source": [
        "stats = {'facebook': 55, 'yandex': 115, 'vk': 120, 'google': 99, 'email': 42, 'ok': 98}\n",
        "\n",
        "#Результат: Максимальный объем продаж на рекламном канале: vk"
      ],
      "execution_count": null,
      "outputs": []
    },
    {
      "cell_type": "code",
      "metadata": {
        "id": "Z0Wlvjduz9a7",
        "outputId": "e09f75d1-f10e-4f7e-9fc7-d6b921443dd3"
      },
      "source": [
        "#max(list(stats.values()))\n",
        "#вывести ключ, чье значение равно max(list(stats.values()))\n",
        "for key, value in stats.items():\n",
        "    if max(list(stats.values())) == value:\n",
        "        print('Максимальный объем продаж на рекламном канале: ' , key)\n",
        "        "
      ],
      "execution_count": null,
      "outputs": [
        {
          "output_type": "stream",
          "text": [
            "Максимальный объем продаж на рекламном канале:  vk\n"
          ],
          "name": "stdout"
        }
      ]
    },
    {
      "cell_type": "markdown",
      "metadata": {
        "id": "_z1AkLHmz9a7"
      },
      "source": [
        "# Task 5 "
      ]
    },
    {
      "cell_type": "code",
      "metadata": {
        "colab": {
          "base_uri": "https://localhost:8080/"
        },
        "id": "rXn4KxrGz9a9",
        "outputId": "f6719243-0bb6-4408-a69f-fd6afe4e4c2a"
      },
      "source": [
        "my_list = ['2018-01-01', 'yandex', 'cpc', 100]\n",
        "res = my_list[-1]            \n",
        "for el in reversed(my_list[:-1]):      \n",
        "  res = {el: res}\n",
        "print(res)"
      ],
      "execution_count": null,
      "outputs": [
        {
          "output_type": "stream",
          "text": [
            "{'2018-01-01': {'yandex': {'cpc': 100}}}\n"
          ],
          "name": "stdout"
        }
      ]
    },
    {
      "cell_type": "code",
      "metadata": {
        "id": "NTwxFZGQz9a7"
      },
      "source": [
        "my_list = ['2018-01-01', 'yandex', 'cpc', 100]"
      ],
      "execution_count": null,
      "outputs": []
    },
    {
      "cell_type": "code",
      "metadata": {
        "id": "wpiDqGYkz9a8",
        "outputId": "342dadc1-7ee4-4c11-a687-04aba2cd2e4d"
      },
      "source": [
        "my_dict = dict()\n",
        "i=0\n",
        "for element in my_list:\n",
        "    my_dict[my_list[-2]]= my_list[-1]\n",
        "    my_dict[my_list[-3]] = my_dict[my_list[-2]]\n",
        "    #my_dict.get(my_list[0])[my_list[1]] = my_list[2]\n",
        "    #my_dict_values = list(my_dict.values())\n",
        "    #my_dict_values[my_list[1]] = my_list[2]\n",
        "print(my_dict)\n",
        "# происходит переназаначение переменной. чтобы этого избежать нужно каждый раз создавать в цикле новую переменную, чтобы цикл был нечувствиетлен к окличеству элементов в исходном списке. "
      ],
      "execution_count": null,
      "outputs": [
        {
          "output_type": "stream",
          "text": [
            "{'cpc': 100, 'yandex': 100}\n"
          ],
          "name": "stdout"
        }
      ]
    },
    {
      "cell_type": "code",
      "metadata": {
        "id": "4X4_OrUwz9a8",
        "outputId": "60acc336-b994-4f72-908e-95e391fceb63"
      },
      "source": [
        "#если в ручную (без цикла)\n",
        "my_dict = dict()\n",
        "my_dict1 = dict()\n",
        "my_dict2 = dict()\n",
        "# как избежать назначения всех этих переменных перед циклом\n",
        "\n",
        "i=0\n",
        "for element in my_list:\n",
        "    my_dict['cpc'] = 100\n",
        "    my_dict1['yandex'] = my_dict\n",
        "    my_dict2['2018-01-01'] = my_dict1\n",
        "   \n",
        "print(my_dict2)"
      ],
      "execution_count": null,
      "outputs": [
        {
          "output_type": "stream",
          "text": [
            "{'2018-01-01': {'yandex': {'cpc': 100}}}\n"
          ],
          "name": "stdout"
        }
      ]
    },
    {
      "cell_type": "code",
      "metadata": {
        "id": "sUDwmy-pSohZ"
      },
      "source": [
        ""
      ],
      "execution_count": null,
      "outputs": []
    }
  ]
}