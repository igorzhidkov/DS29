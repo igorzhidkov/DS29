{
 "cells": [
  {
   "cell_type": "markdown",
   "metadata": {},
   "source": [
    "### Я понимаю, что это такое и как это работает, но из полезного применения отметил лишь, что при помощи range можно проводить итерацию по индексам списка, например - и все на этом."
   ]
  },
  {
   "cell_type": "markdown",
   "metadata": {},
   "source": [
    "Напишите программу, которая будет запрашивать число у пользователя и выводить сумму всех натуральных чисел от 1 до n.\n",
    "\n"
   ]
  },
  {
   "cell_type": "code",
   "execution_count": 1,
   "metadata": {},
   "outputs": [
    {
     "name": "stdout",
     "output_type": "stream",
     "text": [
      "Введите число5\n",
      "15\n"
     ]
    }
   ],
   "source": [
    "user_input = int(input(\"Введите число\"))\n",
    "total = 0\n",
    "for i in range(user_input+1):\n",
    "    total += i\n",
    "print(total)"
   ]
  },
  {
   "cell_type": "code",
   "execution_count": 2,
   "metadata": {},
   "outputs": [
    {
     "name": "stdout",
     "output_type": "stream",
     "text": [
      "введите число5\n",
      "15\n"
     ]
    }
   ],
   "source": [
    "num = int(input('введите число'))\n",
    "print(sum(range(num + 1)))"
   ]
  },
  {
   "cell_type": "code",
   "execution_count": 3,
   "metadata": {},
   "outputs": [
    {
     "name": "stdout",
     "output_type": "stream",
     "text": [
      "Введите целое число: 4\n",
      "1\n",
      "2\n",
      "3\n",
      "4\n"
     ]
    }
   ],
   "source": [
    "n = int(input('Введите целое число: '))\n",
    "for n in range(1, n+1):\n",
    "    print(n)"
   ]
  },
  {
   "cell_type": "code",
   "execution_count": 5,
   "metadata": {},
   "outputs": [
    {
     "name": "stdout",
     "output_type": "stream",
     "text": [
      "5\n",
      "15\n"
     ]
    }
   ],
   "source": [
    "n = int(input())\n",
    "summa = 0\n",
    "for i in range(n + 1):\n",
    "    summa += i\n",
    "print(summa)"
   ]
  },
  {
   "cell_type": "code",
   "execution_count": null,
   "metadata": {},
   "outputs": [],
   "source": [
    "a = int(input())\n",
    "b = 0\n",
    "for i in range(a+1):\n",
    "    b += i\n",
    "print(b)"
   ]
  },
  {
   "cell_type": "code",
   "execution_count": 7,
   "metadata": {},
   "outputs": [
    {
     "data": {
      "text/plain": [
       "[0, 1, 2, 3, 4, 5, 6, 7, 8]"
      ]
     },
     "execution_count": 7,
     "metadata": {},
     "output_type": "execute_result"
    }
   ],
   "source": [
    "list(range(9))"
   ]
  },
  {
   "cell_type": "markdown",
   "metadata": {},
   "source": [
    "Напишите программу, которая будет выводить таблицу умножения для 1 введенного числа."
   ]
  },
  {
   "cell_type": "code",
   "execution_count": 9,
   "metadata": {},
   "outputs": [
    {
     "name": "stdout",
     "output_type": "stream",
     "text": [
      "6\n",
      "6\n",
      "12\n",
      "18\n",
      "24\n",
      "30\n",
      "36\n",
      "42\n",
      "48\n",
      "54\n"
     ]
    }
   ],
   "source": [
    "a = int(input())\n",
    "for i in range(1, 10):\n",
    "    b = a * i\n",
    "    print(b)"
   ]
  },
  {
   "cell_type": "code",
   "execution_count": 10,
   "metadata": {},
   "outputs": [
    {
     "name": "stdout",
     "output_type": "stream",
     "text": [
      "5\n",
      "10\n",
      "15\n",
      "20\n",
      "25\n",
      "30\n",
      "35\n",
      "40\n",
      "45\n",
      "50\n"
     ]
    }
   ],
   "source": [
    "number = 5\n",
    "for i in range(1, ):\n",
    "    print(number * i)"
   ]
  },
  {
   "cell_type": "code",
   "execution_count": 11,
   "metadata": {},
   "outputs": [
    {
     "name": "stdout",
     "output_type": "stream",
     "text": [
      "введите число6\n",
      "0*6=0\n",
      "1*6=6\n",
      "2*6=12\n",
      "3*6=18\n",
      "4*6=24\n",
      "5*6=30\n",
      "6*6=36\n",
      "7*6=42\n",
      "8*6=48\n",
      "9*6=54\n"
     ]
    }
   ],
   "source": [
    "n = int(input('введите число'))\n",
    "for x in range(10):\n",
    "    print(f'{x}*{n}={n * x}')"
   ]
  },
  {
   "cell_type": "code",
   "execution_count": 12,
   "metadata": {},
   "outputs": [
    {
     "name": "stdout",
     "output_type": "stream",
     "text": [
      "введите число10\n",
      " 10 * 1 =  10\n",
      " 10 * 2 =  20\n",
      " 10 * 3 =  30\n",
      " 10 * 4 =  40\n",
      " 10 * 5 =  50\n",
      " 10 * 6 =  60\n",
      " 10 * 7 =  70\n",
      " 10 * 8 =  80\n",
      " 10 * 9 =  90\n"
     ]
    }
   ],
   "source": [
    "num = int(input('введите число'))\n",
    "for i in range(1, 10):\n",
    "    print(f' {num} * {i} =  {num*i}')"
   ]
  },
  {
   "cell_type": "code",
   "execution_count": 13,
   "metadata": {},
   "outputs": [
    {
     "name": "stdout",
     "output_type": "stream",
     "text": [
      "Input number6\n",
      "0 * 6 = 0\n",
      "1 * 6 = 6\n",
      "2 * 6 = 12\n",
      "3 * 6 = 18\n",
      "4 * 6 = 24\n",
      "5 * 6 = 30\n"
     ]
    }
   ],
   "source": [
    "val = int(input('Input number'))\n",
    "\n",
    "for i in range(0, 99):\n",
    "    print(i, '*', val, '=', i * val)"
   ]
  },
  {
   "cell_type": "code",
   "execution_count": 22,
   "metadata": {},
   "outputs": [
    {
     "name": "stdout",
     "output_type": "stream",
     "text": [
      "6\n",
      "12\n",
      "18\n",
      "24\n",
      "30\n",
      "36\n",
      "42\n",
      "48\n",
      "54\n",
      "60\n"
     ]
    }
   ],
   "source": [
    "number = 6\n",
    "\n",
    "res = [number * i for i in range(1, 11)]\n",
    "\n",
    "for el in res:\n",
    "    print(el)\n",
    "\n",
    "# print(*[number * i for i in range(1, 11)], sep='\\n')"
   ]
  },
  {
   "cell_type": "code",
   "execution_count": null,
   "metadata": {},
   "outputs": [],
   "source": [
    "number = int(input())\n",
    "for i in range(1, 10):\n",
    "    suma = a * i\n",
    "    print(b)"
   ]
  },
  {
   "cell_type": "code",
   "execution_count": 14,
   "metadata": {},
   "outputs": [
    {
     "name": "stdout",
     "output_type": "stream",
     "text": [
      "5\n",
      "5 * 1 = 5\n",
      "5 * 2 = 10\n",
      "5 * 3 = 15\n",
      "5 * 4 = 20\n",
      "5 * 5 = 25\n",
      "5 * 6 = 30\n",
      "5 * 7 = 35\n",
      "5 * 8 = 40\n",
      "5 * 9 = 45\n"
     ]
    }
   ],
   "source": [
    "user_inp = int(input())\n",
    "for i in range(1, 10):\n",
    "    print(user_inp, '*', i, '=', user_inp*i)"
   ]
  },
  {
   "cell_type": "code",
   "execution_count": null,
   "metadata": {},
   "outputs": [],
   "source": [
    "num = int(input('Введите целое число: '))\n",
    "for n in range(1, 10):\n",
    "    print(num, '*', n,' =', num*n)"
   ]
  },
  {
   "cell_type": "markdown",
   "metadata": {},
   "source": [
    "### В 1 задаче ДЗ \"Управляющие конструкции и коллекции- предлекционный материал часть 2\" необходимо соединить значения 3-х списков в множество, чтобы оставить только уникальные значения. Я легко это сделал при помощи метода .update. Потом я решил упростить код и переписать его через list\\set comprehension - выдало ошибку, что элементы типа \"список\" не хешируются. Взять просто значения внутри этих списков у меня не получилось. Можно ли решить эту задачу через comprehension? "
   ]
  },
  {
   "cell_type": "code",
   "execution_count": 23,
   "metadata": {},
   "outputs": [],
   "source": [
    "ids = {'user1': [213, 213, 213, 15, 213], \n",
    "       'user2': [54, 54, 119, 119, 119], \n",
    "       'user3': [213, 98, 98, 35]}"
   ]
  },
  {
   "cell_type": "code",
   "execution_count": 25,
   "metadata": {},
   "outputs": [
    {
     "data": {
      "text/plain": [
       "[[213, 213, 213, 15, 213], [54, 54, 119, 119, 119], [213, 98, 98, 35]]"
      ]
     },
     "execution_count": 25,
     "metadata": {},
     "output_type": "execute_result"
    }
   ],
   "source": [
    "list(ids.values())"
   ]
  },
  {
   "cell_type": "code",
   "execution_count": null,
   "metadata": {},
   "outputs": [],
   "source": []
  },
  {
   "cell_type": "markdown",
   "metadata": {},
   "source": [
    "### \"Разгладим\" список"
   ]
  },
  {
   "cell_type": "code",
   "execution_count": 33,
   "metadata": {},
   "outputs": [],
   "source": [
    "my_list = [['Екатеринбург', 'Москва'], ['Санкт-Петербург', 'Норильск'], ['Пермь', 'Астрахань']]"
   ]
  },
  {
   "cell_type": "code",
   "execution_count": 34,
   "metadata": {},
   "outputs": [
    {
     "data": {
      "text/plain": [
       "{'Астрахань', 'Екатеринбург', 'Москва', 'Норильск', 'Пермь', 'Санкт-Петербург'}"
      ]
     },
     "execution_count": 34,
     "metadata": {},
     "output_type": "execute_result"
    }
   ],
   "source": [
    "set(sum(my_list, []))"
   ]
  },
  {
   "cell_type": "markdown",
   "metadata": {},
   "source": [
    "# map"
   ]
  },
  {
   "cell_type": "code",
   "execution_count": 37,
   "metadata": {},
   "outputs": [
    {
     "data": {
      "text/plain": [
       "[10, 9, 6, 6]"
      ]
     },
     "execution_count": 37,
     "metadata": {},
     "output_type": "execute_result"
    }
   ],
   "source": [
    "list(map(len, ['sdgdsgdsgh', 'sdgsdgsdg', 'sdgsdg', 'sdgsdg']))"
   ]
  },
  {
   "cell_type": "code",
   "execution_count": null,
   "metadata": {},
   "outputs": [],
   "source": [
    "# filter\n",
    "# reduce"
   ]
  },
  {
   "cell_type": "markdown",
   "metadata": {},
   "source": [
    "Дан список с визитами по городам и странам. \n",
    "Напишите код, который возвращает отфильтрованный список geo_logs, содержащий только визиты из России.\n"
   ]
  },
  {
   "cell_type": "code",
   "execution_count": 52,
   "metadata": {},
   "outputs": [],
   "source": [
    "geo_logs = [\n",
    "    {'visit1': ['Москва', 'Россия']},\n",
    "    {'visit2': ['Дели', 'Индия']},\n",
    "    {'visit3': ['Владимир', 'Россия']},\n",
    "    {'visit4': ['Лиссабон', 'Португалия']},\n",
    "    {'visit5': ['Париж', 'Франция']},\n",
    "    {'visit7': ['Тула', 'Россия']},\n",
    "    {'visit9': ['Курск', 'Россия']},\n",
    "    {'visit10': ['Архангельск', 'Россия']}\n",
    "]"
   ]
  },
  {
   "cell_type": "code",
   "execution_count": 45,
   "metadata": {},
   "outputs": [
    {
     "data": {
      "text/plain": [
       "[{'visit1': ['Москва', 'Россия']},\n",
       " {'visit3': ['Владимир', 'Россия']},\n",
       " {'visit5': ['Париж', 'Франция']},\n",
       " {'visit7': ['Тула', 'Россия']},\n",
       " {'visit9': ['Курск', 'Россия']},\n",
       " {'visit10': ['Архангельск', 'Россия']}]"
      ]
     },
     "execution_count": 45,
     "metadata": {},
     "output_type": "execute_result"
    }
   ],
   "source": [
    "for log in geo_logs:\n",
    "#     print(log)\n",
    "    for i in log.values():\n",
    "#         print(i)\n",
    "        if i[1] != 'Россия':\n",
    "            geo_logs.remove(log)\n",
    "            \n",
    "geo_logs"
   ]
  },
  {
   "cell_type": "code",
   "execution_count": 49,
   "metadata": {},
   "outputs": [
    {
     "data": {
      "text/plain": [
       "[{'visit1': ['Москва', 'Россия']},\n",
       " {'visit3': ['Владимир', 'Россия']},\n",
       " {'visit7': ['Тула', 'Россия']},\n",
       " {'visit9': ['Курск', 'Россия']},\n",
       " {'visit10': ['Архангельск', 'Россия']}]"
      ]
     },
     "execution_count": 49,
     "metadata": {},
     "output_type": "execute_result"
    }
   ],
   "source": [
    "result = []\n",
    "\n",
    "for log in geo_logs:\n",
    "    if list(log.values())[0][1] == 'Россия':\n",
    "        result.append(log)\n",
    "        \n",
    "result"
   ]
  },
  {
   "cell_type": "code",
   "execution_count": 53,
   "metadata": {},
   "outputs": [],
   "source": [
    "geo_logs_2 = geo_logs.copy()\n",
    "geo_logs_2 = geo_logs[:]\n",
    "geo_logs_2 = list(geo_logs)"
   ]
  },
  {
   "cell_type": "code",
   "execution_count": 54,
   "metadata": {},
   "outputs": [
    {
     "data": {
      "text/plain": [
       "[{'visit1': ['Москва', 'Россия']},\n",
       " {'visit3': ['Владимир', 'Россия']},\n",
       " {'visit7': ['Тула', 'Россия']},\n",
       " {'visit9': ['Курск', 'Россия']},\n",
       " {'visit10': ['Архангельск', 'Россия']}]"
      ]
     },
     "execution_count": 54,
     "metadata": {},
     "output_type": "execute_result"
    }
   ],
   "source": [
    "for log in geo_logs_2:\n",
    "     if list(log.values())[0][1] != 'Россия':\n",
    "        geo_logs.remove(log)\n",
    "\n",
    "geo_logs"
   ]
  },
  {
   "cell_type": "code",
   "execution_count": 57,
   "metadata": {},
   "outputs": [
    {
     "data": {
      "text/plain": [
       "[{'visit1': ['Москва', 'Россия']},\n",
       " {'visit3': ['Владимир', 'Россия']},\n",
       " {'visit7': ['Тула', 'Россия']},\n",
       " {'visit9': ['Курск', 'Россия']},\n",
       " {'visit10': ['Архангельск', 'Россия']}]"
      ]
     },
     "execution_count": 57,
     "metadata": {},
     "output_type": "execute_result"
    }
   ],
   "source": [
    "list(filter(lambda log: 'Россия' == list(log.values())[0][1], geo_logs))"
   ]
  },
  {
   "cell_type": "markdown",
   "metadata": {},
   "source": [
    "### Практика. Посчитайте сколько раз каждое слово встречалось в тексте \n",
    "Вывести в формате: \"слово\": \"количество вхождений\"\n",
    "\n",
    "За разделитель считаем пробел, все слова приводим к нижнему регистру"
   ]
  },
  {
   "cell_type": "code",
   "execution_count": 65,
   "metadata": {},
   "outputs": [],
   "source": [
    "some_oxy_text = '''\n",
    "Весь мой рэп, если коротко, про то, что\n",
    "Уж который год который город под подошвой\n",
    "В гору, когда прет. Потом под гору, когда тошно\n",
    "Я не то, что Гулливер, но все же город под подошвой\n",
    "Город под подошвой, город под подошвой\n",
    "Светофоры, госпошлины, сборы и таможни\n",
    "Я не знаю, вброд или на дно эта дорожка\n",
    "Ты живешь под каблуком, у меня - город под подошвой\n",
    "'''"
   ]
  },
  {
   "cell_type": "code",
   "execution_count": 62,
   "metadata": {},
   "outputs": [
    {
     "name": "stdout",
     "output_type": "stream",
     "text": [
      "весь: 1\n",
      "мой: 1\n",
      "рэп: 1\n",
      "если: 1\n",
      "коротко: 1\n",
      "про: 1\n",
      "то: 2\n",
      "что: 2\n",
      "уж: 1\n",
      "который: 2\n",
      "год: 1\n",
      "город: 5\n",
      "под: 7\n",
      "подошвой: 5\n",
      "в: 1\n",
      "гору: 2\n",
      "когда: 2\n",
      "прет: 1\n",
      "потом: 1\n",
      "тошно: 1\n",
      "я: 2\n",
      "не: 2\n",
      "гулливер: 1\n",
      "но: 1\n",
      "все: 1\n",
      "же: 1\n",
      "светофоры: 1\n",
      "госпошлины: 1\n",
      "сборы: 1\n",
      "и: 1\n",
      "таможни: 1\n",
      "знаю: 1\n",
      "вброд: 1\n",
      "или: 1\n",
      "на: 1\n",
      "дно: 1\n",
      "эта: 1\n",
      "дорожка: 1\n",
      "ты: 1\n",
      "живешь: 1\n",
      "каблуком: 1\n",
      "у: 1\n",
      "меня: 1\n"
     ]
    }
   ],
   "source": [
    "res = {}\n",
    "\n",
    "some_splitted_oxy_text = some_oxy_text.lower().replace(',', '').replace('.', '').replace('-', '').split()\n",
    "\n",
    "for word in some_splitted_oxy_text:\n",
    "    if word not in res:\n",
    "        res[word] = 1\n",
    "    else:\n",
    "        res[word] += 1\n",
    "        \n",
    "for w, count in res.items():\n",
    "    print(f'{w}: {count}')\n",
    "\n"
   ]
  },
  {
   "cell_type": "code",
   "execution_count": 68,
   "metadata": {},
   "outputs": [
    {
     "data": {
      "text/plain": [
       "{'весь': 1,\n",
       " 'мой': 1,\n",
       " 'рэп': 1,\n",
       " 'если': 1,\n",
       " 'коротко': 1,\n",
       " 'про': 1,\n",
       " 'то': 9,\n",
       " 'что': 2,\n",
       " 'уж': 1,\n",
       " 'который': 2,\n",
       " 'год': 1,\n",
       " 'город': 5,\n",
       " 'под': 12,\n",
       " 'подошвой': 5,\n",
       " 'в': 12,\n",
       " 'гору': 2,\n",
       " 'когда': 2,\n",
       " 'прет': 1,\n",
       " 'потом': 1,\n",
       " 'тошно': 1,\n",
       " 'я': 3,\n",
       " 'не': 2,\n",
       " 'гулливер': 1,\n",
       " 'но': 3,\n",
       " 'все': 1,\n",
       " 'же': 1,\n",
       " 'светофоры': 1,\n",
       " 'госпошлины': 1,\n",
       " 'сборы': 1,\n",
       " 'и': 8,\n",
       " 'таможни': 1,\n",
       " 'знаю': 1,\n",
       " 'вброд': 1,\n",
       " 'или': 1,\n",
       " 'на': 2,\n",
       " 'дно': 1,\n",
       " 'эта': 1,\n",
       " 'дорожка': 1,\n",
       " 'ты': 1,\n",
       " 'живешь': 1,\n",
       " 'каблуком': 1,\n",
       " 'у': 6,\n",
       " 'меня': 1}"
      ]
     },
     "execution_count": 68,
     "metadata": {},
     "output_type": "execute_result"
    }
   ],
   "source": [
    "result = some_oxy_text.replace(',','').replace('-','').replace('.','').lower()\n",
    "{x:result.count(x) for x in result.split()}"
   ]
  },
  {
   "cell_type": "markdown",
   "metadata": {},
   "source": [
    "### Практика. Решим задачу с диагональной матрицей при помощи list comprehension"
   ]
  },
  {
   "cell_type": "code",
   "execution_count": 70,
   "metadata": {},
   "outputs": [],
   "source": [
    "data = [\n",
    "    [13, 25, 23, 34],\n",
    "    [45, 32, 44, 47],\n",
    "    [12, 33, 23, 95],\n",
    "    [13, 53, 34, 35]\n",
    "]"
   ]
  },
  {
   "cell_type": "code",
   "execution_count": 71,
   "metadata": {},
   "outputs": [
    {
     "data": {
      "text/plain": [
       "103"
      ]
     },
     "execution_count": 71,
     "metadata": {},
     "output_type": "execute_result"
    }
   ],
   "source": [
    "sum([data[i][i] for i in range(len(data))])"
   ]
  },
  {
   "cell_type": "code",
   "execution_count": 72,
   "metadata": {},
   "outputs": [
    {
     "data": {
      "text/plain": [
       "103"
      ]
     },
     "execution_count": 72,
     "metadata": {},
     "output_type": "execute_result"
    }
   ],
   "source": [
    "sum([data[index][index] for index in range(len(data))])"
   ]
  },
  {
   "cell_type": "code",
   "execution_count": 76,
   "metadata": {},
   "outputs": [
    {
     "data": {
      "text/plain": [
       "[(0, [13, 25, 23, 34]),\n",
       " (1, [45, 32, 44, 47]),\n",
       " (2, [12, 33, 23, 95]),\n",
       " (3, [13, 53, 34, 35])]"
      ]
     },
     "execution_count": 76,
     "metadata": {},
     "output_type": "execute_result"
    }
   ],
   "source": [
    "list(enumerate(data))"
   ]
  },
  {
   "cell_type": "code",
   "execution_count": 74,
   "metadata": {},
   "outputs": [
    {
     "data": {
      "text/plain": [
       "103"
      ]
     },
     "execution_count": 74,
     "metadata": {},
     "output_type": "execute_result"
    }
   ],
   "source": [
    "sum([column[row] for row, column in enumerate(data)])"
   ]
  },
  {
   "cell_type": "code",
   "execution_count": null,
   "metadata": {},
   "outputs": [],
   "source": []
  }
 ],
 "metadata": {
  "kernelspec": {
   "display_name": "Python 3",
   "language": "python",
   "name": "python3"
  },
  "language_info": {
   "codemirror_mode": {
    "name": "ipython",
    "version": 3
   },
   "file_extension": ".py",
   "mimetype": "text/x-python",
   "name": "python",
   "nbconvert_exporter": "python",
   "pygments_lexer": "ipython3",
   "version": "3.8.5"
  }
 },
 "nbformat": 4,
 "nbformat_minor": 4
}
