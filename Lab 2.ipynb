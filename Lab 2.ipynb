{
 "cells": [
  {
   "cell_type": "code",
   "execution_count": 1,
   "metadata": {},
   "outputs": [],
   "source": [
    "#loading the libraries\n",
    "import os\n",
    "import numpy as np\n",
    "import pandas as pd\n",
    "import statsmodels as sm"
   ]
  },
  {
   "cell_type": "code",
   "execution_count": 2,
   "metadata": {},
   "outputs": [],
   "source": [
    "#change the directory to the one where\n",
    "#the files are stored\n",
    "os.chdir(\"/Users/X240/Desktop/methods\")"
   ]
  },
  {
   "cell_type": "code",
   "execution_count": 3,
   "metadata": {},
   "outputs": [
    {
     "name": "stdout",
     "output_type": "stream",
     "text": [
      "     region      name\n",
      "0   N Cntrl    Krantz\n",
      "1   N Cntrl    Phipps\n",
      "2   N Cntrl    Willis\n",
      "3        NE   Ecklund\n",
      "4        NE    Franks\n",
      "5     South  Anderson\n",
      "6     South   Dubnoff\n",
      "7     South       Lee\n",
      "8     South    McNeil\n",
      "9      West   Charles\n",
      "10     West      Cobb\n",
      "11     West     Grant\n"
     ]
    }
   ],
   "source": [
    "#let's start by loading datasets into Python\n",
    "dataset1 = pd.read_csv(\"sforce.csv\")\n",
    "dataset2 = pd.read_csv(\"dollars.csv\")   \n",
    "print(dataset1)"
   ]
  },
  {
   "cell_type": "code",
   "execution_count": 4,
   "metadata": {},
   "outputs": [
    {
     "name": "stdout",
     "output_type": "stream",
     "text": [
      "    region   sales    cost\n",
      "0  N Cntrl  419472  227677\n",
      "1       NE  360523  138097\n",
      "2    South  532399  330499\n",
      "3     West  310565  165348\n"
     ]
    }
   ],
   "source": [
    "print(dataset2)\n",
    "#as you can see, here we have one identifier variable\n",
    "#region"
   ]
  },
  {
   "cell_type": "code",
   "execution_count": 5,
   "metadata": {},
   "outputs": [
    {
     "name": "stdout",
     "output_type": "stream",
     "text": [
      "     region      name   sales    cost\n",
      "0   N Cntrl    Krantz  419472  227677\n",
      "1   N Cntrl    Phipps  419472  227677\n",
      "2   N Cntrl    Willis  419472  227677\n",
      "3        NE   Ecklund  360523  138097\n",
      "4        NE    Franks  360523  138097\n",
      "5     South  Anderson  532399  330499\n",
      "6     South   Dubnoff  532399  330499\n",
      "7     South       Lee  532399  330499\n",
      "8     South    McNeil  532399  330499\n",
      "9      West   Charles  310565  165348\n",
      "10     West      Cobb  310565  165348\n",
      "11     West     Grant  310565  165348\n"
     ]
    }
   ],
   "source": [
    "#we can merge on region using the standard pandas functionality\n",
    "merged_data = pd.merge(dataset1, dataset2, on = [\"region\"])\n",
    "print(merged_data)"
   ]
  },
  {
   "cell_type": "code",
   "execution_count": 6,
   "metadata": {},
   "outputs": [
    {
     "name": "stdout",
     "output_type": "stream",
     "text": [
      "     region      name   sales    cost  sales_low\n",
      "0   N Cntrl    Krantz  419472  227677      False\n",
      "1   N Cntrl    Phipps  419472  227677      False\n",
      "2   N Cntrl    Willis  419472  227677      False\n",
      "3        NE   Ecklund  360523  138097       True\n",
      "4        NE    Franks  360523  138097       True\n",
      "5     South  Anderson  532399  330499      False\n",
      "6     South   Dubnoff  532399  330499      False\n",
      "7     South       Lee  532399  330499      False\n",
      "8     South    McNeil  532399  330499      False\n",
      "9      West   Charles  310565  165348       True\n",
      "10     West      Cobb  310565  165348       True\n",
      "11     West     Grant  310565  165348       True\n"
     ]
    }
   ],
   "source": [
    "#we can also use Pandas to create new variables\n",
    "merged_data[\"sales_low\"] = [x<=400000 for x in merged_data[\"sales\"]]\n",
    "print(merged_data)"
   ]
  },
  {
   "cell_type": "code",
   "execution_count": 7,
   "metadata": {},
   "outputs": [
    {
     "name": "stdout",
     "output_type": "stream",
     "text": [
      "     region      name   sales    cost  sales_low  sales_cost\n",
      "0   N Cntrl    Krantz  419472  227677      False       False\n",
      "1   N Cntrl    Phipps  419472  227677      False       False\n",
      "2   N Cntrl    Willis  419472  227677      False       False\n",
      "3        NE   Ecklund  360523  138097       True        True\n",
      "4        NE    Franks  360523  138097       True        True\n",
      "5     South  Anderson  532399  330499      False       False\n",
      "6     South   Dubnoff  532399  330499      False       False\n",
      "7     South       Lee  532399  330499      False       False\n",
      "8     South    McNeil  532399  330499      False       False\n",
      "9      West   Charles  310565  165348       True       False\n",
      "10     West      Cobb  310565  165348       True       False\n",
      "11     West     Grant  310565  165348       True       False\n"
     ]
    }
   ],
   "source": [
    "#combining multiple conditions is also possible    \n",
    "merged_data[\"sales_cost\"] = [x<=400000 and y <=150000 for x,y in zip(merged_data[\"sales\"], merged_data[\"cost\"])]\n",
    "print(merged_data)"
   ]
  },
  {
   "cell_type": "code",
   "execution_count": 8,
   "metadata": {},
   "outputs": [
    {
     "name": "stdout",
     "output_type": "stream",
     "text": [
      "     region      name   sales    cost  sales_low  sales_cost  sales_minus_cost\n",
      "0   N Cntrl    Krantz  419472  227677      False       False            191795\n",
      "1   N Cntrl    Phipps  419472  227677      False       False            191795\n",
      "2   N Cntrl    Willis  419472  227677      False       False            191795\n",
      "3        NE   Ecklund  360523  138097       True        True            222426\n",
      "4        NE    Franks  360523  138097       True        True            222426\n",
      "5     South  Anderson  532399  330499      False       False            201900\n",
      "6     South   Dubnoff  532399  330499      False       False            201900\n",
      "7     South       Lee  532399  330499      False       False            201900\n",
      "8     South    McNeil  532399  330499      False       False            201900\n",
      "9      West   Charles  310565  165348       True       False            145217\n",
      "10     West      Cobb  310565  165348       True       False            145217\n",
      "11     West     Grant  310565  165348       True       False            145217\n"
     ]
    }
   ],
   "source": [
    "#pandas also supports element-wise operations\n",
    "merged_data[\"sales_minus_cost\"] = merged_data[\"sales\"] - merged_data[\"cost\"]  \n",
    "print(merged_data)"
   ]
  },
  {
   "cell_type": "code",
   "execution_count": 9,
   "metadata": {},
   "outputs": [
    {
     "name": "stdout",
     "output_type": "stream",
     "text": [
      "     region      name   sales    cost  sales_low  sales_cost  \\\n",
      "0   N Cntrl    Krantz  419472  227677      False       False   \n",
      "1   N Cntrl    Phipps  419472  227677      False       False   \n",
      "2   N Cntrl    Willis  419472  227677      False       False   \n",
      "3        NE   Ecklund  360523  138097       True        True   \n",
      "4        NE    Franks  360523  138097       True        True   \n",
      "5     South  Anderson  532399  330499      False       False   \n",
      "6     South   Dubnoff  532399  330499      False       False   \n",
      "7     South       Lee  532399  330499      False       False   \n",
      "8     South    McNeil  532399  330499      False       False   \n",
      "9      West   Charles  310565  165348       True       False   \n",
      "10     West      Cobb  310565  165348       True       False   \n",
      "11     West     Grant  310565  165348       True       False   \n",
      "\n",
      "    sales_minus_cost  sales_divide_cost  \n",
      "0             191795           1.842400  \n",
      "1             191795           1.842400  \n",
      "2             191795           1.842400  \n",
      "3             222426           2.610650  \n",
      "4             222426           2.610650  \n",
      "5             201900           1.610894  \n",
      "6             201900           1.610894  \n",
      "7             201900           1.610894  \n",
      "8             201900           1.610894  \n",
      "9             145217           1.878251  \n",
      "10            145217           1.878251  \n",
      "11            145217           1.878251  \n"
     ]
    }
   ],
   "source": [
    "merged_data[\"sales_divide_cost\"] = merged_data[\"sales\"]/merged_data[\"cost\"]  \n",
    "print(merged_data)"
   ]
  },
  {
   "cell_type": "code",
   "execution_count": 10,
   "metadata": {},
   "outputs": [
    {
     "name": "stdout",
     "output_type": "stream",
     "text": [
      "   A  B  C\n",
      "0  a  1  2\n",
      "1  b  3  4\n",
      "2  c  5  6\n"
     ]
    }
   ],
   "source": [
    "#create a dataset to demonstrate reshaping operations\n",
    "df = pd.DataFrame({'A': {0: 'a', 1: 'b', 2: 'c'},\n",
    "                   'B': {0: 1, 1: 3, 2: 5},\n",
    "                   'C': {0: 2, 1: 4, 2: 6}})\n",
    "print(df)"
   ]
  },
  {
   "cell_type": "code",
   "execution_count": 11,
   "metadata": {},
   "outputs": [
    {
     "name": "stdout",
     "output_type": "stream",
     "text": [
      "   A variable  value\n",
      "0  a        B      1\n",
      "1  b        B      3\n",
      "2  c        B      5\n",
      "3  a        C      2\n",
      "4  b        C      4\n",
      "5  c        C      6\n"
     ]
    }
   ],
   "source": [
    "#this data in the wide format\n",
    "#let's reshape it into long format\n",
    "long_data = df.melt(id_vars = ['A'], \n",
    "                         value_vars = ['B', 'C'])\n",
    "print(long_data)"
   ]
  },
  {
   "cell_type": "code",
   "execution_count": 12,
   "metadata": {},
   "outputs": [
    {
     "name": "stdout",
     "output_type": "stream",
     "text": [
      "variable  B  C\n",
      "A             \n",
      "a         1  2\n",
      "b         3  4\n",
      "c         5  6\n"
     ]
    }
   ],
   "source": [
    "#and now let's reshape it back to wide format\n",
    "wide_data = long_data.pivot(index='A', columns='variable', values='value')\n",
    "print(wide_data)"
   ]
  },
  {
   "cell_type": "code",
   "execution_count": 13,
   "metadata": {},
   "outputs": [
    {
     "name": "stdout",
     "output_type": "stream",
     "text": [
      "variable  B  C  A\n",
      "A                \n",
      "a         1  2  a\n",
      "b         3  4  b\n",
      "c         5  6  c\n"
     ]
    }
   ],
   "source": [
    "#create the identifier variable from the index variable\n",
    "wide_data['A'] = list(wide_data.index)\n",
    "print(wide_data)"
   ]
  },
  {
   "cell_type": "code",
   "execution_count": 18,
   "metadata": {},
   "outputs": [],
   "source": [
    "#set the random seed\n",
    "np.random.seed(12345)\n",
    "#initialize 100 sequences, each sequence is an elementary outcome\n",
    "sequences = [int(np.random.binomial(1, 0.5, 1)) for x in range(100)]\n",
    "#alternative way \n",
    "sequences = np.random.binomial(1, 0.5, 100)\n",
    "#both ways are fine, although the second one is shorter \n",
    "probabilities = [] #this will store sequences of probabilities we are after\n",
    "#toss a coin 200 times - we need 100 sequences with 200 elements each\n",
    "epsilon = 0.1 #initialize the epsilon - we are going to count \n",
    "#sequences where the absolute difference between\n",
    "#the arithmetic mean and the true mean is less than this value"
   ]
  },
  {
   "cell_type": "code",
   "execution_count": 15,
   "metadata": {},
   "outputs": [
    {
     "name": "stdout",
     "output_type": "stream",
     "text": [
      "[0.0, 0.49, 0.0, 0.37, 0.61, 0.35, 0.53, 0.27, 0.48, 0.69, 0.43, 0.63, 0.45, 0.56, 0.65, 0.48, 0.65, 0.53, 0.64, 0.73, 0.62, 0.68, 0.62, 0.7, 0.77, 0.72, 0.76, 0.7, 0.76, 0.85, 0.77, 0.8, 0.74, 0.78, 0.83, 0.78, 0.82, 0.78, 0.82, 0.86, 0.83, 0.86, 0.81, 0.85, 0.87, 0.81, 0.83, 0.82, 0.83, 0.85, 0.81, 0.84, 0.84, 0.85, 0.86, 0.86, 0.87, 0.87, 0.88, 0.89, 0.87, 0.89, 0.85, 0.88, 0.92, 0.87, 0.9, 0.86, 0.89, 0.94, 0.92, 0.93, 0.91, 0.94, 0.95, 0.93, 0.95, 0.92, 0.95, 0.96, 0.95, 0.96, 0.94, 0.96, 0.97, 0.96, 0.97, 0.96, 0.96, 0.97, 0.96, 0.97, 0.95, 0.95, 0.98, 0.95, 0.96, 0.96, 0.97, 0.97, 0.97, 0.97, 0.97, 0.97, 0.97, 0.96, 0.97, 0.96, 0.98, 0.99, 0.98, 0.98, 0.98, 0.99, 1.0, 0.99, 0.99, 0.99, 0.99, 0.99, 0.99, 0.99, 0.99, 0.99, 0.99, 0.98, 0.98, 0.98, 0.99, 0.99, 0.98, 0.99, 0.98, 0.99, 0.99, 0.99, 0.99, 0.99, 0.99, 0.99, 0.98, 0.99, 0.98, 0.98, 0.99, 0.99, 1.0, 0.99, 0.99, 1.0, 0.99, 0.99, 0.99, 1.0, 1.0, 1.0, 1.0, 1.0, 1.0, 1.0, 1.0, 1.0, 1.0, 1.0, 1.0, 1.0, 1.0, 1.0, 1.0, 1.0, 1.0, 1.0, 1.0, 1.0, 1.0, 1.0, 1.0, 1.0, 1.0, 1.0, 1.0, 1.0, 1.0, 1.0, 1.0, 1.0, 1.0, 1.0, 1.0, 1.0, 1.0, 1.0, 1.0, 1.0, 1.0, 1.0, 1.0, 1.0, 1.0, 1.0]\n"
     ]
    }
   ],
   "source": [
    "for x in range(200):\n",
    "    #initialize count for sequences that satisfy the condition\n",
    "    p = 0\n",
    "    for y in range(100):\n",
    "        #check if the arithmetic mean of the current\n",
    "        #sequence differs from the true mean by the values less than epsilon\n",
    "        p += abs(sequences[y]/(x+1) - 0.5)<epsilon\n",
    "        #update the current sequence by simulating another coin toss\n",
    "        sequences[y] += int(np.random.binomial(1, 0.5, 1))\n",
    "    probabilities += [p/100]\n",
    "print(probabilities) #indeed, the sequence of probabilities converges to 1"
   ]
  },
  {
   "cell_type": "code",
   "execution_count": 16,
   "metadata": {},
   "outputs": [
    {
     "name": "stdout",
     "output_type": "stream",
     "text": [
      "[0.0, 0.51, 0.0, 0.28, 0.63, 0.37, 0.53, 0.19, 0.49, 0.62, 0.46, 0.64, 0.46, 0.64, 0.75, 0.65, 0.76, 0.6, 0.68, 0.8, 0.61, 0.7, 0.57, 0.68, 0.79, 0.72, 0.81, 0.68, 0.8, 0.85, 0.78, 0.84, 0.73, 0.82, 0.86, 0.77, 0.81, 0.72, 0.77, 0.85, 0.78, 0.85, 0.79, 0.82, 0.87, 0.84, 0.87, 0.86, 0.89, 0.9, 0.88, 0.93, 0.89, 0.9, 0.91, 0.85, 0.9, 0.87, 0.9, 0.93, 0.9, 0.91, 0.89, 0.94, 0.96, 0.93, 0.94, 0.91, 0.92, 0.93, 0.91, 0.92, 0.89, 0.92, 0.93, 0.92, 0.92, 0.91, 0.93, 0.95, 0.92, 0.94, 0.93, 0.95, 0.95, 0.94, 0.95, 0.95, 0.97, 0.97, 0.96, 0.97, 0.94, 0.95, 0.95, 0.93, 0.95, 0.94, 0.95, 0.95, 0.95, 0.96, 0.95, 0.95, 0.95, 0.94, 0.95, 0.94, 0.95, 0.96, 0.96, 0.97, 0.94, 0.96, 0.96, 0.96, 0.96, 0.95, 0.95, 0.97, 0.96, 0.96, 0.96, 0.97, 0.97, 0.97, 0.97, 0.97, 0.97, 0.98, 0.97, 0.98, 0.98, 0.99, 0.99, 0.99, 0.99, 0.98, 0.98, 0.98, 0.98, 0.98, 0.98, 0.98, 0.99, 0.98, 0.98, 0.97, 0.98, 0.98, 0.98, 0.98, 0.97, 0.98, 1.0, 0.98, 0.98, 0.97, 1.0, 1.0, 0.99, 0.99, 0.98, 0.99, 0.99, 0.99, 0.99, 0.99, 0.99, 1.0, 0.99, 0.99, 0.99, 0.99, 0.99, 0.99, 0.99, 0.99, 0.99, 0.99, 0.99, 0.99, 0.99, 1.0, 1.0, 1.0, 1.0, 1.0, 1.0, 1.0, 1.0, 1.0, 1.0, 1.0, 1.0, 1.0, 1.0, 1.0, 1.0, 1.0]\n"
     ]
    }
   ],
   "source": [
    "#the code above can be considered as a bit cumbersome\n",
    "#below I present alternative, much shorter way involving\n",
    "#list comprehensions\n",
    "probabilities = []\n",
    "sequences = np.random.binomial(1, 0.5, 100)\n",
    "for x in range(200):\n",
    "    #initialize count for sequences that satisfy the condition\n",
    "    probabilities += [sum(abs(y/(x+1) - 0.5)<epsilon for y in sequences)/100]\n",
    "    sequences += np.random.binomial(1, 0.5, 100)\n",
    "print(probabilities) #as you can see, we obtain the same results\n",
    "\n",
    "#as you can see, weak law of large numbers concerns the sequence\n",
    "#of probabilities\n",
    "#the rigorous formulation for infinite coin toss model\n",
    "#requires considering all possible elementary outcomes\n",
    "#after each toss - this, of course, cannot be performed on computer\n",
    "#however, the ideas stay essentially the same, except we\n",
    "#consider all elementary outcomes, not just 100 arbitrarily chosen\n",
    "#ones"
   ]
  },
  {
   "cell_type": "code",
   "execution_count": 17,
   "metadata": {},
   "outputs": [
    {
     "name": "stdout",
     "output_type": "stream",
     "text": [
      "[1.0, 0.748, 0.873, 0.689, 0.808, 0.645, 0.778, 0.865, 0.76, 0.84, 0.752, 0.822, 0.726, 0.814, 0.713, 0.781, 0.687, 0.764, 0.818, 0.754, 0.814, 0.743, 0.799, 0.729, 0.792, 0.721, 0.786, 0.72, 0.785, 0.721, 0.781, 0.7, 0.762, 0.693, 0.745, 0.795, 0.745, 0.793, 0.733, 0.78, 0.737, 0.787, 0.724, 0.77, 0.72, 0.768, 0.715, 0.757, 0.706, 0.745, 0.695, 0.747, 0.695, 0.739, 0.789, 0.75, 0.789, 0.747, 0.779, 0.739, 0.773, 0.733, 0.784, 0.742, 0.775, 0.733, 0.77, 0.736, 0.774, 0.732, 0.782, 0.735, 0.771, 0.741, 0.776, 0.721, 0.766, 0.793, 0.757, 0.784, 0.745, 0.783, 0.745, 0.782, 0.745, 0.783, 0.75, 0.773, 0.737, 0.767, 0.726, 0.765, 0.729, 0.766, 0.734, 0.771, 0.726, 0.76, 0.719, 0.753, 0.717, 0.759, 0.715, 0.751, 0.717, 0.754, 0.787, 0.752, 0.785, 0.751, 0.778, 0.748, 0.785, 0.752, 0.784, 0.744, 0.768, 0.743, 0.77, 0.745, 0.777, 0.739, 0.772, 0.735, 0.768, 0.734, 0.759, 0.733, 0.767, 0.727, 0.758, 0.726, 0.762, 0.737, 0.76, 0.73, 0.753, 0.725, 0.754, 0.78, 0.75, 0.783, 0.754, 0.784, 0.759, 0.788, 0.764, 0.79, 0.759, 0.786, 0.76, 0.785, 0.755, 0.781, 0.753, 0.781, 0.747, 0.777, 0.744, 0.772, 0.738, 0.763, 0.737, 0.767, 0.736, 0.767, 0.736, 0.763, 0.736, 0.77, 0.741, 0.769, 0.737, 0.762, 0.723, 0.764, 0.786, 0.757, 0.786, 0.755, 0.779, 0.762, 0.777, 0.758, 0.777, 0.755, 0.773, 0.754, 0.775, 0.753, 0.767, 0.749, 0.769, 0.748, 0.768, 0.745, 0.765, 0.746, 0.769, 0.75]\n"
     ]
    }
   ],
   "source": [
    "#central limit theorem illustration \n",
    "percentile_75 = 0.675\n",
    "probabilities = []\n",
    "sequences = np.random.binomial(1, 0.5, 1000)\n",
    "for x in range(200):\n",
    "    #initialize count for sequences that satisfy the condition\n",
    "    probabilities += [sum(np.sqrt(x)*(y/(x+1) - 0.5)/0.5 <= percentile_75 for y in sequences)/1000]\n",
    "    sequences += np.random.binomial(1, 0.5, 1000)\n",
    "print(probabilities) #as you can see, we obtain the same results"
   ]
  },
  {
   "cell_type": "code",
   "execution_count": null,
   "metadata": {},
   "outputs": [],
   "source": []
  }
 ],
 "metadata": {
  "kernelspec": {
   "display_name": "Python 3",
   "language": "python",
   "name": "python3"
  },
  "language_info": {
   "codemirror_mode": {
    "name": "ipython",
    "version": 3
   },
   "file_extension": ".py",
   "mimetype": "text/x-python",
   "name": "python",
   "nbconvert_exporter": "python",
   "pygments_lexer": "ipython3",
   "version": "3.8.5"
  }
 },
 "nbformat": 4,
 "nbformat_minor": 4
}
