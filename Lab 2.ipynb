{
 "cells": [
  {
   "cell_type": "code",
   "execution_count": 1,
   "metadata": {},
   "outputs": [],
   "source": [
    "#loading the libraries\n",
    "import os\n",
    "import numpy as np\n",
    "import pandas as pd\n",
    "import statsmodels as sm"
   ]
  },
  {
   "cell_type": "code",
   "execution_count": 28,
   "metadata": {},
   "outputs": [],
   "source": [
    "#change the directory to the one where\n",
    "#the files are store\n",
    "os.chdir(\"/Users/sedasovevgenijaleksandrovic/Dropbox/Home_assignments/Classes HSE/Fall 2020/Introduction to Political Methodology/Week 4/Python Lab\")"
   ]
  },
  {
   "cell_type": "code",
   "execution_count": 29,
   "metadata": {},
   "outputs": [
    {
     "name": "stdout",
     "output_type": "stream",
     "text": [
      "     region      name\n",
      "0   N Cntrl    Krantz\n",
      "1   N Cntrl    Phipps\n",
      "2   N Cntrl    Willis\n",
      "3        NE   Ecklund\n",
      "4        NE    Franks\n",
      "5     South  Anderson\n",
      "6     South   Dubnoff\n",
      "7     South       Lee\n",
      "8     South    McNeil\n",
      "9      West   Charles\n",
      "10     West      Cobb\n",
      "11     West     Grant\n"
     ]
    }
   ],
   "source": [
    "#let's start by loading datasets into Python\n",
    "dataset1 = pd.read_csv(\"sforce.csv\")\n",
    "dataset2 = pd.read_csv(\"dollars.csv\")   \n",
    "print(dataset1)"
   ]
  },
  {
   "cell_type": "code",
   "execution_count": 30,
   "metadata": {},
   "outputs": [
    {
     "name": "stdout",
     "output_type": "stream",
     "text": [
      "    region   sales    cost\n",
      "0  N Cntrl  419472  227677\n",
      "1       NE  360523  138097\n",
      "2    South  532399  330499\n",
      "3     West  310565  165348\n"
     ]
    }
   ],
   "source": [
    "print(dataset2)\n",
    "#as you can see, here we have one identifier variable\n",
    "#region"
   ]
  },
  {
   "cell_type": "code",
   "execution_count": 32,
   "metadata": {},
   "outputs": [
    {
     "name": "stdout",
     "output_type": "stream",
     "text": [
      "     region      name   sales    cost\n",
      "0   N Cntrl    Krantz  419472  227677\n",
      "1   N Cntrl    Phipps  419472  227677\n",
      "2   N Cntrl    Willis  419472  227677\n",
      "3        NE   Ecklund  360523  138097\n",
      "4        NE    Franks  360523  138097\n",
      "5     South  Anderson  532399  330499\n",
      "6     South   Dubnoff  532399  330499\n",
      "7     South       Lee  532399  330499\n",
      "8     South    McNeil  532399  330499\n",
      "9      West   Charles  310565  165348\n",
      "10     West      Cobb  310565  165348\n",
      "11     West     Grant  310565  165348\n"
     ]
    }
   ],
   "source": [
    "#we can merge on region using the standard pandas functionality\n",
    "merged_data = pd.merge(dataset1, dataset2, on = [\"region\"])\n",
    "print(merged_data)"
   ]
  },
  {
   "cell_type": "code",
   "execution_count": 33,
   "metadata": {},
   "outputs": [
    {
     "name": "stdout",
     "output_type": "stream",
     "text": [
      "     region      name   sales    cost  sales_low\n",
      "0   N Cntrl    Krantz  419472  227677      False\n",
      "1   N Cntrl    Phipps  419472  227677      False\n",
      "2   N Cntrl    Willis  419472  227677      False\n",
      "3        NE   Ecklund  360523  138097       True\n",
      "4        NE    Franks  360523  138097       True\n",
      "5     South  Anderson  532399  330499      False\n",
      "6     South   Dubnoff  532399  330499      False\n",
      "7     South       Lee  532399  330499      False\n",
      "8     South    McNeil  532399  330499      False\n",
      "9      West   Charles  310565  165348       True\n",
      "10     West      Cobb  310565  165348       True\n",
      "11     West     Grant  310565  165348       True\n"
     ]
    }
   ],
   "source": [
    "#we can also use Pandas to create new variables\n",
    "merged_data[\"sales_low\"] = [x<=400000 for x in merged_data[\"sales\"]]\n",
    "print(merged_data)"
   ]
  },
  {
   "cell_type": "code",
   "execution_count": 34,
   "metadata": {},
   "outputs": [
    {
     "name": "stdout",
     "output_type": "stream",
     "text": [
      "     region      name   sales    cost  sales_low  sales_cost\n",
      "0   N Cntrl    Krantz  419472  227677      False       False\n",
      "1   N Cntrl    Phipps  419472  227677      False       False\n",
      "2   N Cntrl    Willis  419472  227677      False       False\n",
      "3        NE   Ecklund  360523  138097       True        True\n",
      "4        NE    Franks  360523  138097       True        True\n",
      "5     South  Anderson  532399  330499      False       False\n",
      "6     South   Dubnoff  532399  330499      False       False\n",
      "7     South       Lee  532399  330499      False       False\n",
      "8     South    McNeil  532399  330499      False       False\n",
      "9      West   Charles  310565  165348       True       False\n",
      "10     West      Cobb  310565  165348       True       False\n",
      "11     West     Grant  310565  165348       True       False\n"
     ]
    }
   ],
   "source": [
    "#combining multiple conditions is also possible    \n",
    "merged_data[\"sales_cost\"] = [x<=400000 and y <=150000 for x,y in zip(merged_data[\"sales\"], merged_data[\"cost\"])]\n",
    "print(merged_data)"
   ]
  },
  {
   "cell_type": "code",
   "execution_count": 38,
   "metadata": {},
   "outputs": [
    {
     "name": "stdout",
     "output_type": "stream",
     "text": [
      "     region      name   sales    cost  sales_low  sales_cost\n",
      "0   N Cntrl    Krantz  419472  227677      False       False\n",
      "1   N Cntrl    Phipps  419472  227677      False       False\n",
      "2   N Cntrl    Willis  419472  227677      False       False\n",
      "3        NE   Ecklund  360523  138097       True        True\n",
      "4        NE    Franks  360523  138097       True        True\n",
      "5     South  Anderson  532399  330499      False       False\n",
      "6     South   Dubnoff  532399  330499      False       False\n",
      "7     South       Lee  532399  330499      False       False\n",
      "8     South    McNeil  532399  330499      False       False\n",
      "9      West   Charles  310565  165348       True       False\n",
      "10     West      Cobb  310565  165348       True       False\n",
      "11     West     Grant  310565  165348       True       False\n"
     ]
    }
   ],
   "source": [
    "#combining multiple conditions is also possible    \n",
    "merged_data[\"sales_cost\"] = [merged_data[\"sales\"][x]<=400000 and merged_data[\"cost\"][x] <=150000 for x in range(len(merged_data))]\n",
    "print(merged_data)"
   ]
  },
  {
   "cell_type": "code",
   "execution_count": 39,
   "metadata": {},
   "outputs": [
    {
     "name": "stdout",
     "output_type": "stream",
     "text": [
      "     region      name   sales    cost  sales_low  sales_cost  sales_minus_cost\n",
      "0   N Cntrl    Krantz  419472  227677      False       False            191795\n",
      "1   N Cntrl    Phipps  419472  227677      False       False            191795\n",
      "2   N Cntrl    Willis  419472  227677      False       False            191795\n",
      "3        NE   Ecklund  360523  138097       True        True            222426\n",
      "4        NE    Franks  360523  138097       True        True            222426\n",
      "5     South  Anderson  532399  330499      False       False            201900\n",
      "6     South   Dubnoff  532399  330499      False       False            201900\n",
      "7     South       Lee  532399  330499      False       False            201900\n",
      "8     South    McNeil  532399  330499      False       False            201900\n",
      "9      West   Charles  310565  165348       True       False            145217\n",
      "10     West      Cobb  310565  165348       True       False            145217\n",
      "11     West     Grant  310565  165348       True       False            145217\n"
     ]
    }
   ],
   "source": [
    "#pandas also supports element-wise operations\n",
    "merged_data[\"sales_minus_cost\"] = merged_data[\"sales\"] - merged_data[\"cost\"]  \n",
    "print(merged_data)"
   ]
  },
  {
   "cell_type": "code",
   "execution_count": 40,
   "metadata": {},
   "outputs": [
    {
     "name": "stdout",
     "output_type": "stream",
     "text": [
      "     region      name   sales    cost  sales_low  sales_cost  \\\n",
      "0   N Cntrl    Krantz  419472  227677      False       False   \n",
      "1   N Cntrl    Phipps  419472  227677      False       False   \n",
      "2   N Cntrl    Willis  419472  227677      False       False   \n",
      "3        NE   Ecklund  360523  138097       True        True   \n",
      "4        NE    Franks  360523  138097       True        True   \n",
      "5     South  Anderson  532399  330499      False       False   \n",
      "6     South   Dubnoff  532399  330499      False       False   \n",
      "7     South       Lee  532399  330499      False       False   \n",
      "8     South    McNeil  532399  330499      False       False   \n",
      "9      West   Charles  310565  165348       True       False   \n",
      "10     West      Cobb  310565  165348       True       False   \n",
      "11     West     Grant  310565  165348       True       False   \n",
      "\n",
      "    sales_minus_cost  sales_divide_cost  \n",
      "0             191795           1.842400  \n",
      "1             191795           1.842400  \n",
      "2             191795           1.842400  \n",
      "3             222426           2.610650  \n",
      "4             222426           2.610650  \n",
      "5             201900           1.610894  \n",
      "6             201900           1.610894  \n",
      "7             201900           1.610894  \n",
      "8             201900           1.610894  \n",
      "9             145217           1.878251  \n",
      "10            145217           1.878251  \n",
      "11            145217           1.878251  \n"
     ]
    }
   ],
   "source": [
    "merged_data[\"sales_divide_cost\"] = merged_data[\"sales\"]/merged_data[\"cost\"]  \n",
    "print(merged_data)"
   ]
  },
  {
   "cell_type": "code",
   "execution_count": 41,
   "metadata": {},
   "outputs": [
    {
     "name": "stdout",
     "output_type": "stream",
     "text": [
      "   A  B  C\n",
      "0  a  1  2\n",
      "1  b  3  4\n",
      "2  c  5  6\n"
     ]
    }
   ],
   "source": [
    "#create a dataset to demonstrate reshaping operations\n",
    "df = pd.DataFrame({'A': {0: 'a', 1: 'b', 2: 'c'},\n",
    "                   'B': {0: 1, 1: 3, 2: 5},\n",
    "                   'C': {0: 2, 1: 4, 2: 6}})\n",
    "print(df)"
   ]
  },
  {
   "cell_type": "code",
   "execution_count": 42,
   "metadata": {},
   "outputs": [
    {
     "name": "stdout",
     "output_type": "stream",
     "text": [
      "   A variable  value\n",
      "0  a        B      1\n",
      "1  b        B      3\n",
      "2  c        B      5\n",
      "3  a        C      2\n",
      "4  b        C      4\n",
      "5  c        C      6\n"
     ]
    }
   ],
   "source": [
    "#this data in the wide format\n",
    "#let's reshape it into long format\n",
    "long_data = df.melt(id_vars = ['A'], \n",
    "                         value_vars = ['B', 'C'])\n",
    "print(long_data)"
   ]
  },
  {
   "cell_type": "code",
   "execution_count": 43,
   "metadata": {},
   "outputs": [
    {
     "name": "stdout",
     "output_type": "stream",
     "text": [
      "variable  B  C\n",
      "A             \n",
      "a         1  2\n",
      "b         3  4\n",
      "c         5  6\n"
     ]
    }
   ],
   "source": [
    "#and now let's reshape it back to wide format\n",
    "wide_data = long_data.pivot(index='A', columns='variable', values='value')\n",
    "print(wide_data)"
   ]
  },
  {
   "cell_type": "code",
   "execution_count": 44,
   "metadata": {},
   "outputs": [
    {
     "name": "stdout",
     "output_type": "stream",
     "text": [
      "variable  B  C  A\n",
      "A                \n",
      "a         1  2  a\n",
      "b         3  4  b\n",
      "c         5  6  c\n"
     ]
    }
   ],
   "source": [
    "#create the identifier variable from the index variable\n",
    "wide_data['A'] = list(wide_data.index)\n",
    "print(wide_data)"
   ]
  },
  {
   "cell_type": "code",
   "execution_count": 56,
   "metadata": {},
   "outputs": [],
   "source": [
    "#set the random seed\n",
    "np.random.seed(12345)\n",
    "#initialize 100 sequences, each sequence is an elementary outcome\n",
    "sequences = [int(np.random.binomial(1, 0.5, 1)) for x in range(100)]\n",
    "#alternative way \n",
    "sequences = np.random.binomial(1, 0.5, 100)\n",
    "#both ways are fine, although the second one is shorter \n",
    "probabilities = [] #this will store sequences of probabilities we are after\n",
    "#toss a coin 200 times - we need 100 sequences with 200 elements each\n",
    "epsilon = 0.1 #initialize the epsilon - we are going to count \n",
    "#sequences where the absolute difference between\n",
    "#the arithmetic mean and the true mean is less than this value"
   ]
  },
  {
   "cell_type": "code",
   "execution_count": 55,
   "metadata": {},
   "outputs": [
    {
     "name": "stdout",
     "output_type": "stream",
     "text": [
      "[0.0, 0.49, 0.0, 0.37, 0.61, 0.35, 0.53, 0.27, 0.48, 0.69, 0.43, 0.63, 0.45, 0.56, 0.65, 0.48, 0.65, 0.53, 0.64, 0.73, 0.62, 0.68, 0.62, 0.7, 0.77, 0.72, 0.76, 0.7, 0.76, 0.85, 0.77, 0.8, 0.74, 0.78, 0.83, 0.78, 0.82, 0.78, 0.82, 0.86, 0.83, 0.86, 0.81, 0.85, 0.87, 0.81, 0.83, 0.82, 0.83, 0.85, 0.81, 0.84, 0.84, 0.85, 0.86, 0.86, 0.87, 0.87, 0.88, 0.89, 0.87, 0.89, 0.85, 0.88, 0.92, 0.87, 0.9, 0.86, 0.89, 0.94, 0.92, 0.93, 0.91, 0.94, 0.95, 0.93, 0.95, 0.92, 0.95, 0.96, 0.95, 0.96, 0.94, 0.96, 0.97, 0.96, 0.97, 0.96, 0.96, 0.97, 0.96, 0.97, 0.95, 0.95, 0.98, 0.95, 0.96, 0.96, 0.97, 0.97, 0.97, 0.97, 0.97, 0.97, 0.97, 0.96, 0.97, 0.96, 0.98, 0.99, 0.98, 0.98, 0.98, 0.99, 1.0, 0.99, 0.99, 0.99, 0.99, 0.99, 0.99, 0.99, 0.99, 0.99, 0.99, 0.98, 0.98, 0.98, 0.99, 0.99, 0.98, 0.99, 0.98, 0.99, 0.99, 0.99, 0.99, 0.99, 0.99, 0.99, 0.98, 0.99, 0.98, 0.98, 0.99, 0.99, 1.0, 0.99, 0.99, 1.0, 0.99, 0.99, 0.99, 1.0, 1.0, 1.0, 1.0, 1.0, 1.0, 1.0, 1.0, 1.0, 1.0, 1.0, 1.0, 1.0, 1.0, 1.0, 1.0, 1.0, 1.0, 1.0, 1.0, 1.0, 1.0, 1.0, 1.0, 1.0, 1.0, 1.0, 1.0, 1.0, 1.0, 1.0, 1.0, 1.0, 1.0, 1.0, 1.0, 1.0, 1.0, 1.0, 1.0, 1.0, 1.0, 1.0, 1.0, 1.0, 1.0, 1.0]\n"
     ]
    }
   ],
   "source": [
    "for x in range(200):\n",
    "    #initialize count for sequences that satisfy the condition\n",
    "    p = 0\n",
    "    for y in range(100):\n",
    "        #check if the arithmetic mean of the current\n",
    "        #sequence differs from the true mean by the values less than epsilon\n",
    "        p += abs(sequences[y]/(x+1) - 0.5)<epsilon\n",
    "        #update the current sequence by simulating another coin toss\n",
    "        sequences[y] += int(np.random.binomial(1, 0.5, 1))\n",
    "    probabilities += [p/100]\n",
    "print(probabilities) #indeed, the sequence of probabilities converges to 1"
   ]
  },
  {
   "cell_type": "code",
   "execution_count": 57,
   "metadata": {},
   "outputs": [
    {
     "name": "stdout",
     "output_type": "stream",
     "text": [
      "[0.0, 0.49, 0.0, 0.44, 0.67, 0.28, 0.52, 0.26, 0.49, 0.61, 0.45, 0.61, 0.44, 0.55, 0.7, 0.54, 0.64, 0.56, 0.67, 0.72, 0.61, 0.71, 0.65, 0.72, 0.8, 0.72, 0.77, 0.67, 0.76, 0.81, 0.73, 0.83, 0.72, 0.8, 0.84, 0.8, 0.82, 0.77, 0.83, 0.85, 0.83, 0.86, 0.79, 0.82, 0.87, 0.8, 0.86, 0.78, 0.82, 0.86, 0.81, 0.87, 0.85, 0.86, 0.87, 0.85, 0.88, 0.86, 0.88, 0.9, 0.87, 0.9, 0.86, 0.89, 0.91, 0.89, 0.91, 0.87, 0.93, 0.95, 0.92, 0.96, 0.94, 0.95, 0.97, 0.95, 0.96, 0.92, 0.95, 0.96, 0.96, 0.96, 0.95, 0.96, 0.96, 0.96, 0.97, 0.96, 0.97, 0.99, 0.97, 0.97, 0.95, 0.98, 0.98, 0.96, 0.97, 0.97, 0.97, 0.98, 0.97, 0.97, 0.97, 0.97, 0.98, 0.97, 0.99, 0.98, 0.99, 0.99, 0.97, 0.99, 0.98, 1.0, 1.0, 0.99, 0.99, 0.99, 0.99, 0.99, 0.99, 0.99, 0.99, 0.99, 0.99, 0.98, 0.99, 0.99, 0.99, 0.99, 0.99, 0.99, 0.99, 0.99, 0.99, 0.99, 0.99, 0.99, 0.99, 0.99, 0.99, 0.99, 0.98, 0.99, 1.0, 1.0, 1.0, 0.99, 1.0, 1.0, 0.99, 1.0, 1.0, 1.0, 1.0, 1.0, 1.0, 1.0, 1.0, 1.0, 1.0, 1.0, 1.0, 1.0, 1.0, 1.0, 1.0, 1.0, 1.0, 1.0, 1.0, 1.0, 1.0, 1.0, 1.0, 1.0, 1.0, 1.0, 1.0, 1.0, 1.0, 1.0, 1.0, 1.0, 1.0, 1.0, 1.0, 1.0, 1.0, 1.0, 1.0, 1.0, 1.0, 1.0, 1.0, 1.0, 1.0, 1.0, 1.0, 1.0]\n"
     ]
    }
   ],
   "source": [
    "#the code above can be considered as a bit cumbersome\n",
    "#below I present alternative, much shorter way involving\n",
    "#list comprehensions\n",
    "probabilities = []\n",
    "sequences = np.random.binomial(1, 0.5, 100)\n",
    "for x in range(200):\n",
    "    #initialize count for sequences that satisfy the condition\n",
    "    probabilities += [sum(abs(y/(x+1) - 0.5)<epsilon for y in sequences)/100]\n",
    "    sequences += np.random.binomial(1, 0.5, 100)\n",
    "print(probabilities) #as you can see, we obtain the same results\n",
    "\n",
    "#as you can see, weak law of large numbers concerns the sequence\n",
    "#of probabilities\n",
    "#the rigorous formulation for infinite coin toss model\n",
    "#requires considering all possible elementary outcomes\n",
    "#after each toss - this, of course, cannot be performed on computer\n",
    "#however, the ideas stay essentially the same, except we\n",
    "#consider all elementary outcomes, not just 100 arbitrarily chosen\n",
    "#ones"
   ]
  },
  {
   "cell_type": "code",
   "execution_count": 59,
   "metadata": {},
   "outputs": [
    {
     "name": "stdout",
     "output_type": "stream",
     "text": [
      "[1.0, 1.0, 0.864, 0.931, 0.967, 0.89, 0.928, 0.865, 0.92, 0.947, 0.895, 0.929, 0.872, 0.913, 0.936, 0.898, 0.927, 0.891, 0.913, 0.871, 0.91, 0.934, 0.901, 0.925, 0.896, 0.919, 0.89, 0.92, 0.94, 0.914, 0.93, 0.896, 0.923, 0.898, 0.92, 0.89, 0.913, 0.938, 0.91, 0.928, 0.907, 0.925, 0.893, 0.916, 0.887, 0.91, 0.881, 0.909, 0.929, 0.899, 0.919, 0.894, 0.917, 0.889, 0.912, 0.879, 0.911, 0.877, 0.908, 0.92, 0.897, 0.918, 0.891, 0.915, 0.888, 0.912, 0.884, 0.907, 0.883, 0.908, 0.882, 0.898, 0.915, 0.892, 0.912, 0.893, 0.906, 0.884, 0.905, 0.88, 0.905, 0.886, 0.902, 0.879, 0.899, 0.883, 0.9, 0.908, 0.89, 0.906, 0.892, 0.904, 0.886, 0.907, 0.889, 0.903, 0.888, 0.908, 0.886, 0.905, 0.88, 0.898, 0.913, 0.898, 0.913, 0.894, 0.906, 0.886, 0.9, 0.883, 0.9, 0.889, 0.898, 0.881, 0.894, 0.881, 0.899, 0.883, 0.899, 0.914, 0.9, 0.917, 0.896, 0.912, 0.892, 0.905, 0.892, 0.908, 0.887, 0.903, 0.884, 0.897, 0.885, 0.903, 0.89, 0.903, 0.908, 0.898, 0.91, 0.896, 0.906, 0.898, 0.91, 0.895, 0.902, 0.893, 0.9, 0.888, 0.9, 0.887, 0.9, 0.887, 0.897, 0.885, 0.897, 0.909, 0.896, 0.909, 0.896, 0.907, 0.896, 0.907, 0.892, 0.904, 0.888, 0.907, 0.889, 0.902, 0.883, 0.898, 0.887, 0.896, 0.886, 0.893, 0.91, 0.888, 0.91, 0.894, 0.904, 0.891, 0.902, 0.888, 0.903, 0.891, 0.898, 0.889, 0.902, 0.89, 0.897, 0.886, 0.894, 0.883, 0.895, 0.881, 0.897, 0.881, 0.893, 0.904, 0.893, 0.909]\n"
     ]
    }
   ],
   "source": [
    "#central limit theorem illustration \n",
    "percentile_90 = 1.282\n",
    "probabilities = []\n",
    "sequences = np.random.binomial(1, 0.5, 1000)\n",
    "for x in range(200):\n",
    "    #initialize count for sequences that satisfy the condition\n",
    "    probabilities += [sum(np.sqrt(x)*(y/(x+1) - 0.5)/0.5 <= percentile_90 for y in sequences)/1000]\n",
    "    sequences += np.random.binomial(1, 0.5, 1000)\n",
    "print(probabilities) #as you can see, we obtain the same results"
   ]
  },
  {
   "cell_type": "code",
   "execution_count": null,
   "metadata": {},
   "outputs": [],
   "source": []
  }
 ],
 "metadata": {
  "kernelspec": {
   "display_name": "Python 3",
   "language": "python",
   "name": "python3"
  },
  "language_info": {
   "codemirror_mode": {
    "name": "ipython",
    "version": 3
   },
   "file_extension": ".py",
   "mimetype": "text/x-python",
   "name": "python",
   "nbconvert_exporter": "python",
   "pygments_lexer": "ipython3",
   "version": "3.8.5"
  }
 },
 "nbformat": 4,
 "nbformat_minor": 4
}
